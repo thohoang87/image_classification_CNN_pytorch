{
  "cells": [
    {
      "cell_type": "code",
      "execution_count": 44,
      "metadata": {
        "colab": {
          "base_uri": "https://localhost:8080/"
        },
        "id": "V_R2vhcVNZUU",
        "outputId": "69872447-d260-4f55-dd99-06ff369f2b81"
      },
      "outputs": [
        {
          "output_type": "stream",
          "name": "stdout",
          "text": [
            "Drive already mounted at /content/drive/; to attempt to forcibly remount, call drive.mount(\"/content/drive/\", force_remount=True).\n"
          ]
        }
      ],
      "source": [
        "# connect to google drive\n",
        "from google.colab import drive\n",
        "drive.mount(\"/content/drive/\")"
      ]
    },
    {
      "cell_type": "code",
      "execution_count": 45,
      "metadata": {
        "id": "N3nCrwyVNyIk"
      },
      "outputs": [],
      "source": [
        "from __future__ import print_function, division\n",
        "import torch\n",
        "import torch.nn as nn\n",
        "import torch.optim as optim\n",
        "from torch.optim import lr_scheduler\n",
        "import torch.backends.cudnn as cudnn\n",
        "import numpy as np\n",
        "import torchvision\n",
        "from torchvision import datasets, models, transforms\n",
        "import torch.nn.functional as F\n",
        "import matplotlib.pyplot as plt\n",
        "import time\n",
        "import os\n",
        "import copy\n",
        "from sklearn.metrics import confusion_matrix\n",
        "from sklearn.ensemble import GradientBoostingClassifier\n",
        "from sklearn.model_selection import GridSearchCV\n",
        "from sklearn.metrics import make_scorer, f1_score"
      ]
    },
    {
      "cell_type": "markdown",
      "metadata": {
        "id": "vaq-TnQmlsQD"
      },
      "source": [
        "# Data loader and preprocessing"
      ]
    },
    {
      "cell_type": "code",
      "execution_count": null,
      "metadata": {
        "id": "1UMKdyilS1SJ"
      },
      "outputs": [],
      "source": [
        "# Applying Transforms to the Data\n",
        "# Data augmentation and normalization for training\n",
        "# Just normalization for validation and test\n",
        "data_transforms = { \n",
        "    'train': transforms.Compose([\n",
        "        transforms.RandomResizedCrop(size=256, scale=(0.8, 1.0)),\n",
        "        transforms.RandomRotation(degrees=15),\n",
        "        transforms.RandomHorizontalFlip(),\n",
        "        transforms.CenterCrop(size=224),\n",
        "        transforms.ToTensor(),\n",
        "        transforms.Normalize([0.485, 0.456, 0.406],\n",
        "                             [0.229, 0.224, 0.225])\n",
        "    ]),\n",
        "    'valid': transforms.Compose([\n",
        "        transforms.Resize(size=256),\n",
        "        transforms.CenterCrop(size=224),\n",
        "        transforms.ToTensor(),\n",
        "        transforms.Normalize([0.485, 0.456, 0.406],\n",
        "                             [0.229, 0.224, 0.225])\n",
        "    ]),\n",
        "    'test': transforms.Compose([\n",
        "        transforms.Resize(size=256),\n",
        "        transforms.CenterCrop(size=224),\n",
        "        transforms.ToTensor(),\n",
        "        transforms.Normalize([0.485, 0.456, 0.406],\n",
        "                             [0.229, 0.224, 0.225])\n",
        "    ]),\n",
        "    'test_balanced': transforms.Compose([\n",
        "        transforms.Resize(size=256),\n",
        "        transforms.CenterCrop(size=224),\n",
        "        transforms.ToTensor(),\n",
        "        transforms.Normalize([0.485, 0.456, 0.406],\n",
        "                             [0.229, 0.224, 0.225])\n",
        "    ])\n",
        "}"
      ]
    },
    {
      "cell_type": "code",
      "execution_count": null,
      "metadata": {
        "id": "MX5PZMhRQGZ2",
        "colab": {
          "base_uri": "https://localhost:8080/"
        },
        "outputId": "ce2e7ffe-a077-4b37-d661-26cc1e7888d6"
      },
      "outputs": [
        {
          "output_type": "stream",
          "name": "stderr",
          "text": [
            "/usr/local/lib/python3.8/dist-packages/torch/utils/data/dataloader.py:554: UserWarning: This DataLoader will create 4 worker processes in total. Our suggested max number of worker in current system is 2, which is smaller than what this DataLoader is going to create. Please be aware that excessive worker creation might get DataLoader running slow or even freeze, lower the worker number to avoid potential slowness/freeze if necessary.\n",
            "  warnings.warn(_create_warning_msg(\n"
          ]
        }
      ],
      "source": [
        "# Set the directory for the data\n",
        "data_dir = '/content/drive/MyDrive/projet ML DL/dataset'\n",
        "\n",
        "image_datasets = {x: datasets.ImageFolder(os.path.join(data_dir, x),data_transforms[x]) for x in ['train', 'valid','test','test_balanced']}\n",
        "dataloaders = {x: torch.utils.data.DataLoader(image_datasets[x], batch_size=32, shuffle=True, num_workers=4) for x in ['train', 'valid','test','test_balanced']}\n",
        "dataset_sizes = {x: len(image_datasets[x]) for x in ['train', 'valid','test','test_balanced']}\n",
        "class_names = image_datasets['train'].classes\n",
        "\n",
        "device = torch.device(\"cuda:0\" if torch.cuda.is_available() else \"cpu\")"
      ]
    },
    {
      "cell_type": "code",
      "execution_count": null,
      "metadata": {
        "colab": {
          "base_uri": "https://localhost:8080/"
        },
        "id": "N1iO9C5CH88A",
        "outputId": "05315478-cadb-4312-f51d-e8e53276e192"
      },
      "outputs": [
        {
          "output_type": "execute_result",
          "data": {
            "text/plain": [
              "device(type='cuda', index=0)"
            ]
          },
          "metadata": {},
          "execution_count": 5
        }
      ],
      "source": [
        "# verify the device\n",
        "device"
      ]
    },
    {
      "cell_type": "code",
      "execution_count": null,
      "metadata": {
        "colab": {
          "base_uri": "https://localhost:8080/"
        },
        "id": "ISjg7qegVNMS",
        "outputId": "a2d67dc4-f2f1-4219-c55a-b41ac5a83417"
      },
      "outputs": [
        {
          "output_type": "execute_result",
          "data": {
            "text/plain": [
              "['damage', 'no_damage']"
            ]
          },
          "metadata": {},
          "execution_count": 6
        }
      ],
      "source": [
        "# verify class names\n",
        "class_names = image_datasets['train'].classes\n",
        "class_names"
      ]
    },
    {
      "cell_type": "code",
      "execution_count": null,
      "metadata": {
        "colab": {
          "base_uri": "https://localhost:8080/",
          "height": 192
        },
        "id": "EwfGYVk_WR9B",
        "outputId": "b14be657-4d74-40fd-c375-022c3e1a9c5f"
      },
      "outputs": [
        {
          "output_type": "stream",
          "name": "stderr",
          "text": [
            "/usr/local/lib/python3.8/dist-packages/torch/utils/data/dataloader.py:554: UserWarning: This DataLoader will create 4 worker processes in total. Our suggested max number of worker in current system is 2, which is smaller than what this DataLoader is going to create. Please be aware that excessive worker creation might get DataLoader running slow or even freeze, lower the worker number to avoid potential slowness/freeze if necessary.\n",
            "  warnings.warn(_create_warning_msg(\n"
          ]
        },
        {
          "output_type": "stream",
          "name": "stdout",
          "text": [
            "torch.Size([32, 3, 224, 224])\n"
          ]
        },
        {
          "output_type": "display_data",
          "data": {
            "text/plain": [
              "<Figure size 432x288 with 1 Axes>"
            ],
            "image/png": "[encoded data removed]"
          },
          "metadata": {
            "needs_background": "light"
          }
        }
      ],
      "source": [
        "# visualize a few training images\n",
        "def imshow(inp, title=None):\n",
        "    \"\"\"Imshow for Tensor.\"\"\"\n",
        "    inp = inp.numpy().transpose((1, 2, 0))\n",
        "    mean = np.array([0.485, 0.456, 0.406])\n",
        "    std = np.array([0.229, 0.224, 0.225])\n",
        "    inp = std * inp + mean\n",
        "    inp = np.clip(inp, 0, 1)\n",
        "    plt.imshow(inp)\n",
        "    if title is not None:\n",
        "        plt.title(title)\n",
        "    plt.pause(0.001)  # pause a bit so that plots are updated\n",
        "\n",
        "\n",
        "# Get a batch of training data\n",
        "inputs, classes = next(iter(dataloaders['train']))\n",
        "print(inputs.shape)\n",
        "# Make a grid from batch\n",
        "out = torchvision.utils.make_grid(inputs)\n",
        "\n",
        "imshow(out, title=[class_names[x] for x in classes])"
      ]
    },
    {
      "cell_type": "code",
      "execution_count": null,
      "metadata": {
        "id": "ysY9xe2VrFeL"
      },
      "outputs": [],
      "source": [
        "# define the training model function:\n",
        "\n",
        "def train_model(model, criterion, optimizer, scheduler, num_epochs=30):\n",
        "    since = time.time()\n",
        "\n",
        "    best_model_wts = copy.deepcopy(model.state_dict())\n",
        "    best_acc = 0.0\n",
        "\n",
        "    for epoch in range(num_epochs):\n",
        "        print(f'Epoch {epoch}/{num_epochs -1}')\n",
        "        print('-' * 10)\n",
        "\n",
        "        # Each epoch has a training and validation phase\n",
        "        for phase in ['train', 'valid']:\n",
        "            if phase == 'train':\n",
        "                model.train()  # Set model to training mode\n",
        "            else:\n",
        "                model.eval()   # Set model to evaluate mode\n",
        "\n",
        "            running_loss = 0.0\n",
        "            running_corrects = 0\n",
        "\n",
        "            # Iterate over data.\n",
        "            for inputs, labels in dataloaders[phase]:\n",
        "                inputs = inputs.to(device)\n",
        "                labels = labels.to(device)\n",
        "\n",
        "                # zero the parameter gradients\n",
        "                optimizer.zero_grad()\n",
        "\n",
        "                # forward\n",
        "                # track history if only in train\n",
        "                with torch.set_grad_enabled(phase == 'train'):\n",
        "                    outputs = model(inputs)\n",
        "                    _, preds = torch.max(outputs, 1)\n",
        "                    loss = criterion(outputs, labels)\n",
        "\n",
        "                    # backward + optimize only if in training phase\n",
        "                    if phase == 'train':\n",
        "                        loss.backward()\n",
        "                        optimizer.step()\n",
        "\n",
        "                # statistics\n",
        "                running_loss += loss.item() * inputs.size(0)\n",
        "                running_corrects += torch.sum(preds == labels.data)\n",
        "            if phase == 'train':\n",
        "                scheduler.step()\n",
        "\n",
        "            epoch_loss = running_loss / dataset_sizes[phase]\n",
        "            epoch_acc = running_corrects.double() / dataset_sizes[phase]\n",
        "\n",
        "            print(f'{phase} Loss: {epoch_loss:.4f} Acc: {epoch_acc:.4f}')\n",
        "\n",
        "            # deep copy the model\n",
        "            if phase == 'valid' and epoch_acc > best_acc:\n",
        "                best_acc = epoch_acc\n",
        "                best_model_wts = copy.deepcopy(model.state_dict())\n",
        "\n",
        "        print()\n",
        "\n",
        "    time_elapsed = time.time() - since\n",
        "    print(f'Training complete in {time_elapsed // 60:.0f}m {time_elapsed % 60:.0f}s')\n",
        "    print(f'Best val Acc: {best_acc:4f}')\n",
        "\n",
        "    # load best model weights\n",
        "    model.load_state_dict(best_model_wts)\n",
        "    return model"
      ]
    },
    {
      "cell_type": "code",
      "execution_count": null,
      "metadata": {
        "id": "LbDtFVijJihb"
      },
      "outputs": [],
      "source": [
        "# define the prediction function\n",
        "def test_model(model,datas,device):\n",
        "    CM=0\n",
        "    model.eval()\n",
        "    for inputs, labels in datas:\n",
        "      inputs = inputs.to(device)\n",
        "      labels = labels.to(device)\n",
        "\n",
        "      with torch.no_grad():\n",
        "        outputs = model(inputs) #file_name\n",
        "        preds = torch.argmax(outputs.data, 1)\n",
        "        CM+=confusion_matrix(labels.cpu(), preds.cpu(),labels=[0,1])\n",
        "\n",
        "    tn=CM[0][0]\n",
        "    tp=CM[1][1]\n",
        "    fp=CM[0][1]\n",
        "    fn=CM[1][0]\n",
        "    acc=np.sum(np.diag(CM)/np.sum(CM))\n",
        "    sensitivity=tp/(tp+fn)\n",
        "    precision=tp/(tp+fp)\n",
        "    f1 = ((2*sensitivity*precision)/(sensitivity+precision))*100\n",
        "\n",
        "    print('Accuracy : %f %%' % (100 * acc))\n",
        "    print('F1 : ',f1)\n",
        "                \n",
        "    return acc, f1"
      ]
    },
    {
      "cell_type": "code",
      "execution_count": null,
      "metadata": {
        "id": "yXR9Xok9w64v"
      },
      "outputs": [],
      "source": [
        "def visualize_model(model, num_images=6):\n",
        "    was_training = model.training\n",
        "    model.eval()\n",
        "    images_so_far = 0\n",
        "    fig = plt.figure()\n",
        "\n",
        "    with torch.no_grad():\n",
        "        for i, (inputs, labels) in enumerate(dataloaders['valid']):\n",
        "            inputs = inputs.to(device)\n",
        "            labels = labels.to(device)\n",
        "\n",
        "            outputs = model(inputs)\n",
        "            _, preds = torch.max(outputs, 1)\n",
        "\n",
        "            for j in range(inputs.size()[0]):\n",
        "                images_so_far += 1\n",
        "                ax = plt.subplot(num_images//2, 2, images_so_far)\n",
        "                ax.axis('off')\n",
        "                ax.set_title(f'predicted: {class_names[preds[j]]}')\n",
        "                imshow(inputs.cpu().data[j])\n",
        "\n",
        "                if images_so_far == num_images:\n",
        "                    model.train(mode=was_training)\n",
        "                    return\n",
        "        model.train(mode=was_training)"
      ]
    },
    {
      "cell_type": "markdown",
      "metadata": {
        "id": "Aay4eEb0i0sV"
      },
      "source": [
        "# Transfer learning Pytorch - Approach A : feature extraction"
      ]
    },
    {
      "cell_type": "code",
      "execution_count": null,
      "metadata": {
        "id": "ByVkFWMdOI9s",
        "colab": {
          "base_uri": "https://localhost:8080/",
          "height": 158,
          "referenced_widgets": [
            "f10f1885799f4ae7b804b44d9806035c",
            "8aff98573cea46339239a1ae84d2542a",
            "8fe1cc9775174b548d48d27bd12a4328",
            "b2da10b44e214fef9a2c8b73ec80fab9",
            "47ffa018eb734354a97db729c9a4f010",
            "e2fe745ea77f431c86b0c9e2b31b3559",
            "4c3f853a6bc3465880fe9c8296aeaecd",
            "70bfed74cf3c47a6825f60663f9f8e48",
            "e3b79a97caab443b8b166584d90334bb",
            "08c3eea0d3094b1ab5971a6621d45453",
            "302fe98be3c2442496060854d5701418"
          ]
        },
        "outputId": "84cb70ec-675d-4971-8ed7-0128a2b15cdf"
      },
      "outputs": [
        {
          "output_type": "stream",
          "name": "stderr",
          "text": [
            "/usr/local/lib/python3.8/dist-packages/torchvision/models/_utils.py:208: UserWarning: The parameter 'pretrained' is deprecated since 0.13 and may be removed in the future, please use 'weights' instead.\n",
            "  warnings.warn(\n",
            "/usr/local/lib/python3.8/dist-packages/torchvision/models/_utils.py:223: UserWarning: Arguments other than a weight enum or `None` for 'weights' are deprecated since 0.13 and may be removed in the future. The current behavior is equivalent to passing `weights=ResNet50_Weights.IMAGENET1K_V1`. You can also use `weights=ResNet50_Weights.DEFAULT` to get the most up-to-date weights.\n",
            "  warnings.warn(msg)\n",
            "Downloading: \"https://download.pytorch.org/models/resnet50-0676ba61.pth\" to /root/.cache/torch/hub/checkpoints/resnet50-0676ba61.pth\n"
          ]
        },
        {
          "output_type": "display_data",
          "data": {
            "text/plain": [
              "  0%|          | 0.00/97.8M [00:00<?, ?B/s]"
            ],
            "application/vnd.jupyter.widget-view+json": {
              "version_major": 2,
              "version_minor": 0,
              "model_id": "f10f1885799f4ae7b804b44d9806035c"
            }
          },
          "metadata": {}
        }
      ],
      "source": [
        "# Load pretrained ResNet50 Model :\n",
        "model50 = models.resnet50(pretrained=True)"
      ]
    },
    {
      "cell_type": "code",
      "execution_count": null,
      "metadata": {
        "colab": {
          "base_uri": "https://localhost:8080/"
        },
        "id": "8WYWjAw-7BzV",
        "outputId": "491df8c7-b705-475e-d5f6-d404db3ddf6c"
      },
      "outputs": [
        {
          "data": {
            "text/plain": [
              "ResNet(\n",
              "  (conv1): Conv2d(3, 64, kernel_size=(7, 7), stride=(2, 2), padding=(3, 3), bias=False)\n",
              "  (bn1): BatchNorm2d(64, eps=1e-05, momentum=0.1, affine=True, track_running_stats=True)\n",
              "  (relu): ReLU(inplace=True)\n",
              "  (maxpool): MaxPool2d(kernel_size=3, stride=2, padding=1, dilation=1, ceil_mode=False)\n",
              "  (layer1): Sequential(\n",
              "    (0): Bottleneck(\n",
              "      (conv1): Conv2d(64, 64, kernel_size=(1, 1), stride=(1, 1), bias=False)\n",
              "      (bn1): BatchNorm2d(64, eps=1e-05, momentum=0.1, affine=True, track_running_stats=True)\n",
              "      (conv2): Conv2d(64, 64, kernel_size=(3, 3), stride=(1, 1), padding=(1, 1), bias=False)\n",
              "      (bn2): BatchNorm2d(64, eps=1e-05, momentum=0.1, affine=True, track_running_stats=True)\n",
              "      (conv3): Conv2d(64, 256, kernel_size=(1, 1), stride=(1, 1), bias=False)\n",
              "      (bn3): BatchNorm2d(256, eps=1e-05, momentum=0.1, affine=True, track_running_stats=True)\n",
              "      (relu): ReLU(inplace=True)\n",
              "      (downsample): Sequential(\n",
              "        (0): Conv2d(64, 256, kernel_size=(1, 1), stride=(1, 1), bias=False)\n",
              "        (1): BatchNorm2d(256, eps=1e-05, momentum=0.1, affine=True, track_running_stats=True)\n",
              "      )\n",
              "    )\n",
              "    (1): Bottleneck(\n",
              "      (conv1): Conv2d(256, 64, kernel_size=(1, 1), stride=(1, 1), bias=False)\n",
              "      (bn1): BatchNorm2d(64, eps=1e-05, momentum=0.1, affine=True, track_running_stats=True)\n",
              "      (conv2): Conv2d(64, 64, kernel_size=(3, 3), stride=(1, 1), padding=(1, 1), bias=False)\n",
              "      (bn2): BatchNorm2d(64, eps=1e-05, momentum=0.1, affine=True, track_running_stats=True)\n",
              "      (conv3): Conv2d(64, 256, kernel_size=(1, 1), stride=(1, 1), bias=False)\n",
              "      (bn3): BatchNorm2d(256, eps=1e-05, momentum=0.1, affine=True, track_running_stats=True)\n",
              "      (relu): ReLU(inplace=True)\n",
              "    )\n",
              "    (2): Bottleneck(\n",
              "      (conv1): Conv2d(256, 64, kernel_size=(1, 1), stride=(1, 1), bias=False)\n",
              "      (bn1): BatchNorm2d(64, eps=1e-05, momentum=0.1, affine=True, track_running_stats=True)\n",
              "      (conv2): Conv2d(64, 64, kernel_size=(3, 3), stride=(1, 1), padding=(1, 1), bias=False)\n",
              "      (bn2): BatchNorm2d(64, eps=1e-05, momentum=0.1, affine=True, track_running_stats=True)\n",
              "      (conv3): Conv2d(64, 256, kernel_size=(1, 1), stride=(1, 1), bias=False)\n",
              "      (bn3): BatchNorm2d(256, eps=1e-05, momentum=0.1, affine=True, track_running_stats=True)\n",
              "      (relu): ReLU(inplace=True)\n",
              "    )\n",
              "  )\n",
              "  (layer2): Sequential(\n",
              "    (0): Bottleneck(\n",
              "      (conv1): Conv2d(256, 128, kernel_size=(1, 1), stride=(1, 1), bias=False)\n",
              "      (bn1): BatchNorm2d(128, eps=1e-05, momentum=0.1, affine=True, track_running_stats=True)\n",
              "      (conv2): Conv2d(128, 128, kernel_size=(3, 3), stride=(2, 2), padding=(1, 1), bias=False)\n",
              "      (bn2): BatchNorm2d(128, eps=1e-05, momentum=0.1, affine=True, track_running_stats=True)\n",
              "      (conv3): Conv2d(128, 512, kernel_size=(1, 1), stride=(1, 1), bias=False)\n",
              "      (bn3): BatchNorm2d(512, eps=1e-05, momentum=0.1, affine=True, track_running_stats=True)\n",
              "      (relu): ReLU(inplace=True)\n",
              "      (downsample): Sequential(\n",
              "        (0): Conv2d(256, 512, kernel_size=(1, 1), stride=(2, 2), bias=False)\n",
              "        (1): BatchNorm2d(512, eps=1e-05, momentum=0.1, affine=True, track_running_stats=True)\n",
              "      )\n",
              "    )\n",
              "    (1): Bottleneck(\n",
              "      (conv1): Conv2d(512, 128, kernel_size=(1, 1), stride=(1, 1), bias=False)\n",
              "      (bn1): BatchNorm2d(128, eps=1e-05, momentum=0.1, affine=True, track_running_stats=True)\n",
              "      (conv2): Conv2d(128, 128, kernel_size=(3, 3), stride=(1, 1), padding=(1, 1), bias=False)\n",
              "      (bn2): BatchNorm2d(128, eps=1e-05, momentum=0.1, affine=True, track_running_stats=True)\n",
              "      (conv3): Conv2d(128, 512, kernel_size=(1, 1), stride=(1, 1), bias=False)\n",
              "      (bn3): BatchNorm2d(512, eps=1e-05, momentum=0.1, affine=True, track_running_stats=True)\n",
              "      (relu): ReLU(inplace=True)\n",
              "    )\n",
              "    (2): Bottleneck(\n",
              "      (conv1): Conv2d(512, 128, kernel_size=(1, 1), stride=(1, 1), bias=False)\n",
              "      (bn1): BatchNorm2d(128, eps=1e-05, momentum=0.1, affine=True, track_running_stats=True)\n",
              "      (conv2): Conv2d(128, 128, kernel_size=(3, 3), stride=(1, 1), padding=(1, 1), bias=False)\n",
              "      (bn2): BatchNorm2d(128, eps=1e-05, momentum=0.1, affine=True, track_running_stats=True)\n",
              "      (conv3): Conv2d(128, 512, kernel_size=(1, 1), stride=(1, 1), bias=False)\n",
              "      (bn3): BatchNorm2d(512, eps=1e-05, momentum=0.1, affine=True, track_running_stats=True)\n",
              "      (relu): ReLU(inplace=True)\n",
              "    )\n",
              "    (3): Bottleneck(\n",
              "      (conv1): Conv2d(512, 128, kernel_size=(1, 1), stride=(1, 1), bias=False)\n",
              "      (bn1): BatchNorm2d(128, eps=1e-05, momentum=0.1, affine=True, track_running_stats=True)\n",
              "      (conv2): Conv2d(128, 128, kernel_size=(3, 3), stride=(1, 1), padding=(1, 1), bias=False)\n",
              "      (bn2): BatchNorm2d(128, eps=1e-05, momentum=0.1, affine=True, track_running_stats=True)\n",
              "      (conv3): Conv2d(128, 512, kernel_size=(1, 1), stride=(1, 1), bias=False)\n",
              "      (bn3): BatchNorm2d(512, eps=1e-05, momentum=0.1, affine=True, track_running_stats=True)\n",
              "      (relu): ReLU(inplace=True)\n",
              "    )\n",
              "  )\n",
              "  (layer3): Sequential(\n",
              "    (0): Bottleneck(\n",
              "      (conv1): Conv2d(512, 256, kernel_size=(1, 1), stride=(1, 1), bias=False)\n",
              "      (bn1): BatchNorm2d(256, eps=1e-05, momentum=0.1, affine=True, track_running_stats=True)\n",
              "      (conv2): Conv2d(256, 256, kernel_size=(3, 3), stride=(2, 2), padding=(1, 1), bias=False)\n",
              "      (bn2): BatchNorm2d(256, eps=1e-05, momentum=0.1, affine=True, track_running_stats=True)\n",
              "      (conv3): Conv2d(256, 1024, kernel_size=(1, 1), stride=(1, 1), bias=False)\n",
              "      (bn3): BatchNorm2d(1024, eps=1e-05, momentum=0.1, affine=True, track_running_stats=True)\n",
              "      (relu): ReLU(inplace=True)\n",
              "      (downsample): Sequential(\n",
              "        (0): Conv2d(512, 1024, kernel_size=(1, 1), stride=(2, 2), bias=False)\n",
              "        (1): BatchNorm2d(1024, eps=1e-05, momentum=0.1, affine=True, track_running_stats=True)\n",
              "      )\n",
              "    )\n",
              "    (1): Bottleneck(\n",
              "      (conv1): Conv2d(1024, 256, kernel_size=(1, 1), stride=(1, 1), bias=False)\n",
              "      (bn1): BatchNorm2d(256, eps=1e-05, momentum=0.1, affine=True, track_running_stats=True)\n",
              "      (conv2): Conv2d(256, 256, kernel_size=(3, 3), stride=(1, 1), padding=(1, 1), bias=False)\n",
              "      (bn2): BatchNorm2d(256, eps=1e-05, momentum=0.1, affine=True, track_running_stats=True)\n",
              "      (conv3): Conv2d(256, 1024, kernel_size=(1, 1), stride=(1, 1), bias=False)\n",
              "      (bn3): BatchNorm2d(1024, eps=1e-05, momentum=0.1, affine=True, track_running_stats=True)\n",
              "      (relu): ReLU(inplace=True)\n",
              "    )\n",
              "    (2): Bottleneck(\n",
              "      (conv1): Conv2d(1024, 256, kernel_size=(1, 1), stride=(1, 1), bias=False)\n",
              "      (bn1): BatchNorm2d(256, eps=1e-05, momentum=0.1, affine=True, track_running_stats=True)\n",
              "      (conv2): Conv2d(256, 256, kernel_size=(3, 3), stride=(1, 1), padding=(1, 1), bias=False)\n",
              "      (bn2): BatchNorm2d(256, eps=1e-05, momentum=0.1, affine=True, track_running_stats=True)\n",
              "      (conv3): Conv2d(256, 1024, kernel_size=(1, 1), stride=(1, 1), bias=False)\n",
              "      (bn3): BatchNorm2d(1024, eps=1e-05, momentum=0.1, affine=True, track_running_stats=True)\n",
              "      (relu): ReLU(inplace=True)\n",
              "    )\n",
              "    (3): Bottleneck(\n",
              "      (conv1): Conv2d(1024, 256, kernel_size=(1, 1), stride=(1, 1), bias=False)\n",
              "      (bn1): BatchNorm2d(256, eps=1e-05, momentum=0.1, affine=True, track_running_stats=True)\n",
              "      (conv2): Conv2d(256, 256, kernel_size=(3, 3), stride=(1, 1), padding=(1, 1), bias=False)\n",
              "      (bn2): BatchNorm2d(256, eps=1e-05, momentum=0.1, affine=True, track_running_stats=True)\n",
              "      (conv3): Conv2d(256, 1024, kernel_size=(1, 1), stride=(1, 1), bias=False)\n",
              "      (bn3): BatchNorm2d(1024, eps=1e-05, momentum=0.1, affine=True, track_running_stats=True)\n",
              "      (relu): ReLU(inplace=True)\n",
              "    )\n",
              "    (4): Bottleneck(\n",
              "      (conv1): Conv2d(1024, 256, kernel_size=(1, 1), stride=(1, 1), bias=False)\n",
              "      (bn1): BatchNorm2d(256, eps=1e-05, momentum=0.1, affine=True, track_running_stats=True)\n",
              "      (conv2): Conv2d(256, 256, kernel_size=(3, 3), stride=(1, 1), padding=(1, 1), bias=False)\n",
              "      (bn2): BatchNorm2d(256, eps=1e-05, momentum=0.1, affine=True, track_running_stats=True)\n",
              "      (conv3): Conv2d(256, 1024, kernel_size=(1, 1), stride=(1, 1), bias=False)\n",
              "      (bn3): BatchNorm2d(1024, eps=1e-05, momentum=0.1, affine=True, track_running_stats=True)\n",
              "      (relu): ReLU(inplace=True)\n",
              "    )\n",
              "    (5): Bottleneck(\n",
              "      (conv1): Conv2d(1024, 256, kernel_size=(1, 1), stride=(1, 1), bias=False)\n",
              "      (bn1): BatchNorm2d(256, eps=1e-05, momentum=0.1, affine=True, track_running_stats=True)\n",
              "      (conv2): Conv2d(256, 256, kernel_size=(3, 3), stride=(1, 1), padding=(1, 1), bias=False)\n",
              "      (bn2): BatchNorm2d(256, eps=1e-05, momentum=0.1, affine=True, track_running_stats=True)\n",
              "      (conv3): Conv2d(256, 1024, kernel_size=(1, 1), stride=(1, 1), bias=False)\n",
              "      (bn3): BatchNorm2d(1024, eps=1e-05, momentum=0.1, affine=True, track_running_stats=True)\n",
              "      (relu): ReLU(inplace=True)\n",
              "    )\n",
              "  )\n",
              "  (layer4): Sequential(\n",
              "    (0): Bottleneck(\n",
              "      (conv1): Conv2d(1024, 512, kernel_size=(1, 1), stride=(1, 1), bias=False)\n",
              "      (bn1): BatchNorm2d(512, eps=1e-05, momentum=0.1, affine=True, track_running_stats=True)\n",
              "      (conv2): Conv2d(512, 512, kernel_size=(3, 3), stride=(2, 2), padding=(1, 1), bias=False)\n",
              "      (bn2): BatchNorm2d(512, eps=1e-05, momentum=0.1, affine=True, track_running_stats=True)\n",
              "      (conv3): Conv2d(512, 2048, kernel_size=(1, 1), stride=(1, 1), bias=False)\n",
              "      (bn3): BatchNorm2d(2048, eps=1e-05, momentum=0.1, affine=True, track_running_stats=True)\n",
              "      (relu): ReLU(inplace=True)\n",
              "      (downsample): Sequential(\n",
              "        (0): Conv2d(1024, 2048, kernel_size=(1, 1), stride=(2, 2), bias=False)\n",
              "        (1): BatchNorm2d(2048, eps=1e-05, momentum=0.1, affine=True, track_running_stats=True)\n",
              "      )\n",
              "    )\n",
              "    (1): Bottleneck(\n",
              "      (conv1): Conv2d(2048, 512, kernel_size=(1, 1), stride=(1, 1), bias=False)\n",
              "      (bn1): BatchNorm2d(512, eps=1e-05, momentum=0.1, affine=True, track_running_stats=True)\n",
              "      (conv2): Conv2d(512, 512, kernel_size=(3, 3), stride=(1, 1), padding=(1, 1), bias=False)\n",
              "      (bn2): BatchNorm2d(512, eps=1e-05, momentum=0.1, affine=True, track_running_stats=True)\n",
              "      (conv3): Conv2d(512, 2048, kernel_size=(1, 1), stride=(1, 1), bias=False)\n",
              "      (bn3): BatchNorm2d(2048, eps=1e-05, momentum=0.1, affine=True, track_running_stats=True)\n",
              "      (relu): ReLU(inplace=True)\n",
              "    )\n",
              "    (2): Bottleneck(\n",
              "      (conv1): Conv2d(2048, 512, kernel_size=(1, 1), stride=(1, 1), bias=False)\n",
              "      (bn1): BatchNorm2d(512, eps=1e-05, momentum=0.1, affine=True, track_running_stats=True)\n",
              "      (conv2): Conv2d(512, 512, kernel_size=(3, 3), stride=(1, 1), padding=(1, 1), bias=False)\n",
              "      (bn2): BatchNorm2d(512, eps=1e-05, momentum=0.1, affine=True, track_running_stats=True)\n",
              "      (conv3): Conv2d(512, 2048, kernel_size=(1, 1), stride=(1, 1), bias=False)\n",
              "      (bn3): BatchNorm2d(2048, eps=1e-05, momentum=0.1, affine=True, track_running_stats=True)\n",
              "      (relu): ReLU(inplace=True)\n",
              "    )\n",
              "  )\n",
              "  (avgpool): AdaptiveAvgPool2d(output_size=(1, 1))\n",
              "  (fc): Linear(in_features=2048, out_features=1000, bias=True)\n",
              ")"
            ]
          },
          "execution_count": 11,
          "metadata": {},
          "output_type": "execute_result"
        }
      ],
      "source": [
        "# show the ResNet50 model:\n",
        "model50"
      ]
    },
    {
      "cell_type": "code",
      "execution_count": null,
      "metadata": {
        "id": "qG_lUBa1fj0S"
      },
      "outputs": [],
      "source": [
        "#freeze the convolutional base created from the previous step and use it as a feature extractor\n",
        "for param in model50.parameters():\n",
        "    param.requires_grad = False"
      ]
    },
    {
      "cell_type": "code",
      "execution_count": null,
      "metadata": {
        "id": "tKJEmAiyeFKN"
      },
      "outputs": [],
      "source": [
        "# Change the final layer of ResNet50 Model for Transfer Learning\n",
        "fc_inputs = models.resnet50(pretrained=True).fc.in_features\n",
        "model50.fc = nn.Sequential(\n",
        "    nn.Linear(fc_inputs, 256),\n",
        "    nn.ReLU(),\n",
        "    nn.Dropout(0.4),\n",
        "    nn.Linear(256, 2), \n",
        "    nn.LogSoftmax(dim=1) \n",
        ")"
      ]
    },
    {
      "cell_type": "code",
      "execution_count": null,
      "metadata": {
        "id": "uNSs0jMqk62F"
      },
      "outputs": [],
      "source": [
        "# Define Optimizer and Loss Function\n",
        "criterion = nn.CrossEntropyLoss()\n",
        "\n",
        "# feature extraction:\n",
        "params_to_update = []\n",
        "for name,param in model50.named_parameters():\n",
        "    if param.requires_grad == True:\n",
        "        params_to_update.append(param)\n",
        "\n",
        "optimizer_conv = optim.Adam(params_to_update, lr=0.0001)\n",
        "\n",
        "# Decay LR by a factor of 0.1 every 7 epochs\n",
        "exp_lr_scheduler = lr_scheduler.StepLR(optimizer_conv, step_size=7, gamma=0.1)"
      ]
    },
    {
      "cell_type": "code",
      "execution_count": null,
      "metadata": {
        "id": "m4uhmQkPlNOy"
      },
      "outputs": [],
      "source": [
        "# Convert model to be used on GPU\n",
        "model50 = model50.to(device)"
      ]
    },
    {
      "cell_type": "code",
      "execution_count": null,
      "metadata": {
        "colab": {
          "base_uri": "https://localhost:8080/"
        },
        "id": "BLlbl7VUxc--",
        "outputId": "1801d3ce-8a62-49a9-d019-28df33717343"
      },
      "outputs": [
        {
          "output_type": "stream",
          "name": "stdout",
          "text": [
            "Epoch 0/29\n",
            "----------\n",
            "train Loss: 0.4691 Acc: 0.7705\n",
            "valid Loss: 0.2670 Acc: 0.9080\n",
            "\n",
            "Epoch 1/29\n",
            "----------\n",
            "train Loss: 0.4042 Acc: 0.8151\n",
            "valid Loss: 0.2712 Acc: 0.9090\n",
            "\n",
            "Epoch 2/29\n",
            "----------\n",
            "train Loss: 0.3886 Acc: 0.8232\n",
            "valid Loss: 0.2430 Acc: 0.9120\n",
            "\n",
            "Epoch 3/29\n",
            "----------\n",
            "train Loss: 0.3641 Acc: 0.8322\n",
            "valid Loss: 0.2143 Acc: 0.9175\n",
            "\n",
            "Epoch 4/29\n",
            "----------\n",
            "train Loss: 0.3583 Acc: 0.8354\n",
            "valid Loss: 0.2239 Acc: 0.9130\n",
            "\n",
            "Epoch 5/29\n",
            "----------\n",
            "train Loss: 0.3505 Acc: 0.8448\n",
            "valid Loss: 0.1940 Acc: 0.9265\n",
            "\n",
            "Epoch 6/29\n",
            "----------\n",
            "train Loss: 0.3489 Acc: 0.8441\n",
            "valid Loss: 0.1922 Acc: 0.9285\n",
            "\n",
            "Epoch 7/29\n",
            "----------\n",
            "train Loss: 0.3181 Acc: 0.8557\n",
            "valid Loss: 0.2079 Acc: 0.9225\n",
            "\n",
            "Epoch 8/29\n",
            "----------\n",
            "train Loss: 0.3279 Acc: 0.8494\n",
            "valid Loss: 0.1836 Acc: 0.9330\n",
            "\n",
            "Epoch 9/29\n",
            "----------\n",
            "train Loss: 0.3197 Acc: 0.8545\n",
            "valid Loss: 0.1790 Acc: 0.9315\n",
            "\n",
            "Epoch 10/29\n",
            "----------\n",
            "train Loss: 0.3228 Acc: 0.8588\n",
            "valid Loss: 0.1809 Acc: 0.9345\n",
            "\n",
            "Epoch 11/29\n",
            "----------\n",
            "train Loss: 0.3187 Acc: 0.8630\n",
            "valid Loss: 0.1711 Acc: 0.9345\n",
            "\n",
            "Epoch 12/29\n",
            "----------\n",
            "train Loss: 0.3234 Acc: 0.8565\n",
            "valid Loss: 0.1913 Acc: 0.9295\n",
            "\n",
            "Epoch 13/29\n",
            "----------\n",
            "train Loss: 0.3179 Acc: 0.8595\n",
            "valid Loss: 0.1819 Acc: 0.9300\n",
            "\n",
            "Epoch 14/29\n",
            "----------\n",
            "train Loss: 0.3085 Acc: 0.8616\n",
            "valid Loss: 0.1683 Acc: 0.9390\n",
            "\n",
            "Epoch 15/29\n",
            "----------\n",
            "train Loss: 0.3182 Acc: 0.8565\n",
            "valid Loss: 0.1894 Acc: 0.9340\n",
            "\n",
            "Epoch 16/29\n",
            "----------\n",
            "train Loss: 0.3115 Acc: 0.8657\n",
            "valid Loss: 0.1760 Acc: 0.9345\n",
            "\n",
            "Epoch 17/29\n",
            "----------\n",
            "train Loss: 0.3237 Acc: 0.8543\n",
            "valid Loss: 0.2140 Acc: 0.9215\n",
            "\n",
            "Epoch 18/29\n",
            "----------\n",
            "train Loss: 0.3045 Acc: 0.8680\n",
            "valid Loss: 0.1973 Acc: 0.9210\n",
            "\n",
            "Epoch 19/29\n",
            "----------\n",
            "train Loss: 0.3122 Acc: 0.8607\n",
            "valid Loss: 0.1777 Acc: 0.9355\n",
            "\n",
            "Epoch 20/29\n",
            "----------\n",
            "train Loss: 0.3146 Acc: 0.8613\n",
            "valid Loss: 0.1845 Acc: 0.9315\n",
            "\n",
            "Epoch 21/29\n",
            "----------\n",
            "train Loss: 0.3168 Acc: 0.8598\n",
            "valid Loss: 0.1717 Acc: 0.9360\n",
            "\n",
            "Epoch 22/29\n",
            "----------\n",
            "train Loss: 0.3154 Acc: 0.8611\n",
            "valid Loss: 0.1800 Acc: 0.9335\n",
            "\n",
            "Epoch 23/29\n",
            "----------\n",
            "train Loss: 0.3078 Acc: 0.8639\n",
            "valid Loss: 0.1730 Acc: 0.9355\n",
            "\n",
            "Epoch 24/29\n",
            "----------\n",
            "train Loss: 0.3222 Acc: 0.8579\n",
            "valid Loss: 0.1878 Acc: 0.9320\n",
            "\n",
            "Epoch 25/29\n",
            "----------\n",
            "train Loss: 0.3096 Acc: 0.8627\n",
            "valid Loss: 0.1794 Acc: 0.9310\n",
            "\n",
            "Epoch 26/29\n",
            "----------\n",
            "train Loss: 0.3113 Acc: 0.8635\n",
            "valid Loss: 0.1774 Acc: 0.9340\n",
            "\n",
            "Epoch 27/29\n",
            "----------\n",
            "train Loss: 0.3187 Acc: 0.8539\n",
            "valid Loss: 0.1884 Acc: 0.9265\n",
            "\n",
            "Epoch 28/29\n",
            "----------\n",
            "train Loss: 0.3138 Acc: 0.8641\n",
            "valid Loss: 0.2714 Acc: 0.8895\n",
            "\n",
            "Epoch 29/29\n",
            "----------\n",
            "train Loss: 0.3192 Acc: 0.8586\n",
            "valid Loss: 0.2033 Acc: 0.9215\n",
            "\n",
            "Training complete in 43m 39s\n",
            "Best val Acc: 0.939000\n"
          ]
        }
      ],
      "source": [
        "# train the model\n",
        "model_conv = train_model(model50, criterion, optimizer_conv,\n",
        "                         exp_lr_scheduler, num_epochs=30)"
      ]
    },
    {
      "cell_type": "markdown",
      "metadata": {
        "id": "LX-9D1sjYhBl"
      },
      "source": [
        "Best model : Valid Acc: 93.90%, temps = 43m39s avec cuda\n"
      ]
    },
    {
      "cell_type": "code",
      "execution_count": null,
      "metadata": {
        "colab": {
          "base_uri": "https://localhost:8080/",
          "height": 581
        },
        "id": "4RtljD5ayYpI",
        "outputId": "97f394f8-1ff8-4963-f9d7-2ffbce7bcdeb"
      },
      "outputs": [
        {
          "output_type": "display_data",
          "data": {
            "text/plain": [
              "<Figure size 432x288 with 1 Axes>"
            ],
            "image/png": "[encoded data removed]"
          },
          "metadata": {
            "needs_background": "light"
          }
        },
        {
          "output_type": "display_data",
          "data": {
            "text/plain": [
              "<Figure size 432x288 with 1 Axes>"
            ],
            "image/png": "[encoded data removed]"
          },
          "metadata": {
            "needs_background": "light"
          }
        },
        {
          "output_type": "display_data",
          "data": {
            "text/plain": [
              "<Figure size 432x288 with 1 Axes>"
            ],
            "image/png": "[encoded data removed]"
          },
          "metadata": {
            "needs_background": "light"
          }
        },
        {
          "output_type": "display_data",
          "data": {
            "text/plain": [
              "<Figure size 432x288 with 1 Axes>"
            ],
            "image/png": "[encoded data removed]"
          },
          "metadata": {
            "needs_background": "light"
          }
        },
        {
          "output_type": "display_data",
          "data": {
            "text/plain": [
              "<Figure size 432x288 with 1 Axes>"
            ],
            "image/png": "[encoded data removed]"
          },
          "metadata": {
            "needs_background": "light"
          }
        },
        {
          "output_type": "display_data",
          "data": {
            "text/plain": [
              "<Figure size 432x288 with 1 Axes>"
            ],
            "image/png": "[encoded data removed]"
          },
          "metadata": {
            "needs_background": "light"
          }
        }
      ],
      "source": [
        "# visualize some predicted images\n",
        "visualize_model(model_conv)\n",
        "\n",
        "plt.ioff()\n",
        "plt.show()"
      ]
    },
    {
      "cell_type": "code",
      "execution_count": null,
      "metadata": {
        "id": "AIHOXIif33OE"
      },
      "outputs": [],
      "source": [
        "#save trained model\n",
        "torch.save(model_conv, '/content/drive/MyDrive/projet ML DL/models/model50_feature.pth')"
      ]
    },
    {
      "cell_type": "code",
      "execution_count": null,
      "metadata": {
        "colab": {
          "base_uri": "https://localhost:8080/"
        },
        "id": "5rDOPWHrOO2w",
        "outputId": "53fabc08-b868-4a25-aeef-6f80051309ef"
      },
      "outputs": [
        {
          "output_type": "stream",
          "name": "stdout",
          "text": [
            "Accuracy : 94.622684 %\n",
            "F1 :  76.66666666666666\n"
          ]
        },
        {
          "output_type": "execute_result",
          "data": {
            "text/plain": [
              "(0.9462268413917758, 76.66666666666666)"
            ]
          },
          "metadata": {},
          "execution_count": 19
        }
      ],
      "source": [
        "# prediction on unbalanced test set \n",
        "test_model(model_conv,dataloaders[\"test\"],device)"
      ]
    },
    {
      "cell_type": "markdown",
      "metadata": {
        "id": "D1QRW1ZfgS7W"
      },
      "source": [
        "Sur le test non équilibré, acc = 94.6 %, f1 = 0.7667, \n",
        "temps= 8mn avec cuda"
      ]
    },
    {
      "cell_type": "code",
      "execution_count": null,
      "metadata": {
        "colab": {
          "base_uri": "https://localhost:8080/"
        },
        "id": "FfPigYrnR30y",
        "outputId": "fc077b3b-16d3-41e0-e8b1-2d69619706bc"
      },
      "outputs": [
        {
          "output_type": "stream",
          "name": "stderr",
          "text": [
            "/usr/local/lib/python3.8/dist-packages/torch/utils/data/dataloader.py:554: UserWarning: This DataLoader will create 4 worker processes in total. Our suggested max number of worker in current system is 2, which is smaller than what this DataLoader is going to create. Please be aware that excessive worker creation might get DataLoader running slow or even freeze, lower the worker number to avoid potential slowness/freeze if necessary.\n",
            "  warnings.warn(_create_warning_msg(\n"
          ]
        },
        {
          "output_type": "stream",
          "name": "stdout",
          "text": [
            "Accuracy : 93.450000 %\n",
            "F1 :  93.32654100866023\n"
          ]
        },
        {
          "output_type": "execute_result",
          "data": {
            "text/plain": [
              "(0.9345, 93.32654100866023)"
            ]
          },
          "metadata": {},
          "execution_count": 20
        }
      ],
      "source": [
        "# prediction on balanced test set\n",
        "test_model(model_conv,dataloaders[\"test_balanced\"],device)"
      ]
    },
    {
      "cell_type": "markdown",
      "metadata": {
        "id": "4hFm_YHYgn0w"
      },
      "source": [
        "Sur le test équilibré, acc = 93.45 %, f1 = 0.93265, temps = 1m45s avec cuda"
      ]
    },
    {
      "cell_type": "markdown",
      "metadata": {
        "id": "qIfbgf_M4yds"
      },
      "source": [
        "# Transfer learning Pytorch - Approach B : fine-tuning"
      ]
    },
    {
      "cell_type": "code",
      "execution_count": null,
      "metadata": {
        "colab": {
          "base_uri": "https://localhost:8080/",
          "height": 158,
          "referenced_widgets": [
            "7aac184443d54f10adcac2cfdb8df7a5",
            "be0cad6b50e94d50a6e4bca245f0fafb",
            "e52de8fd45344ec49e6a6efa3b7a5cb2",
            "9a2cffab42a34d51885eab6320541a6f",
            "b90569b64d3945279e679ef5caaaa0e1",
            "d6a739b617ab41cf87557702c5a37e06",
            "308bc714a5734c199bcded5cd5376066",
            "0f1e75cae40c46869de73e1412082a25",
            "5a4f94667f7447ad91cdf7b4d0edec89",
            "6d5ca146a06d457b98e08a0bf84fbadd",
            "05e7a83c847c4d35b58cbe940abac0e7"
          ]
        },
        "id": "LHYUKFG_46A8",
        "outputId": "177b1230-845a-47fd-e9a7-cfa36e3cc182"
      },
      "outputs": [
        {
          "name": "stderr",
          "output_type": "stream",
          "text": [
            "/usr/local/lib/python3.8/dist-packages/torchvision/models/_utils.py:208: UserWarning: The parameter 'pretrained' is deprecated since 0.13 and may be removed in the future, please use 'weights' instead.\n",
            "  warnings.warn(\n",
            "/usr/local/lib/python3.8/dist-packages/torchvision/models/_utils.py:223: UserWarning: Arguments other than a weight enum or `None` for 'weights' are deprecated since 0.13 and may be removed in the future. The current behavior is equivalent to passing `weights=ResNet50_Weights.IMAGENET1K_V1`. You can also use `weights=ResNet50_Weights.DEFAULT` to get the most up-to-date weights.\n",
            "  warnings.warn(msg)\n",
            "Downloading: \"https://download.pytorch.org/models/resnet50-0676ba61.pth\" to /root/.cache/torch/hub/checkpoints/resnet50-0676ba61.pth\n"
          ]
        },
        {
          "data": {
            "application/vnd.jupyter.widget-view+json": {
              "model_id": "7aac184443d54f10adcac2cfdb8df7a5",
              "version_major": 2,
              "version_minor": 0
            },
            "text/plain": [
              "  0%|          | 0.00/97.8M [00:00<?, ?B/s]"
            ]
          },
          "metadata": {},
          "output_type": "display_data"
        }
      ],
      "source": [
        "# Load pretrained ResNet50 Model :\n",
        "model50B = models.resnet50(pretrained=True)  "
      ]
    },
    {
      "cell_type": "code",
      "execution_count": null,
      "metadata": {
        "id": "--uryXDF5g4v"
      },
      "outputs": [],
      "source": [
        "# Change the final layer of ResNet50 Model for Transfer Learning\n",
        "fc_inputsB = model50B.fc.in_features\n",
        "model50B.fc = nn.Sequential(\n",
        "    nn.Linear(fc_inputsB, 256),\n",
        "    nn.ReLU(),\n",
        "    nn.Dropout(0.4),\n",
        "    nn.Linear(256, 2), \n",
        "    nn.LogSoftmax(dim=1) \n",
        ")"
      ]
    },
    {
      "cell_type": "code",
      "execution_count": null,
      "metadata": {
        "id": "oJnvdhEw5lM6"
      },
      "outputs": [],
      "source": [
        "# Convert model to be used on GPU\n",
        "model50B = model50B.to(device)"
      ]
    },
    {
      "cell_type": "code",
      "execution_count": null,
      "metadata": {
        "id": "0-KZX_qs5pa0"
      },
      "outputs": [],
      "source": [
        "# Define Optimizer and Loss Function\n",
        "criterion = nn.CrossEntropyLoss()\n",
        "optimizer_convB = optim.Adam(model50B.fc.parameters(), lr=0.0001)\n",
        "\n",
        "# Decay LR by a factor of 0.1 every 7 epochs\n",
        "exp_lr_schedulerB = lr_scheduler.StepLR(optimizer_convB, step_size=7, gamma=0.1)"
      ]
    },
    {
      "cell_type": "code",
      "execution_count": null,
      "metadata": {
        "colab": {
          "base_uri": "https://localhost:8080/"
        },
        "id": "imBho0r35s4M",
        "outputId": "d229ef1f-aee7-44f1-a21d-16a808f23f7d"
      },
      "outputs": [
        {
          "name": "stdout",
          "output_type": "stream",
          "text": [
            "Epoch 0/49\n",
            "----------\n",
            "train Loss: 0.4663 Acc: 0.7797\n",
            "valid Loss: 0.2845 Acc: 0.8995\n",
            "\n",
            "Epoch 1/49\n",
            "----------\n",
            "train Loss: 0.3957 Acc: 0.8225\n",
            "valid Loss: 0.3419 Acc: 0.8635\n",
            "\n",
            "Epoch 2/49\n",
            "----------\n",
            "train Loss: 0.3681 Acc: 0.8335\n",
            "valid Loss: 0.2148 Acc: 0.9205\n",
            "\n",
            "Epoch 3/49\n",
            "----------\n",
            "train Loss: 0.3670 Acc: 0.8321\n",
            "valid Loss: 0.2059 Acc: 0.9245\n",
            "\n",
            "Epoch 4/49\n",
            "----------\n",
            "train Loss: 0.3615 Acc: 0.8336\n",
            "valid Loss: 0.2095 Acc: 0.9245\n",
            "\n",
            "Epoch 5/49\n",
            "----------\n",
            "train Loss: 0.3471 Acc: 0.8474\n",
            "valid Loss: 0.2759 Acc: 0.8865\n",
            "\n",
            "Epoch 6/49\n",
            "----------\n",
            "train Loss: 0.3524 Acc: 0.8402\n",
            "valid Loss: 0.1765 Acc: 0.9295\n",
            "\n",
            "Epoch 7/49\n",
            "----------\n",
            "train Loss: 0.3211 Acc: 0.8561\n",
            "valid Loss: 0.1965 Acc: 0.9295\n",
            "\n",
            "Epoch 8/49\n",
            "----------\n",
            "train Loss: 0.3237 Acc: 0.8605\n",
            "valid Loss: 0.1916 Acc: 0.9335\n",
            "\n",
            "Epoch 9/49\n",
            "----------\n",
            "train Loss: 0.3205 Acc: 0.8565\n",
            "valid Loss: 0.2145 Acc: 0.9270\n",
            "\n",
            "Epoch 10/49\n",
            "----------\n",
            "train Loss: 0.3097 Acc: 0.8601\n",
            "valid Loss: 0.1941 Acc: 0.9255\n",
            "\n",
            "Epoch 11/49\n",
            "----------\n",
            "train Loss: 0.3122 Acc: 0.8591\n",
            "valid Loss: 0.1876 Acc: 0.9305\n",
            "\n",
            "Epoch 12/49\n",
            "----------\n",
            "train Loss: 0.3058 Acc: 0.8602\n",
            "valid Loss: 0.2076 Acc: 0.9205\n",
            "\n",
            "Epoch 13/49\n",
            "----------\n",
            "train Loss: 0.3063 Acc: 0.8600\n",
            "valid Loss: 0.1869 Acc: 0.9320\n",
            "\n",
            "Epoch 14/49\n",
            "----------\n",
            "train Loss: 0.3136 Acc: 0.8599\n",
            "valid Loss: 0.1874 Acc: 0.9325\n",
            "\n",
            "Epoch 15/49\n",
            "----------\n",
            "train Loss: 0.3087 Acc: 0.8664\n",
            "valid Loss: 0.1773 Acc: 0.9330\n",
            "\n",
            "Epoch 16/49\n",
            "----------\n",
            "train Loss: 0.3039 Acc: 0.8640\n",
            "valid Loss: 0.1861 Acc: 0.9275\n",
            "\n",
            "Epoch 17/49\n",
            "----------\n",
            "train Loss: 0.3138 Acc: 0.8606\n",
            "valid Loss: 0.1783 Acc: 0.9315\n",
            "\n",
            "Epoch 18/49\n",
            "----------\n",
            "train Loss: 0.3008 Acc: 0.8699\n",
            "valid Loss: 0.1996 Acc: 0.9280\n",
            "\n",
            "Epoch 19/49\n",
            "----------\n",
            "train Loss: 0.3063 Acc: 0.8635\n",
            "valid Loss: 0.2016 Acc: 0.9220\n",
            "\n",
            "Epoch 20/49\n",
            "----------\n",
            "train Loss: 0.3219 Acc: 0.8591\n",
            "valid Loss: 0.1691 Acc: 0.9405\n",
            "\n",
            "Epoch 21/49\n",
            "----------\n",
            "train Loss: 0.3169 Acc: 0.8595\n",
            "valid Loss: 0.1990 Acc: 0.9255\n",
            "\n",
            "Epoch 22/49\n",
            "----------\n",
            "train Loss: 0.3175 Acc: 0.8549\n",
            "valid Loss: 0.1985 Acc: 0.9270\n",
            "\n",
            "Epoch 23/49\n",
            "----------\n",
            "train Loss: 0.3175 Acc: 0.8595\n",
            "valid Loss: 0.2087 Acc: 0.9200\n",
            "\n",
            "Epoch 24/49\n",
            "----------\n",
            "train Loss: 0.3085 Acc: 0.8634\n",
            "valid Loss: 0.2224 Acc: 0.9135\n",
            "\n",
            "Epoch 25/49\n",
            "----------\n",
            "train Loss: 0.3123 Acc: 0.8650\n",
            "valid Loss: 0.2236 Acc: 0.9140\n",
            "\n",
            "Epoch 26/49\n",
            "----------\n",
            "train Loss: 0.3178 Acc: 0.8573\n",
            "valid Loss: 0.1772 Acc: 0.9370\n",
            "\n",
            "Epoch 27/49\n",
            "----------\n",
            "train Loss: 0.3159 Acc: 0.8575\n",
            "valid Loss: 0.2217 Acc: 0.9125\n",
            "\n",
            "Epoch 28/49\n",
            "----------\n",
            "train Loss: 0.3086 Acc: 0.8647\n",
            "valid Loss: 0.1825 Acc: 0.9360\n",
            "\n",
            "Epoch 29/49\n",
            "----------\n",
            "train Loss: 0.3023 Acc: 0.8663\n",
            "valid Loss: 0.1799 Acc: 0.9350\n",
            "\n",
            "Epoch 30/49\n",
            "----------\n",
            "train Loss: 0.3013 Acc: 0.8662\n",
            "valid Loss: 0.1936 Acc: 0.9295\n",
            "\n",
            "Epoch 31/49\n",
            "----------\n",
            "train Loss: 0.3189 Acc: 0.8567\n",
            "valid Loss: 0.2012 Acc: 0.9225\n",
            "\n",
            "Epoch 32/49\n",
            "----------\n",
            "train Loss: 0.3086 Acc: 0.8692\n",
            "valid Loss: 0.1704 Acc: 0.9365\n",
            "\n",
            "Epoch 33/49\n",
            "----------\n",
            "train Loss: 0.3168 Acc: 0.8546\n",
            "valid Loss: 0.1838 Acc: 0.9345\n",
            "\n",
            "Epoch 34/49\n",
            "----------\n",
            "train Loss: 0.3069 Acc: 0.8617\n",
            "valid Loss: 0.1822 Acc: 0.9330\n",
            "\n",
            "Epoch 35/49\n",
            "----------\n",
            "train Loss: 0.3108 Acc: 0.8621\n",
            "valid Loss: 0.1678 Acc: 0.9365\n",
            "\n",
            "Epoch 36/49\n",
            "----------\n",
            "train Loss: 0.3115 Acc: 0.8606\n",
            "valid Loss: 0.1853 Acc: 0.9320\n",
            "\n",
            "Epoch 37/49\n",
            "----------\n",
            "train Loss: 0.3008 Acc: 0.8715\n",
            "valid Loss: 0.1889 Acc: 0.9340\n",
            "\n",
            "Epoch 38/49\n",
            "----------\n",
            "train Loss: 0.3090 Acc: 0.8645\n",
            "valid Loss: 0.1744 Acc: 0.9390\n",
            "\n",
            "Epoch 39/49\n",
            "----------\n",
            "train Loss: 0.3211 Acc: 0.8552\n",
            "valid Loss: 0.2366 Acc: 0.9120\n",
            "\n",
            "Epoch 40/49\n",
            "----------\n",
            "train Loss: 0.3153 Acc: 0.8598\n",
            "valid Loss: 0.1810 Acc: 0.9355\n",
            "\n",
            "Epoch 41/49\n",
            "----------\n",
            "train Loss: 0.3119 Acc: 0.8631\n",
            "valid Loss: 0.1659 Acc: 0.9375\n",
            "\n",
            "Epoch 42/49\n",
            "----------\n",
            "train Loss: 0.3172 Acc: 0.8606\n",
            "valid Loss: 0.2110 Acc: 0.9150\n",
            "\n",
            "Epoch 43/49\n",
            "----------\n",
            "train Loss: 0.3036 Acc: 0.8671\n",
            "valid Loss: 0.1777 Acc: 0.9330\n",
            "\n",
            "Epoch 44/49\n",
            "----------\n",
            "train Loss: 0.3111 Acc: 0.8628\n",
            "valid Loss: 0.1821 Acc: 0.9350\n",
            "\n",
            "Epoch 45/49\n",
            "----------\n",
            "train Loss: 0.3059 Acc: 0.8678\n",
            "valid Loss: 0.1936 Acc: 0.9305\n",
            "\n",
            "Epoch 46/49\n",
            "----------\n",
            "train Loss: 0.3084 Acc: 0.8661\n",
            "valid Loss: 0.1760 Acc: 0.9365\n",
            "\n",
            "Epoch 47/49\n",
            "----------\n",
            "train Loss: 0.3102 Acc: 0.8621\n",
            "valid Loss: 0.1829 Acc: 0.9345\n",
            "\n",
            "Epoch 48/49\n",
            "----------\n",
            "train Loss: 0.3106 Acc: 0.8642\n",
            "valid Loss: 0.1801 Acc: 0.9350\n",
            "\n",
            "Epoch 49/49\n",
            "----------\n",
            "train Loss: 0.3170 Acc: 0.8594\n",
            "valid Loss: 0.1807 Acc: 0.9360\n",
            "\n",
            "Training complete in 142m 55s\n",
            "Best val Acc: 0.940500\n"
          ]
        }
      ],
      "source": [
        "# train the model\n",
        "model50B = train_model(model50B, criterion, optimizer_convB,\n",
        "                         exp_lr_schedulerB, num_epochs=50)"
      ]
    },
    {
      "cell_type": "markdown",
      "metadata": {
        "id": "06Dcjadyjl8Q"
      },
      "source": [
        "Best model : Valid Acc: 94.05%, temps = 2h23m sans cuda"
      ]
    },
    {
      "cell_type": "code",
      "execution_count": null,
      "metadata": {
        "colab": {
          "base_uri": "https://localhost:8080/",
          "height": 581
        },
        "id": "PiBm5HqQ50ID",
        "outputId": "6b478537-f6c1-41f3-93ec-6dbd68489e74"
      },
      "outputs": [
        {
          "data": {
            "image/png": "[encoded data removed]",
            "text/plain": [
              "<Figure size 432x288 with 1 Axes>"
            ]
          },
          "metadata": {},
          "output_type": "display_data"
        },
        {
          "data": {
            "image/png": "[encoded data removed]",
            "text/plain": [
              "<Figure size 432x288 with 1 Axes>"
            ]
          },
          "metadata": {},
          "output_type": "display_data"
        },
        {
          "data": {
            "image/png": "[encoded data removed]",
            "text/plain": [
              "<Figure size 432x288 with 1 Axes>"
            ]
          },
          "metadata": {},
          "output_type": "display_data"
        },
        {
          "data": {
            "image/png": "[encoded data removed]",
            "text/plain": [
              "<Figure size 432x288 with 1 Axes>"
            ]
          },
          "metadata": {},
          "output_type": "display_data"
        },
        {
          "data": {
            "image/png": "[encoded data removed]",
            "text/plain": [
              "<Figure size 432x288 with 1 Axes>"
            ]
          },
          "metadata": {},
          "output_type": "display_data"
        },
        {
          "data": {
            "image/png": "[encoded data removed]",
            "text/plain": [
              "<Figure size 432x288 with 1 Axes>"
            ]
          },
          "metadata": {},
          "output_type": "display_data"
        }
      ],
      "source": [
        "# show some predicted images\n",
        "visualize_model(model50B)\n",
        "\n",
        "plt.ioff()\n",
        "plt.show()"
      ]
    },
    {
      "cell_type": "code",
      "execution_count": null,
      "metadata": {
        "id": "QNyUfyqc54cS"
      },
      "outputs": [],
      "source": [
        "#save trained model\n",
        "torch.save(model50B, '/content/drive/MyDrive/projet ML DL/models/model50_finetuning.pth')"
      ]
    },
    {
      "cell_type": "code",
      "execution_count": null,
      "metadata": {
        "colab": {
          "base_uri": "https://localhost:8080/"
        },
        "id": "i4zqSmqTi5bQ",
        "outputId": "8121c3fd-3803-4594-c714-414342db72d0"
      },
      "outputs": [
        {
          "name": "stdout",
          "output_type": "stream",
          "text": [
            "Accuracy : 94.713059 %\n",
            "F1 :  76.99115044247787\n"
          ]
        },
        {
          "data": {
            "text/plain": [
              "(0.94713059195662, 76.99115044247787)"
            ]
          },
          "execution_count": 18,
          "metadata": {},
          "output_type": "execute_result"
        }
      ],
      "source": [
        "# prediction on unbalanced test set:\n",
        "test_model(model50B,dataloaders[\"test\"],device)"
      ]
    },
    {
      "cell_type": "markdown",
      "metadata": {
        "id": "8hu3J0QxugGz"
      },
      "source": [
        "Sur le test non équilibré, acc = 94.713059 %, f1 = 0.7699115044247787, temps= 22mn"
      ]
    },
    {
      "cell_type": "code",
      "execution_count": null,
      "metadata": {
        "colab": {
          "base_uri": "https://localhost:8080/"
        },
        "id": "1bq0axtDi5vj",
        "outputId": "f8a80fac-9260-42b7-d595-82de272ada9d"
      },
      "outputs": [
        {
          "name": "stderr",
          "output_type": "stream",
          "text": [
            "/usr/local/lib/python3.8/dist-packages/torch/utils/data/dataloader.py:554: UserWarning: This DataLoader will create 4 worker processes in total. Our suggested max number of worker in current system is 2, which is smaller than what this DataLoader is going to create. Please be aware that excessive worker creation might get DataLoader running slow or even freeze, lower the worker number to avoid potential slowness/freeze if necessary.\n",
            "  warnings.warn(_create_warning_msg(\n"
          ]
        },
        {
          "name": "stdout",
          "output_type": "stream",
          "text": [
            "Accuracy : 93.700000 %\n",
            "F1 :  93.56486210418795\n"
          ]
        },
        {
          "data": {
            "text/plain": [
              "(0.937, 93.56486210418795)"
            ]
          },
          "execution_count": 19,
          "metadata": {},
          "output_type": "execute_result"
        }
      ],
      "source": [
        "# prediction on balanced test set:\n",
        "test_model(model50B,dataloaders[\"test_balanced\"],device)"
      ]
    },
    {
      "cell_type": "markdown",
      "metadata": {
        "id": "1e20rNDQuoP5"
      },
      "source": [
        "Sur le test équilibré, acc = 93.7 %, f1 = 0.9356486210418795, temps= 4mn"
      ]
    },
    {
      "cell_type": "markdown",
      "metadata": {
        "id": "_t4YVUJf7Xkr"
      },
      "source": [
        "# Transfer learning sklearn - Approach A : feature extraction"
      ]
    },
    {
      "cell_type": "code",
      "source": [
        "# Load pretrained ResNet50 Model :\n",
        "conv_base = models.resnet50(pretrained=True)"
      ],
      "metadata": {
        "colab": {
          "base_uri": "https://localhost:8080/",
          "height": 158,
          "referenced_widgets": [
            "b621e01cf27a4365a795224199248b1c",
            "3ae0f04e7f6e4d2c8a055e5247715e50",
            "e533f70655e34bd8b89eb04903e69dd0",
            "30f3869bad994d47811373c3b64041d1",
            "d9a0229e8205459692c6badb07726d47",
            "a07379f6767546829fd26ca44d304405",
            "1fb3797d500240629ea5b356e89a7d5f",
            "7fb69b13ce72470cb2b7fad6a3c22617",
            "c13e9f95b8c941928d958dbf4fda368a",
            "63edcc0ec8424f60b40a96e96e504a79",
            "7a23238bbc6c43669326a86406ce6689"
          ]
        },
        "id": "W8t20MfGXXVs",
        "outputId": "5d211824-9f74-449b-c46f-d39af383897e"
      },
      "execution_count": 52,
      "outputs": [
        {
          "output_type": "stream",
          "name": "stderr",
          "text": [
            "/usr/local/lib/python3.8/dist-packages/torchvision/models/_utils.py:208: UserWarning: The parameter 'pretrained' is deprecated since 0.13 and may be removed in the future, please use 'weights' instead.\n",
            "  warnings.warn(\n",
            "/usr/local/lib/python3.8/dist-packages/torchvision/models/_utils.py:223: UserWarning: Arguments other than a weight enum or `None` for 'weights' are deprecated since 0.13 and may be removed in the future. The current behavior is equivalent to passing `weights=ResNet50_Weights.IMAGENET1K_V1`. You can also use `weights=ResNet50_Weights.DEFAULT` to get the most up-to-date weights.\n",
            "  warnings.warn(msg)\n",
            "Downloading: \"https://download.pytorch.org/models/resnet50-0676ba61.pth\" to /root/.cache/torch/hub/checkpoints/resnet50-0676ba61.pth\n"
          ]
        },
        {
          "output_type": "display_data",
          "data": {
            "text/plain": [
              "  0%|          | 0.00/97.8M [00:00<?, ?B/s]"
            ],
            "application/vnd.jupyter.widget-view+json": {
              "version_major": 2,
              "version_minor": 0,
              "model_id": "b621e01cf27a4365a795224199248b1c"
            }
          },
          "metadata": {}
        }
      ]
    },
    {
      "cell_type": "code",
      "execution_count": 53,
      "metadata": {
        "id": "3-c3-6_-7p4h"
      },
      "outputs": [],
      "source": [
        "# define the split function:\n",
        "\n",
        "batch_size = 32\n",
        "\n",
        "def extract_features(data, sample_count):\n",
        "    features = np.zeros(shape=(sample_count))\n",
        "    labels = np.zeros(shape = (sample_count))\n",
        "    conv_base.eval()\n",
        "    i = 0\n",
        "    for inputs_batch, labels_batch in data:\n",
        "      with torch.no_grad():\n",
        "        outputs = conv_base(inputs_batch) #file_name\n",
        "        features_batch = torch.argmax(outputs.data, 1)\n",
        "    \n",
        "      features[i * batch_size: (i + 1) * batch_size] = features_batch\n",
        "      labels[i * batch_size: (i + 1) * batch_size] = labels_batch\n",
        "      i += 1\n",
        "      if i * batch_size >= sample_count: #generators yield data indefinitely\n",
        "          break                          #have to break after we have seen every image once\n",
        "    return features, labels"
      ]
    },
    {
      "cell_type": "code",
      "source": [
        "# split each dataset on train and test set:\n",
        "\n",
        "train_features, train_labels = extract_features(dataloaders['train'],dataset_sizes['train'])\n",
        "validation_features, validation_labels = extract_features(dataloaders['valid'], dataset_sizes['valid'])\n",
        "test_features, test_labels = extract_features(dataloaders['test'], dataset_sizes['test'])"
      ],
      "metadata": {
        "colab": {
          "base_uri": "https://localhost:8080/"
        },
        "id": "sRmDw-y6SXd7",
        "outputId": "fcf0f1a7-d622-408d-bf5c-3feac153d209"
      },
      "execution_count": null,
      "outputs": [
        {
          "output_type": "stream",
          "name": "stderr",
          "text": [
            "/usr/local/lib/python3.8/dist-packages/torch/utils/data/dataloader.py:554: UserWarning: This DataLoader will create 4 worker processes in total. Our suggested max number of worker in current system is 2, which is smaller than what this DataLoader is going to create. Please be aware that excessive worker creation might get DataLoader running slow or even freeze, lower the worker number to avoid potential slowness/freeze if necessary.\n",
            "  warnings.warn(_create_warning_msg(\n"
          ]
        }
      ]
    },
    {
      "cell_type": "code",
      "source": [
        "# change the shape\n",
        "train_features = train_features.reshape(-1,1)\n",
        "validation_features = validation_features.reshape(-1,1)\n",
        "test_features = test_features.reshape(-1,1)"
      ],
      "metadata": {
        "id": "03MmxXI2yHak"
      },
      "execution_count": null,
      "outputs": []
    },
    {
      "cell_type": "code",
      "source": [
        "# define hyperparameters:\n",
        "parameters = {'max_depth' : np.arange(start = 2, stop = 10, step = 1) , \n",
        "              'min_samples_leaf' : np.arange(start = 2, stop = 4, step = 1),\n",
        "              'min_samples_split' : np.arange(start = 2, stop = 5, step = 1),\n",
        "              'learning_rate':[0.01,0.1,1,1.5]}\n"
      ],
      "metadata": {
        "id": "GZO2pzmFzLqd"
      },
      "execution_count": null,
      "outputs": []
    },
    {
      "cell_type": "code",
      "source": [
        "# GradientBoostingClassifier model:\n",
        "modele_boost = GradientBoostingClassifier(random_state=0)"
      ],
      "metadata": {
        "id": "My8wtZldSbEn"
      },
      "execution_count": null,
      "outputs": []
    },
    {
      "cell_type": "code",
      "source": [
        "# GridSearchCV\n",
        "f1 = make_scorer(f1_score , average='macro')\n",
        "\n",
        "modele_boost = GridSearchCV(modele_boost,\n",
        "                                  parameters,\n",
        "                                  scoring = f1,\n",
        "                                  verbose = 2, \n",
        "                                  cv = 5)\n",
        "\n",
        "modele_boost.fit(train_features,train_labels)"
      ],
      "metadata": {
        "colab": {
          "base_uri": "https://localhost:8080/"
        },
        "id": "JbgejMw2zo8r",
        "outputId": "12a2b836-dbd0-4dce-876b-5253f29694e5"
      },
      "execution_count": null,
      "outputs": [
        {
          "output_type": "stream",
          "name": "stdout",
          "text": [
            "Fitting 5 folds for each of 192 candidates, totalling 960 fits\n",
            "[CV] END learning_rate=0.01, max_depth=2, min_samples_leaf=2, min_samples_split=2; total time=   0.2s\n",
            "[CV] END learning_rate=0.01, max_depth=2, min_samples_leaf=2, min_samples_split=2; total time=   0.2s\n",
            "[CV] END learning_rate=0.01, max_depth=2, min_samples_leaf=2, min_samples_split=2; total time=   0.2s\n",
            "[CV] END learning_rate=0.01, max_depth=2, min_samples_leaf=2, min_samples_split=2; total time=   0.2s\n",
            "[CV] END learning_rate=0.01, max_depth=2, min_samples_leaf=2, min_samples_split=2; total time=   0.2s\n",
            "[CV] END learning_rate=0.01, max_depth=2, min_samples_leaf=2, min_samples_split=3; total time=   0.2s\n",
            "[CV] END learning_rate=0.01, max_depth=2, min_samples_leaf=2, min_samples_split=3; total time=   0.2s\n",
            "[CV] END learning_rate=0.01, max_depth=2, min_samples_leaf=2, min_samples_split=3; total time=   0.2s\n",
            "[CV] END learning_rate=0.01, max_depth=2, min_samples_leaf=2, min_samples_split=3; total time=   0.2s\n",
            "[CV] END learning_rate=0.01, max_depth=2, min_samples_leaf=2, min_samples_split=3; total time=   0.2s\n",
            "[CV] END learning_rate=0.01, max_depth=2, min_samples_leaf=2, min_samples_split=4; total time=   0.2s\n",
            "[CV] END learning_rate=0.01, max_depth=2, min_samples_leaf=2, min_samples_split=4; total time=   0.2s\n",
            "[CV] END learning_rate=0.01, max_depth=2, min_samples_leaf=2, min_samples_split=4; total time=   0.2s\n",
            "[CV] END learning_rate=0.01, max_depth=2, min_samples_leaf=2, min_samples_split=4; total time=   0.2s\n",
            "[CV] END learning_rate=0.01, max_depth=2, min_samples_leaf=2, min_samples_split=4; total time=   0.2s\n",
            "[CV] END learning_rate=0.01, max_depth=2, min_samples_leaf=3, min_samples_split=2; total time=   0.2s\n",
            "[CV] END learning_rate=0.01, max_depth=2, min_samples_leaf=3, min_samples_split=2; total time=   0.2s\n",
            "[CV] END learning_rate=0.01, max_depth=2, min_samples_leaf=3, min_samples_split=2; total time=   0.2s\n",
            "[CV] END learning_rate=0.01, max_depth=2, min_samples_leaf=3, min_samples_split=2; total time=   0.2s\n",
            "[CV] END learning_rate=0.01, max_depth=2, min_samples_leaf=3, min_samples_split=2; total time=   0.2s\n",
            "[CV] END learning_rate=0.01, max_depth=2, min_samples_leaf=3, min_samples_split=3; total time=   0.2s\n",
            "[CV] END learning_rate=0.01, max_depth=2, min_samples_leaf=3, min_samples_split=3; total time=   0.2s\n",
            "[CV] END learning_rate=0.01, max_depth=2, min_samples_leaf=3, min_samples_split=3; total time=   0.2s\n",
            "[CV] END learning_rate=0.01, max_depth=2, min_samples_leaf=3, min_samples_split=3; total time=   0.2s\n",
            "[CV] END learning_rate=0.01, max_depth=2, min_samples_leaf=3, min_samples_split=3; total time=   0.2s\n",
            "[CV] END learning_rate=0.01, max_depth=2, min_samples_leaf=3, min_samples_split=4; total time=   0.2s\n",
            "[CV] END learning_rate=0.01, max_depth=2, min_samples_leaf=3, min_samples_split=4; total time=   0.2s\n",
            "[CV] END learning_rate=0.01, max_depth=2, min_samples_leaf=3, min_samples_split=4; total time=   0.2s\n",
            "[CV] END learning_rate=0.01, max_depth=2, min_samples_leaf=3, min_samples_split=4; total time=   0.2s\n",
            "[CV] END learning_rate=0.01, max_depth=2, min_samples_leaf=3, min_samples_split=4; total time=   0.2s\n",
            "[CV] END learning_rate=0.01, max_depth=3, min_samples_leaf=2, min_samples_split=2; total time=   0.3s\n",
            "[CV] END learning_rate=0.01, max_depth=3, min_samples_leaf=2, min_samples_split=2; total time=   0.3s\n",
            "[CV] END learning_rate=0.01, max_depth=3, min_samples_leaf=2, min_samples_split=2; total time=   0.3s\n",
            "[CV] END learning_rate=0.01, max_depth=3, min_samples_leaf=2, min_samples_split=2; total time=   0.3s\n",
            "[CV] END learning_rate=0.01, max_depth=3, min_samples_leaf=2, min_samples_split=2; total time=   0.4s\n",
            "[CV] END learning_rate=0.01, max_depth=3, min_samples_leaf=2, min_samples_split=3; total time=   0.4s\n",
            "[CV] END learning_rate=0.01, max_depth=3, min_samples_leaf=2, min_samples_split=3; total time=   0.4s\n",
            "[CV] END learning_rate=0.01, max_depth=3, min_samples_leaf=2, min_samples_split=3; total time=   0.4s\n",
            "[CV] END learning_rate=0.01, max_depth=3, min_samples_leaf=2, min_samples_split=3; total time=   0.3s\n",
            "[CV] END learning_rate=0.01, max_depth=3, min_samples_leaf=2, min_samples_split=3; total time=   0.3s\n",
            "[CV] END learning_rate=0.01, max_depth=3, min_samples_leaf=2, min_samples_split=4; total time=   0.3s\n",
            "[CV] END learning_rate=0.01, max_depth=3, min_samples_leaf=2, min_samples_split=4; total time=   0.3s\n",
            "[CV] END learning_rate=0.01, max_depth=3, min_samples_leaf=2, min_samples_split=4; total time=   0.6s\n",
            "[CV] END learning_rate=0.01, max_depth=3, min_samples_leaf=2, min_samples_split=4; total time=   0.7s\n",
            "[CV] END learning_rate=0.01, max_depth=3, min_samples_leaf=2, min_samples_split=4; total time=   0.5s\n",
            "[CV] END learning_rate=0.01, max_depth=3, min_samples_leaf=3, min_samples_split=2; total time=   0.5s\n",
            "[CV] END learning_rate=0.01, max_depth=3, min_samples_leaf=3, min_samples_split=2; total time=   0.8s\n",
            "[CV] END learning_rate=0.01, max_depth=3, min_samples_leaf=3, min_samples_split=2; total time=   0.6s\n",
            "[CV] END learning_rate=0.01, max_depth=3, min_samples_leaf=3, min_samples_split=2; total time=   0.4s\n",
            "[CV] END learning_rate=0.01, max_depth=3, min_samples_leaf=3, min_samples_split=2; total time=   0.4s\n",
            "[CV] END learning_rate=0.01, max_depth=3, min_samples_leaf=3, min_samples_split=3; total time=   0.7s\n",
            "[CV] END learning_rate=0.01, max_depth=3, min_samples_leaf=3, min_samples_split=3; total time=   0.3s\n",
            "[CV] END learning_rate=0.01, max_depth=3, min_samples_leaf=3, min_samples_split=3; total time=   0.3s\n",
            "[CV] END learning_rate=0.01, max_depth=3, min_samples_leaf=3, min_samples_split=3; total time=   0.3s\n",
            "[CV] END learning_rate=0.01, max_depth=3, min_samples_leaf=3, min_samples_split=3; total time=   0.3s\n",
            "[CV] END learning_rate=0.01, max_depth=3, min_samples_leaf=3, min_samples_split=4; total time=   0.3s\n",
            "[CV] END learning_rate=0.01, max_depth=3, min_samples_leaf=3, min_samples_split=4; total time=   0.3s\n",
            "[CV] END learning_rate=0.01, max_depth=3, min_samples_leaf=3, min_samples_split=4; total time=   0.4s\n",
            "[CV] END learning_rate=0.01, max_depth=3, min_samples_leaf=3, min_samples_split=4; total time=   0.5s\n",
            "[CV] END learning_rate=0.01, max_depth=3, min_samples_leaf=3, min_samples_split=4; total time=   0.3s\n",
            "[CV] END learning_rate=0.01, max_depth=4, min_samples_leaf=2, min_samples_split=2; total time=   0.3s\n",
            "[CV] END learning_rate=0.01, max_depth=4, min_samples_leaf=2, min_samples_split=2; total time=   0.3s\n",
            "[CV] END learning_rate=0.01, max_depth=4, min_samples_leaf=2, min_samples_split=2; total time=   0.3s\n",
            "[CV] END learning_rate=0.01, max_depth=4, min_samples_leaf=2, min_samples_split=2; total time=   0.3s\n",
            "[CV] END learning_rate=0.01, max_depth=4, min_samples_leaf=2, min_samples_split=2; total time=   0.3s\n",
            "[CV] END learning_rate=0.01, max_depth=4, min_samples_leaf=2, min_samples_split=3; total time=   0.3s\n",
            "[CV] END learning_rate=0.01, max_depth=4, min_samples_leaf=2, min_samples_split=3; total time=   0.3s\n",
            "[CV] END learning_rate=0.01, max_depth=4, min_samples_leaf=2, min_samples_split=3; total time=   0.3s\n",
            "[CV] END learning_rate=0.01, max_depth=4, min_samples_leaf=2, min_samples_split=3; total time=   0.3s\n",
            "[CV] END learning_rate=0.01, max_depth=4, min_samples_leaf=2, min_samples_split=3; total time=   0.3s\n",
            "[CV] END learning_rate=0.01, max_depth=4, min_samples_leaf=2, min_samples_split=4; total time=   0.3s\n",
            "[CV] END learning_rate=0.01, max_depth=4, min_samples_leaf=2, min_samples_split=4; total time=   0.3s\n",
            "[CV] END learning_rate=0.01, max_depth=4, min_samples_leaf=2, min_samples_split=4; total time=   0.3s\n",
            "[CV] END learning_rate=0.01, max_depth=4, min_samples_leaf=2, min_samples_split=4; total time=   0.3s\n",
            "[CV] END learning_rate=0.01, max_depth=4, min_samples_leaf=2, min_samples_split=4; total time=   0.3s\n",
            "[CV] END learning_rate=0.01, max_depth=4, min_samples_leaf=3, min_samples_split=2; total time=   0.3s\n",
            "[CV] END learning_rate=0.01, max_depth=4, min_samples_leaf=3, min_samples_split=2; total time=   0.3s\n",
            "[CV] END learning_rate=0.01, max_depth=4, min_samples_leaf=3, min_samples_split=2; total time=   0.3s\n",
            "[CV] END learning_rate=0.01, max_depth=4, min_samples_leaf=3, min_samples_split=2; total time=   0.3s\n",
            "[CV] END learning_rate=0.01, max_depth=4, min_samples_leaf=3, min_samples_split=2; total time=   0.3s\n",
            "[CV] END learning_rate=0.01, max_depth=4, min_samples_leaf=3, min_samples_split=3; total time=   0.3s\n",
            "[CV] END learning_rate=0.01, max_depth=4, min_samples_leaf=3, min_samples_split=3; total time=   0.3s\n",
            "[CV] END learning_rate=0.01, max_depth=4, min_samples_leaf=3, min_samples_split=3; total time=   0.3s\n",
            "[CV] END learning_rate=0.01, max_depth=4, min_samples_leaf=3, min_samples_split=3; total time=   0.3s\n",
            "[CV] END learning_rate=0.01, max_depth=4, min_samples_leaf=3, min_samples_split=3; total time=   0.3s\n",
            "[CV] END learning_rate=0.01, max_depth=4, min_samples_leaf=3, min_samples_split=4; total time=   0.3s\n",
            "[CV] END learning_rate=0.01, max_depth=4, min_samples_leaf=3, min_samples_split=4; total time=   0.3s\n",
            "[CV] END learning_rate=0.01, max_depth=4, min_samples_leaf=3, min_samples_split=4; total time=   0.3s\n",
            "[CV] END learning_rate=0.01, max_depth=4, min_samples_leaf=3, min_samples_split=4; total time=   0.3s\n",
            "[CV] END learning_rate=0.01, max_depth=4, min_samples_leaf=3, min_samples_split=4; total time=   0.3s\n",
            "[CV] END learning_rate=0.01, max_depth=5, min_samples_leaf=2, min_samples_split=2; total time=   0.4s\n",
            "[CV] END learning_rate=0.01, max_depth=5, min_samples_leaf=2, min_samples_split=2; total time=   0.4s\n",
            "[CV] END learning_rate=0.01, max_depth=5, min_samples_leaf=2, min_samples_split=2; total time=   0.4s\n",
            "[CV] END learning_rate=0.01, max_depth=5, min_samples_leaf=2, min_samples_split=2; total time=   0.4s\n",
            "[CV] END learning_rate=0.01, max_depth=5, min_samples_leaf=2, min_samples_split=2; total time=   0.4s\n",
            "[CV] END learning_rate=0.01, max_depth=5, min_samples_leaf=2, min_samples_split=3; total time=   0.4s\n",
            "[CV] END learning_rate=0.01, max_depth=5, min_samples_leaf=2, min_samples_split=3; total time=   0.4s\n",
            "[CV] END learning_rate=0.01, max_depth=5, min_samples_leaf=2, min_samples_split=3; total time=   0.4s\n",
            "[CV] END learning_rate=0.01, max_depth=5, min_samples_leaf=2, min_samples_split=3; total time=   0.4s\n",
            "[CV] END learning_rate=0.01, max_depth=5, min_samples_leaf=2, min_samples_split=3; total time=   0.4s\n",
            "[CV] END learning_rate=0.01, max_depth=5, min_samples_leaf=2, min_samples_split=4; total time=   0.4s\n",
            "[CV] END learning_rate=0.01, max_depth=5, min_samples_leaf=2, min_samples_split=4; total time=   0.4s\n",
            "[CV] END learning_rate=0.01, max_depth=5, min_samples_leaf=2, min_samples_split=4; total time=   0.4s\n",
            "[CV] END learning_rate=0.01, max_depth=5, min_samples_leaf=2, min_samples_split=4; total time=   0.4s\n",
            "[CV] END learning_rate=0.01, max_depth=5, min_samples_leaf=2, min_samples_split=4; total time=   0.4s\n",
            "[CV] END learning_rate=0.01, max_depth=5, min_samples_leaf=3, min_samples_split=2; total time=   0.4s\n",
            "[CV] END learning_rate=0.01, max_depth=5, min_samples_leaf=3, min_samples_split=2; total time=   0.4s\n",
            "[CV] END learning_rate=0.01, max_depth=5, min_samples_leaf=3, min_samples_split=2; total time=   0.4s\n",
            "[CV] END learning_rate=0.01, max_depth=5, min_samples_leaf=3, min_samples_split=2; total time=   0.4s\n",
            "[CV] END learning_rate=0.01, max_depth=5, min_samples_leaf=3, min_samples_split=2; total time=   0.4s\n",
            "[CV] END learning_rate=0.01, max_depth=5, min_samples_leaf=3, min_samples_split=3; total time=   0.4s\n",
            "[CV] END learning_rate=0.01, max_depth=5, min_samples_leaf=3, min_samples_split=3; total time=   0.4s\n",
            "[CV] END learning_rate=0.01, max_depth=5, min_samples_leaf=3, min_samples_split=3; total time=   0.4s\n",
            "[CV] END learning_rate=0.01, max_depth=5, min_samples_leaf=3, min_samples_split=3; total time=   0.4s\n",
            "[CV] END learning_rate=0.01, max_depth=5, min_samples_leaf=3, min_samples_split=3; total time=   0.4s\n",
            "[CV] END learning_rate=0.01, max_depth=5, min_samples_leaf=3, min_samples_split=4; total time=   0.4s\n",
            "[CV] END learning_rate=0.01, max_depth=5, min_samples_leaf=3, min_samples_split=4; total time=   0.4s\n",
            "[CV] END learning_rate=0.01, max_depth=5, min_samples_leaf=3, min_samples_split=4; total time=   0.4s\n",
            "[CV] END learning_rate=0.01, max_depth=5, min_samples_leaf=3, min_samples_split=4; total time=   0.4s\n",
            "[CV] END learning_rate=0.01, max_depth=5, min_samples_leaf=3, min_samples_split=4; total time=   0.4s\n",
            "[CV] END learning_rate=0.01, max_depth=6, min_samples_leaf=2, min_samples_split=2; total time=   0.4s\n",
            "[CV] END learning_rate=0.01, max_depth=6, min_samples_leaf=2, min_samples_split=2; total time=   0.5s\n",
            "[CV] END learning_rate=0.01, max_depth=6, min_samples_leaf=2, min_samples_split=2; total time=   0.5s\n",
            "[CV] END learning_rate=0.01, max_depth=6, min_samples_leaf=2, min_samples_split=2; total time=   0.4s\n",
            "[CV] END learning_rate=0.01, max_depth=6, min_samples_leaf=2, min_samples_split=2; total time=   0.5s\n",
            "[CV] END learning_rate=0.01, max_depth=6, min_samples_leaf=2, min_samples_split=3; total time=   0.4s\n",
            "[CV] END learning_rate=0.01, max_depth=6, min_samples_leaf=2, min_samples_split=3; total time=   0.5s\n",
            "[CV] END learning_rate=0.01, max_depth=6, min_samples_leaf=2, min_samples_split=3; total time=   0.4s\n",
            "[CV] END learning_rate=0.01, max_depth=6, min_samples_leaf=2, min_samples_split=3; total time=   0.4s\n",
            "[CV] END learning_rate=0.01, max_depth=6, min_samples_leaf=2, min_samples_split=3; total time=   0.5s\n",
            "[CV] END learning_rate=0.01, max_depth=6, min_samples_leaf=2, min_samples_split=4; total time=   0.5s\n",
            "[CV] END learning_rate=0.01, max_depth=6, min_samples_leaf=2, min_samples_split=4; total time=   0.5s\n",
            "[CV] END learning_rate=0.01, max_depth=6, min_samples_leaf=2, min_samples_split=4; total time=   0.4s\n",
            "[CV] END learning_rate=0.01, max_depth=6, min_samples_leaf=2, min_samples_split=4; total time=   0.4s\n",
            "[CV] END learning_rate=0.01, max_depth=6, min_samples_leaf=2, min_samples_split=4; total time=   0.4s\n",
            "[CV] END learning_rate=0.01, max_depth=6, min_samples_leaf=3, min_samples_split=2; total time=   0.5s\n",
            "[CV] END learning_rate=0.01, max_depth=6, min_samples_leaf=3, min_samples_split=2; total time=   0.5s\n",
            "[CV] END learning_rate=0.01, max_depth=6, min_samples_leaf=3, min_samples_split=2; total time=   0.5s\n",
            "[CV] END learning_rate=0.01, max_depth=6, min_samples_leaf=3, min_samples_split=2; total time=   0.5s\n",
            "[CV] END learning_rate=0.01, max_depth=6, min_samples_leaf=3, min_samples_split=2; total time=   0.5s\n",
            "[CV] END learning_rate=0.01, max_depth=6, min_samples_leaf=3, min_samples_split=3; total time=   0.4s\n",
            "[CV] END learning_rate=0.01, max_depth=6, min_samples_leaf=3, min_samples_split=3; total time=   0.5s\n",
            "[CV] END learning_rate=0.01, max_depth=6, min_samples_leaf=3, min_samples_split=3; total time=   0.4s\n",
            "[CV] END learning_rate=0.01, max_depth=6, min_samples_leaf=3, min_samples_split=3; total time=   0.4s\n",
            "[CV] END learning_rate=0.01, max_depth=6, min_samples_leaf=3, min_samples_split=3; total time=   0.4s\n",
            "[CV] END learning_rate=0.01, max_depth=6, min_samples_leaf=3, min_samples_split=4; total time=   0.4s\n",
            "[CV] END learning_rate=0.01, max_depth=6, min_samples_leaf=3, min_samples_split=4; total time=   0.5s\n",
            "[CV] END learning_rate=0.01, max_depth=6, min_samples_leaf=3, min_samples_split=4; total time=   0.4s\n",
            "[CV] END learning_rate=0.01, max_depth=6, min_samples_leaf=3, min_samples_split=4; total time=   0.5s\n",
            "[CV] END learning_rate=0.01, max_depth=6, min_samples_leaf=3, min_samples_split=4; total time=   0.4s\n",
            "[CV] END learning_rate=0.01, max_depth=7, min_samples_leaf=2, min_samples_split=2; total time=   0.5s\n",
            "[CV] END learning_rate=0.01, max_depth=7, min_samples_leaf=2, min_samples_split=2; total time=   0.5s\n",
            "[CV] END learning_rate=0.01, max_depth=7, min_samples_leaf=2, min_samples_split=2; total time=   0.5s\n",
            "[CV] END learning_rate=0.01, max_depth=7, min_samples_leaf=2, min_samples_split=2; total time=   0.5s\n",
            "[CV] END learning_rate=0.01, max_depth=7, min_samples_leaf=2, min_samples_split=2; total time=   0.5s\n",
            "[CV] END learning_rate=0.01, max_depth=7, min_samples_leaf=2, min_samples_split=3; total time=   0.5s\n",
            "[CV] END learning_rate=0.01, max_depth=7, min_samples_leaf=2, min_samples_split=3; total time=   0.5s\n",
            "[CV] END learning_rate=0.01, max_depth=7, min_samples_leaf=2, min_samples_split=3; total time=   0.5s\n",
            "[CV] END learning_rate=0.01, max_depth=7, min_samples_leaf=2, min_samples_split=3; total time=   0.5s\n",
            "[CV] END learning_rate=0.01, max_depth=7, min_samples_leaf=2, min_samples_split=3; total time=   0.5s\n",
            "[CV] END learning_rate=0.01, max_depth=7, min_samples_leaf=2, min_samples_split=4; total time=   0.5s\n",
            "[CV] END learning_rate=0.01, max_depth=7, min_samples_leaf=2, min_samples_split=4; total time=   0.5s\n",
            "[CV] END learning_rate=0.01, max_depth=7, min_samples_leaf=2, min_samples_split=4; total time=   0.5s\n",
            "[CV] END learning_rate=0.01, max_depth=7, min_samples_leaf=2, min_samples_split=4; total time=   0.5s\n",
            "[CV] END learning_rate=0.01, max_depth=7, min_samples_leaf=2, min_samples_split=4; total time=   0.5s\n",
            "[CV] END learning_rate=0.01, max_depth=7, min_samples_leaf=3, min_samples_split=2; total time=   0.5s\n",
            "[CV] END learning_rate=0.01, max_depth=7, min_samples_leaf=3, min_samples_split=2; total time=   0.5s\n",
            "[CV] END learning_rate=0.01, max_depth=7, min_samples_leaf=3, min_samples_split=2; total time=   0.6s\n",
            "[CV] END learning_rate=0.01, max_depth=7, min_samples_leaf=3, min_samples_split=2; total time=   0.5s\n",
            "[CV] END learning_rate=0.01, max_depth=7, min_samples_leaf=3, min_samples_split=2; total time=   0.5s\n",
            "[CV] END learning_rate=0.01, max_depth=7, min_samples_leaf=3, min_samples_split=3; total time=   0.5s\n",
            "[CV] END learning_rate=0.01, max_depth=7, min_samples_leaf=3, min_samples_split=3; total time=   0.5s\n",
            "[CV] END learning_rate=0.01, max_depth=7, min_samples_leaf=3, min_samples_split=3; total time=   0.5s\n",
            "[CV] END learning_rate=0.01, max_depth=7, min_samples_leaf=3, min_samples_split=3; total time=   0.5s\n",
            "[CV] END learning_rate=0.01, max_depth=7, min_samples_leaf=3, min_samples_split=3; total time=   0.5s\n",
            "[CV] END learning_rate=0.01, max_depth=7, min_samples_leaf=3, min_samples_split=4; total time=   0.5s\n",
            "[CV] END learning_rate=0.01, max_depth=7, min_samples_leaf=3, min_samples_split=4; total time=   0.6s\n",
            "[CV] END learning_rate=0.01, max_depth=7, min_samples_leaf=3, min_samples_split=4; total time=   0.5s\n",
            "[CV] END learning_rate=0.01, max_depth=7, min_samples_leaf=3, min_samples_split=4; total time=   0.5s\n",
            "[CV] END learning_rate=0.01, max_depth=7, min_samples_leaf=3, min_samples_split=4; total time=   0.5s\n",
            "[CV] END learning_rate=0.01, max_depth=8, min_samples_leaf=2, min_samples_split=2; total time=   0.9s\n",
            "[CV] END learning_rate=0.01, max_depth=8, min_samples_leaf=2, min_samples_split=2; total time=   1.0s\n",
            "[CV] END learning_rate=0.01, max_depth=8, min_samples_leaf=2, min_samples_split=2; total time=   1.0s\n",
            "[CV] END learning_rate=0.01, max_depth=8, min_samples_leaf=2, min_samples_split=2; total time=   1.0s\n",
            "[CV] END learning_rate=0.01, max_depth=8, min_samples_leaf=2, min_samples_split=2; total time=   0.8s\n",
            "[CV] END learning_rate=0.01, max_depth=8, min_samples_leaf=2, min_samples_split=3; total time=   0.6s\n",
            "[CV] END learning_rate=0.01, max_depth=8, min_samples_leaf=2, min_samples_split=3; total time=   0.7s\n",
            "[CV] END learning_rate=0.01, max_depth=8, min_samples_leaf=2, min_samples_split=3; total time=   0.6s\n",
            "[CV] END learning_rate=0.01, max_depth=8, min_samples_leaf=2, min_samples_split=3; total time=   0.7s\n",
            "[CV] END learning_rate=0.01, max_depth=8, min_samples_leaf=2, min_samples_split=3; total time=   0.6s\n",
            "[CV] END learning_rate=0.01, max_depth=8, min_samples_leaf=2, min_samples_split=4; total time=   0.6s\n",
            "[CV] END learning_rate=0.01, max_depth=8, min_samples_leaf=2, min_samples_split=4; total time=   0.6s\n",
            "[CV] END learning_rate=0.01, max_depth=8, min_samples_leaf=2, min_samples_split=4; total time=   0.7s\n",
            "[CV] END learning_rate=0.01, max_depth=8, min_samples_leaf=2, min_samples_split=4; total time=   0.7s\n",
            "[CV] END learning_rate=0.01, max_depth=8, min_samples_leaf=2, min_samples_split=4; total time=   0.6s\n",
            "[CV] END learning_rate=0.01, max_depth=8, min_samples_leaf=3, min_samples_split=2; total time=   0.6s\n",
            "[CV] END learning_rate=0.01, max_depth=8, min_samples_leaf=3, min_samples_split=2; total time=   0.6s\n",
            "[CV] END learning_rate=0.01, max_depth=8, min_samples_leaf=3, min_samples_split=2; total time=   0.6s\n",
            "[CV] END learning_rate=0.01, max_depth=8, min_samples_leaf=3, min_samples_split=2; total time=   0.6s\n",
            "[CV] END learning_rate=0.01, max_depth=8, min_samples_leaf=3, min_samples_split=2; total time=   0.6s\n",
            "[CV] END learning_rate=0.01, max_depth=8, min_samples_leaf=3, min_samples_split=3; total time=   0.6s\n",
            "[CV] END learning_rate=0.01, max_depth=8, min_samples_leaf=3, min_samples_split=3; total time=   0.6s\n",
            "[CV] END learning_rate=0.01, max_depth=8, min_samples_leaf=3, min_samples_split=3; total time=   0.6s\n",
            "[CV] END learning_rate=0.01, max_depth=8, min_samples_leaf=3, min_samples_split=3; total time=   0.6s\n",
            "[CV] END learning_rate=0.01, max_depth=8, min_samples_leaf=3, min_samples_split=3; total time=   0.6s\n",
            "[CV] END learning_rate=0.01, max_depth=8, min_samples_leaf=3, min_samples_split=4; total time=   0.6s\n",
            "[CV] END learning_rate=0.01, max_depth=8, min_samples_leaf=3, min_samples_split=4; total time=   0.6s\n",
            "[CV] END learning_rate=0.01, max_depth=8, min_samples_leaf=3, min_samples_split=4; total time=   0.6s\n",
            "[CV] END learning_rate=0.01, max_depth=8, min_samples_leaf=3, min_samples_split=4; total time=   1.0s\n",
            "[CV] END learning_rate=0.01, max_depth=8, min_samples_leaf=3, min_samples_split=4; total time=   1.0s\n",
            "[CV] END learning_rate=0.01, max_depth=9, min_samples_leaf=2, min_samples_split=2; total time=   1.1s\n",
            "[CV] END learning_rate=0.01, max_depth=9, min_samples_leaf=2, min_samples_split=2; total time=   0.7s\n",
            "[CV] END learning_rate=0.01, max_depth=9, min_samples_leaf=2, min_samples_split=2; total time=   0.7s\n",
            "[CV] END learning_rate=0.01, max_depth=9, min_samples_leaf=2, min_samples_split=2; total time=   0.7s\n",
            "[CV] END learning_rate=0.01, max_depth=9, min_samples_leaf=2, min_samples_split=2; total time=   0.7s\n",
            "[CV] END learning_rate=0.01, max_depth=9, min_samples_leaf=2, min_samples_split=3; total time=   0.7s\n",
            "[CV] END learning_rate=0.01, max_depth=9, min_samples_leaf=2, min_samples_split=3; total time=   0.7s\n",
            "[CV] END learning_rate=0.01, max_depth=9, min_samples_leaf=2, min_samples_split=3; total time=   0.7s\n",
            "[CV] END learning_rate=0.01, max_depth=9, min_samples_leaf=2, min_samples_split=3; total time=   0.7s\n",
            "[CV] END learning_rate=0.01, max_depth=9, min_samples_leaf=2, min_samples_split=3; total time=   0.7s\n",
            "[CV] END learning_rate=0.01, max_depth=9, min_samples_leaf=2, min_samples_split=4; total time=   0.7s\n",
            "[CV] END learning_rate=0.01, max_depth=9, min_samples_leaf=2, min_samples_split=4; total time=   0.7s\n",
            "[CV] END learning_rate=0.01, max_depth=9, min_samples_leaf=2, min_samples_split=4; total time=   0.7s\n",
            "[CV] END learning_rate=0.01, max_depth=9, min_samples_leaf=2, min_samples_split=4; total time=   0.7s\n",
            "[CV] END learning_rate=0.01, max_depth=9, min_samples_leaf=2, min_samples_split=4; total time=   0.7s\n",
            "[CV] END learning_rate=0.01, max_depth=9, min_samples_leaf=3, min_samples_split=2; total time=   0.7s\n",
            "[CV] END learning_rate=0.01, max_depth=9, min_samples_leaf=3, min_samples_split=2; total time=   0.7s\n",
            "[CV] END learning_rate=0.01, max_depth=9, min_samples_leaf=3, min_samples_split=2; total time=   0.7s\n",
            "[CV] END learning_rate=0.01, max_depth=9, min_samples_leaf=3, min_samples_split=2; total time=   0.7s\n",
            "[CV] END learning_rate=0.01, max_depth=9, min_samples_leaf=3, min_samples_split=2; total time=   0.7s\n",
            "[CV] END learning_rate=0.01, max_depth=9, min_samples_leaf=3, min_samples_split=3; total time=   0.7s\n",
            "[CV] END learning_rate=0.01, max_depth=9, min_samples_leaf=3, min_samples_split=3; total time=   0.7s\n",
            "[CV] END learning_rate=0.01, max_depth=9, min_samples_leaf=3, min_samples_split=3; total time=   0.7s\n",
            "[CV] END learning_rate=0.01, max_depth=9, min_samples_leaf=3, min_samples_split=3; total time=   0.7s\n",
            "[CV] END learning_rate=0.01, max_depth=9, min_samples_leaf=3, min_samples_split=3; total time=   0.6s\n",
            "[CV] END learning_rate=0.01, max_depth=9, min_samples_leaf=3, min_samples_split=4; total time=   0.6s\n",
            "[CV] END learning_rate=0.01, max_depth=9, min_samples_leaf=3, min_samples_split=4; total time=   0.7s\n",
            "[CV] END learning_rate=0.01, max_depth=9, min_samples_leaf=3, min_samples_split=4; total time=   0.7s\n",
            "[CV] END learning_rate=0.01, max_depth=9, min_samples_leaf=3, min_samples_split=4; total time=   0.6s\n",
            "[CV] END learning_rate=0.01, max_depth=9, min_samples_leaf=3, min_samples_split=4; total time=   0.7s\n",
            "[CV] END learning_rate=0.1, max_depth=2, min_samples_leaf=2, min_samples_split=2; total time=   0.2s\n",
            "[CV] END learning_rate=0.1, max_depth=2, min_samples_leaf=2, min_samples_split=2; total time=   0.2s\n",
            "[CV] END learning_rate=0.1, max_depth=2, min_samples_leaf=2, min_samples_split=2; total time=   0.2s\n",
            "[CV] END learning_rate=0.1, max_depth=2, min_samples_leaf=2, min_samples_split=2; total time=   0.2s\n",
            "[CV] END learning_rate=0.1, max_depth=2, min_samples_leaf=2, min_samples_split=2; total time=   0.2s\n",
            "[CV] END learning_rate=0.1, max_depth=2, min_samples_leaf=2, min_samples_split=3; total time=   0.2s\n",
            "[CV] END learning_rate=0.1, max_depth=2, min_samples_leaf=2, min_samples_split=3; total time=   0.2s\n",
            "[CV] END learning_rate=0.1, max_depth=2, min_samples_leaf=2, min_samples_split=3; total time=   0.2s\n",
            "[CV] END learning_rate=0.1, max_depth=2, min_samples_leaf=2, min_samples_split=3; total time=   0.2s\n",
            "[CV] END learning_rate=0.1, max_depth=2, min_samples_leaf=2, min_samples_split=3; total time=   0.2s\n",
            "[CV] END learning_rate=0.1, max_depth=2, min_samples_leaf=2, min_samples_split=4; total time=   0.2s\n",
            "[CV] END learning_rate=0.1, max_depth=2, min_samples_leaf=2, min_samples_split=4; total time=   0.2s\n",
            "[CV] END learning_rate=0.1, max_depth=2, min_samples_leaf=2, min_samples_split=4; total time=   0.2s\n",
            "[CV] END learning_rate=0.1, max_depth=2, min_samples_leaf=2, min_samples_split=4; total time=   0.2s\n",
            "[CV] END learning_rate=0.1, max_depth=2, min_samples_leaf=2, min_samples_split=4; total time=   0.2s\n",
            "[CV] END learning_rate=0.1, max_depth=2, min_samples_leaf=3, min_samples_split=2; total time=   0.2s\n",
            "[CV] END learning_rate=0.1, max_depth=2, min_samples_leaf=3, min_samples_split=2; total time=   0.2s\n",
            "[CV] END learning_rate=0.1, max_depth=2, min_samples_leaf=3, min_samples_split=2; total time=   0.2s\n",
            "[CV] END learning_rate=0.1, max_depth=2, min_samples_leaf=3, min_samples_split=2; total time=   0.2s\n",
            "[CV] END learning_rate=0.1, max_depth=2, min_samples_leaf=3, min_samples_split=2; total time=   0.2s\n",
            "[CV] END learning_rate=0.1, max_depth=2, min_samples_leaf=3, min_samples_split=3; total time=   0.2s\n",
            "[CV] END learning_rate=0.1, max_depth=2, min_samples_leaf=3, min_samples_split=3; total time=   0.2s\n",
            "[CV] END learning_rate=0.1, max_depth=2, min_samples_leaf=3, min_samples_split=3; total time=   0.2s\n",
            "[CV] END learning_rate=0.1, max_depth=2, min_samples_leaf=3, min_samples_split=3; total time=   0.2s\n",
            "[CV] END learning_rate=0.1, max_depth=2, min_samples_leaf=3, min_samples_split=3; total time=   0.2s\n",
            "[CV] END learning_rate=0.1, max_depth=2, min_samples_leaf=3, min_samples_split=4; total time=   0.2s\n",
            "[CV] END learning_rate=0.1, max_depth=2, min_samples_leaf=3, min_samples_split=4; total time=   0.2s\n",
            "[CV] END learning_rate=0.1, max_depth=2, min_samples_leaf=3, min_samples_split=4; total time=   0.2s\n",
            "[CV] END learning_rate=0.1, max_depth=2, min_samples_leaf=3, min_samples_split=4; total time=   0.2s\n",
            "[CV] END learning_rate=0.1, max_depth=2, min_samples_leaf=3, min_samples_split=4; total time=   0.2s\n",
            "[CV] END learning_rate=0.1, max_depth=3, min_samples_leaf=2, min_samples_split=2; total time=   0.3s\n",
            "[CV] END learning_rate=0.1, max_depth=3, min_samples_leaf=2, min_samples_split=2; total time=   0.3s\n",
            "[CV] END learning_rate=0.1, max_depth=3, min_samples_leaf=2, min_samples_split=2; total time=   0.3s\n",
            "[CV] END learning_rate=0.1, max_depth=3, min_samples_leaf=2, min_samples_split=2; total time=   0.3s\n",
            "[CV] END learning_rate=0.1, max_depth=3, min_samples_leaf=2, min_samples_split=2; total time=   0.3s\n",
            "[CV] END learning_rate=0.1, max_depth=3, min_samples_leaf=2, min_samples_split=3; total time=   0.3s\n",
            "[CV] END learning_rate=0.1, max_depth=3, min_samples_leaf=2, min_samples_split=3; total time=   0.3s\n",
            "[CV] END learning_rate=0.1, max_depth=3, min_samples_leaf=2, min_samples_split=3; total time=   0.3s\n",
            "[CV] END learning_rate=0.1, max_depth=3, min_samples_leaf=2, min_samples_split=3; total time=   0.3s\n",
            "[CV] END learning_rate=0.1, max_depth=3, min_samples_leaf=2, min_samples_split=3; total time=   0.3s\n",
            "[CV] END learning_rate=0.1, max_depth=3, min_samples_leaf=2, min_samples_split=4; total time=   0.3s\n",
            "[CV] END learning_rate=0.1, max_depth=3, min_samples_leaf=2, min_samples_split=4; total time=   0.3s\n",
            "[CV] END learning_rate=0.1, max_depth=3, min_samples_leaf=2, min_samples_split=4; total time=   0.3s\n",
            "[CV] END learning_rate=0.1, max_depth=3, min_samples_leaf=2, min_samples_split=4; total time=   0.3s\n",
            "[CV] END learning_rate=0.1, max_depth=3, min_samples_leaf=2, min_samples_split=4; total time=   0.3s\n",
            "[CV] END learning_rate=0.1, max_depth=3, min_samples_leaf=3, min_samples_split=2; total time=   0.3s\n",
            "[CV] END learning_rate=0.1, max_depth=3, min_samples_leaf=3, min_samples_split=2; total time=   0.3s\n",
            "[CV] END learning_rate=0.1, max_depth=3, min_samples_leaf=3, min_samples_split=2; total time=   0.3s\n",
            "[CV] END learning_rate=0.1, max_depth=3, min_samples_leaf=3, min_samples_split=2; total time=   0.3s\n",
            "[CV] END learning_rate=0.1, max_depth=3, min_samples_leaf=3, min_samples_split=2; total time=   0.3s\n",
            "[CV] END learning_rate=0.1, max_depth=3, min_samples_leaf=3, min_samples_split=3; total time=   0.3s\n",
            "[CV] END learning_rate=0.1, max_depth=3, min_samples_leaf=3, min_samples_split=3; total time=   0.3s\n",
            "[CV] END learning_rate=0.1, max_depth=3, min_samples_leaf=3, min_samples_split=3; total time=   0.3s\n",
            "[CV] END learning_rate=0.1, max_depth=3, min_samples_leaf=3, min_samples_split=3; total time=   0.3s\n",
            "[CV] END learning_rate=0.1, max_depth=3, min_samples_leaf=3, min_samples_split=3; total time=   0.3s\n",
            "[CV] END learning_rate=0.1, max_depth=3, min_samples_leaf=3, min_samples_split=4; total time=   0.3s\n",
            "[CV] END learning_rate=0.1, max_depth=3, min_samples_leaf=3, min_samples_split=4; total time=   0.3s\n",
            "[CV] END learning_rate=0.1, max_depth=3, min_samples_leaf=3, min_samples_split=4; total time=   0.3s\n",
            "[CV] END learning_rate=0.1, max_depth=3, min_samples_leaf=3, min_samples_split=4; total time=   0.3s\n",
            "[CV] END learning_rate=0.1, max_depth=3, min_samples_leaf=3, min_samples_split=4; total time=   0.3s\n",
            "[CV] END learning_rate=0.1, max_depth=4, min_samples_leaf=2, min_samples_split=2; total time=   0.3s\n",
            "[CV] END learning_rate=0.1, max_depth=4, min_samples_leaf=2, min_samples_split=2; total time=   0.4s\n",
            "[CV] END learning_rate=0.1, max_depth=4, min_samples_leaf=2, min_samples_split=2; total time=   0.3s\n",
            "[CV] END learning_rate=0.1, max_depth=4, min_samples_leaf=2, min_samples_split=2; total time=   0.3s\n",
            "[CV] END learning_rate=0.1, max_depth=4, min_samples_leaf=2, min_samples_split=2; total time=   0.3s\n",
            "[CV] END learning_rate=0.1, max_depth=4, min_samples_leaf=2, min_samples_split=3; total time=   0.3s\n",
            "[CV] END learning_rate=0.1, max_depth=4, min_samples_leaf=2, min_samples_split=3; total time=   0.3s\n",
            "[CV] END learning_rate=0.1, max_depth=4, min_samples_leaf=2, min_samples_split=3; total time=   0.3s\n",
            "[CV] END learning_rate=0.1, max_depth=4, min_samples_leaf=2, min_samples_split=3; total time=   0.3s\n",
            "[CV] END learning_rate=0.1, max_depth=4, min_samples_leaf=2, min_samples_split=3; total time=   0.3s\n",
            "[CV] END learning_rate=0.1, max_depth=4, min_samples_leaf=2, min_samples_split=4; total time=   0.3s\n",
            "[CV] END learning_rate=0.1, max_depth=4, min_samples_leaf=2, min_samples_split=4; total time=   0.3s\n",
            "[CV] END learning_rate=0.1, max_depth=4, min_samples_leaf=2, min_samples_split=4; total time=   0.3s\n",
            "[CV] END learning_rate=0.1, max_depth=4, min_samples_leaf=2, min_samples_split=4; total time=   0.4s\n",
            "[CV] END learning_rate=0.1, max_depth=4, min_samples_leaf=2, min_samples_split=4; total time=   0.4s\n",
            "[CV] END learning_rate=0.1, max_depth=4, min_samples_leaf=3, min_samples_split=2; total time=   0.3s\n",
            "[CV] END learning_rate=0.1, max_depth=4, min_samples_leaf=3, min_samples_split=2; total time=   0.4s\n",
            "[CV] END learning_rate=0.1, max_depth=4, min_samples_leaf=3, min_samples_split=2; total time=   0.3s\n",
            "[CV] END learning_rate=0.1, max_depth=4, min_samples_leaf=3, min_samples_split=2; total time=   0.3s\n",
            "[CV] END learning_rate=0.1, max_depth=4, min_samples_leaf=3, min_samples_split=2; total time=   0.3s\n",
            "[CV] END learning_rate=0.1, max_depth=4, min_samples_leaf=3, min_samples_split=3; total time=   0.3s\n",
            "[CV] END learning_rate=0.1, max_depth=4, min_samples_leaf=3, min_samples_split=3; total time=   0.3s\n",
            "[CV] END learning_rate=0.1, max_depth=4, min_samples_leaf=3, min_samples_split=3; total time=   0.3s\n",
            "[CV] END learning_rate=0.1, max_depth=4, min_samples_leaf=3, min_samples_split=3; total time=   0.3s\n",
            "[CV] END learning_rate=0.1, max_depth=4, min_samples_leaf=3, min_samples_split=3; total time=   0.3s\n",
            "[CV] END learning_rate=0.1, max_depth=4, min_samples_leaf=3, min_samples_split=4; total time=   0.3s\n",
            "[CV] END learning_rate=0.1, max_depth=4, min_samples_leaf=3, min_samples_split=4; total time=   0.3s\n",
            "[CV] END learning_rate=0.1, max_depth=4, min_samples_leaf=3, min_samples_split=4; total time=   0.3s\n",
            "[CV] END learning_rate=0.1, max_depth=4, min_samples_leaf=3, min_samples_split=4; total time=   0.3s\n",
            "[CV] END learning_rate=0.1, max_depth=4, min_samples_leaf=3, min_samples_split=4; total time=   0.3s\n",
            "[CV] END learning_rate=0.1, max_depth=5, min_samples_leaf=2, min_samples_split=2; total time=   0.4s\n",
            "[CV] END learning_rate=0.1, max_depth=5, min_samples_leaf=2, min_samples_split=2; total time=   0.4s\n",
            "[CV] END learning_rate=0.1, max_depth=5, min_samples_leaf=2, min_samples_split=2; total time=   0.4s\n",
            "[CV] END learning_rate=0.1, max_depth=5, min_samples_leaf=2, min_samples_split=2; total time=   0.4s\n",
            "[CV] END learning_rate=0.1, max_depth=5, min_samples_leaf=2, min_samples_split=2; total time=   0.4s\n",
            "[CV] END learning_rate=0.1, max_depth=5, min_samples_leaf=2, min_samples_split=3; total time=   0.4s\n",
            "[CV] END learning_rate=0.1, max_depth=5, min_samples_leaf=2, min_samples_split=3; total time=   0.4s\n",
            "[CV] END learning_rate=0.1, max_depth=5, min_samples_leaf=2, min_samples_split=3; total time=   0.4s\n",
            "[CV] END learning_rate=0.1, max_depth=5, min_samples_leaf=2, min_samples_split=3; total time=   0.4s\n",
            "[CV] END learning_rate=0.1, max_depth=5, min_samples_leaf=2, min_samples_split=3; total time=   0.5s\n",
            "[CV] END learning_rate=0.1, max_depth=5, min_samples_leaf=2, min_samples_split=4; total time=   0.4s\n",
            "[CV] END learning_rate=0.1, max_depth=5, min_samples_leaf=2, min_samples_split=4; total time=   0.4s\n",
            "[CV] END learning_rate=0.1, max_depth=5, min_samples_leaf=2, min_samples_split=4; total time=   0.4s\n",
            "[CV] END learning_rate=0.1, max_depth=5, min_samples_leaf=2, min_samples_split=4; total time=   0.4s\n",
            "[CV] END learning_rate=0.1, max_depth=5, min_samples_leaf=2, min_samples_split=4; total time=   0.4s\n",
            "[CV] END learning_rate=0.1, max_depth=5, min_samples_leaf=3, min_samples_split=2; total time=   0.4s\n",
            "[CV] END learning_rate=0.1, max_depth=5, min_samples_leaf=3, min_samples_split=2; total time=   0.4s\n",
            "[CV] END learning_rate=0.1, max_depth=5, min_samples_leaf=3, min_samples_split=2; total time=   0.4s\n",
            "[CV] END learning_rate=0.1, max_depth=5, min_samples_leaf=3, min_samples_split=2; total time=   0.4s\n",
            "[CV] END learning_rate=0.1, max_depth=5, min_samples_leaf=3, min_samples_split=2; total time=   0.4s\n",
            "[CV] END learning_rate=0.1, max_depth=5, min_samples_leaf=3, min_samples_split=3; total time=   0.4s\n",
            "[CV] END learning_rate=0.1, max_depth=5, min_samples_leaf=3, min_samples_split=3; total time=   0.4s\n",
            "[CV] END learning_rate=0.1, max_depth=5, min_samples_leaf=3, min_samples_split=3; total time=   0.4s\n",
            "[CV] END learning_rate=0.1, max_depth=5, min_samples_leaf=3, min_samples_split=3; total time=   0.4s\n",
            "[CV] END learning_rate=0.1, max_depth=5, min_samples_leaf=3, min_samples_split=3; total time=   0.4s\n",
            "[CV] END learning_rate=0.1, max_depth=5, min_samples_leaf=3, min_samples_split=4; total time=   0.4s\n",
            "[CV] END learning_rate=0.1, max_depth=5, min_samples_leaf=3, min_samples_split=4; total time=   0.4s\n",
            "[CV] END learning_rate=0.1, max_depth=5, min_samples_leaf=3, min_samples_split=4; total time=   0.4s\n",
            "[CV] END learning_rate=0.1, max_depth=5, min_samples_leaf=3, min_samples_split=4; total time=   0.4s\n",
            "[CV] END learning_rate=0.1, max_depth=5, min_samples_leaf=3, min_samples_split=4; total time=   0.4s\n",
            "[CV] END learning_rate=0.1, max_depth=6, min_samples_leaf=2, min_samples_split=2; total time=   0.4s\n",
            "[CV] END learning_rate=0.1, max_depth=6, min_samples_leaf=2, min_samples_split=2; total time=   0.5s\n",
            "[CV] END learning_rate=0.1, max_depth=6, min_samples_leaf=2, min_samples_split=2; total time=   0.4s\n",
            "[CV] END learning_rate=0.1, max_depth=6, min_samples_leaf=2, min_samples_split=2; total time=   0.5s\n",
            "[CV] END learning_rate=0.1, max_depth=6, min_samples_leaf=2, min_samples_split=2; total time=   0.5s\n",
            "[CV] END learning_rate=0.1, max_depth=6, min_samples_leaf=2, min_samples_split=3; total time=   0.5s\n",
            "[CV] END learning_rate=0.1, max_depth=6, min_samples_leaf=2, min_samples_split=3; total time=   0.5s\n",
            "[CV] END learning_rate=0.1, max_depth=6, min_samples_leaf=2, min_samples_split=3; total time=   0.4s\n",
            "[CV] END learning_rate=0.1, max_depth=6, min_samples_leaf=2, min_samples_split=3; total time=   0.5s\n",
            "[CV] END learning_rate=0.1, max_depth=6, min_samples_leaf=2, min_samples_split=3; total time=   0.5s\n",
            "[CV] END learning_rate=0.1, max_depth=6, min_samples_leaf=2, min_samples_split=4; total time=   0.5s\n",
            "[CV] END learning_rate=0.1, max_depth=6, min_samples_leaf=2, min_samples_split=4; total time=   0.4s\n",
            "[CV] END learning_rate=0.1, max_depth=6, min_samples_leaf=2, min_samples_split=4; total time=   0.5s\n",
            "[CV] END learning_rate=0.1, max_depth=6, min_samples_leaf=2, min_samples_split=4; total time=   0.5s\n",
            "[CV] END learning_rate=0.1, max_depth=6, min_samples_leaf=2, min_samples_split=4; total time=   0.5s\n",
            "[CV] END learning_rate=0.1, max_depth=6, min_samples_leaf=3, min_samples_split=2; total time=   0.5s\n",
            "[CV] END learning_rate=0.1, max_depth=6, min_samples_leaf=3, min_samples_split=2; total time=   0.5s\n",
            "[CV] END learning_rate=0.1, max_depth=6, min_samples_leaf=3, min_samples_split=2; total time=   0.5s\n",
            "[CV] END learning_rate=0.1, max_depth=6, min_samples_leaf=3, min_samples_split=2; total time=   0.5s\n",
            "[CV] END learning_rate=0.1, max_depth=6, min_samples_leaf=3, min_samples_split=2; total time=   0.5s\n",
            "[CV] END learning_rate=0.1, max_depth=6, min_samples_leaf=3, min_samples_split=3; total time=   0.5s\n",
            "[CV] END learning_rate=0.1, max_depth=6, min_samples_leaf=3, min_samples_split=3; total time=   0.5s\n",
            "[CV] END learning_rate=0.1, max_depth=6, min_samples_leaf=3, min_samples_split=3; total time=   0.5s\n",
            "[CV] END learning_rate=0.1, max_depth=6, min_samples_leaf=3, min_samples_split=3; total time=   0.5s\n",
            "[CV] END learning_rate=0.1, max_depth=6, min_samples_leaf=3, min_samples_split=3; total time=   0.5s\n",
            "[CV] END learning_rate=0.1, max_depth=6, min_samples_leaf=3, min_samples_split=4; total time=   0.5s\n",
            "[CV] END learning_rate=0.1, max_depth=6, min_samples_leaf=3, min_samples_split=4; total time=   0.5s\n",
            "[CV] END learning_rate=0.1, max_depth=6, min_samples_leaf=3, min_samples_split=4; total time=   0.5s\n",
            "[CV] END learning_rate=0.1, max_depth=6, min_samples_leaf=3, min_samples_split=4; total time=   0.5s\n",
            "[CV] END learning_rate=0.1, max_depth=6, min_samples_leaf=3, min_samples_split=4; total time=   0.5s\n",
            "[CV] END learning_rate=0.1, max_depth=7, min_samples_leaf=2, min_samples_split=2; total time=   0.5s\n",
            "[CV] END learning_rate=0.1, max_depth=7, min_samples_leaf=2, min_samples_split=2; total time=   0.6s\n",
            "[CV] END learning_rate=0.1, max_depth=7, min_samples_leaf=2, min_samples_split=2; total time=   0.6s\n",
            "[CV] END learning_rate=0.1, max_depth=7, min_samples_leaf=2, min_samples_split=2; total time=   0.5s\n",
            "[CV] END learning_rate=0.1, max_depth=7, min_samples_leaf=2, min_samples_split=2; total time=   0.6s\n",
            "[CV] END learning_rate=0.1, max_depth=7, min_samples_leaf=2, min_samples_split=3; total time=   0.5s\n",
            "[CV] END learning_rate=0.1, max_depth=7, min_samples_leaf=2, min_samples_split=3; total time=   0.5s\n",
            "[CV] END learning_rate=0.1, max_depth=7, min_samples_leaf=2, min_samples_split=3; total time=   0.5s\n",
            "[CV] END learning_rate=0.1, max_depth=7, min_samples_leaf=2, min_samples_split=3; total time=   0.5s\n",
            "[CV] END learning_rate=0.1, max_depth=7, min_samples_leaf=2, min_samples_split=3; total time=   0.5s\n",
            "[CV] END learning_rate=0.1, max_depth=7, min_samples_leaf=2, min_samples_split=4; total time=   0.5s\n",
            "[CV] END learning_rate=0.1, max_depth=7, min_samples_leaf=2, min_samples_split=4; total time=   0.5s\n",
            "[CV] END learning_rate=0.1, max_depth=7, min_samples_leaf=2, min_samples_split=4; total time=   0.5s\n",
            "[CV] END learning_rate=0.1, max_depth=7, min_samples_leaf=2, min_samples_split=4; total time=   0.5s\n",
            "[CV] END learning_rate=0.1, max_depth=7, min_samples_leaf=2, min_samples_split=4; total time=   0.5s\n",
            "[CV] END learning_rate=0.1, max_depth=7, min_samples_leaf=3, min_samples_split=2; total time=   0.5s\n",
            "[CV] END learning_rate=0.1, max_depth=7, min_samples_leaf=3, min_samples_split=2; total time=   0.5s\n",
            "[CV] END learning_rate=0.1, max_depth=7, min_samples_leaf=3, min_samples_split=2; total time=   0.5s\n",
            "[CV] END learning_rate=0.1, max_depth=7, min_samples_leaf=3, min_samples_split=2; total time=   0.5s\n",
            "[CV] END learning_rate=0.1, max_depth=7, min_samples_leaf=3, min_samples_split=2; total time=   0.5s\n",
            "[CV] END learning_rate=0.1, max_depth=7, min_samples_leaf=3, min_samples_split=3; total time=   0.5s\n",
            "[CV] END learning_rate=0.1, max_depth=7, min_samples_leaf=3, min_samples_split=3; total time=   0.5s\n",
            "[CV] END learning_rate=0.1, max_depth=7, min_samples_leaf=3, min_samples_split=3; total time=   0.5s\n",
            "[CV] END learning_rate=0.1, max_depth=7, min_samples_leaf=3, min_samples_split=3; total time=   0.5s\n",
            "[CV] END learning_rate=0.1, max_depth=7, min_samples_leaf=3, min_samples_split=3; total time=   0.5s\n",
            "[CV] END learning_rate=0.1, max_depth=7, min_samples_leaf=3, min_samples_split=4; total time=   0.5s\n",
            "[CV] END learning_rate=0.1, max_depth=7, min_samples_leaf=3, min_samples_split=4; total time=   0.5s\n",
            "[CV] END learning_rate=0.1, max_depth=7, min_samples_leaf=3, min_samples_split=4; total time=   0.5s\n",
            "[CV] END learning_rate=0.1, max_depth=7, min_samples_leaf=3, min_samples_split=4; total time=   0.5s\n",
            "[CV] END learning_rate=0.1, max_depth=7, min_samples_leaf=3, min_samples_split=4; total time=   0.5s\n",
            "[CV] END learning_rate=0.1, max_depth=8, min_samples_leaf=2, min_samples_split=2; total time=   0.6s\n",
            "[CV] END learning_rate=0.1, max_depth=8, min_samples_leaf=2, min_samples_split=2; total time=   0.6s\n",
            "[CV] END learning_rate=0.1, max_depth=8, min_samples_leaf=2, min_samples_split=2; total time=   0.6s\n",
            "[CV] END learning_rate=0.1, max_depth=8, min_samples_leaf=2, min_samples_split=2; total time=   0.6s\n",
            "[CV] END learning_rate=0.1, max_depth=8, min_samples_leaf=2, min_samples_split=2; total time=   0.6s\n",
            "[CV] END learning_rate=0.1, max_depth=8, min_samples_leaf=2, min_samples_split=3; total time=   0.6s\n",
            "[CV] END learning_rate=0.1, max_depth=8, min_samples_leaf=2, min_samples_split=3; total time=   0.6s\n",
            "[CV] END learning_rate=0.1, max_depth=8, min_samples_leaf=2, min_samples_split=3; total time=   0.6s\n",
            "[CV] END learning_rate=0.1, max_depth=8, min_samples_leaf=2, min_samples_split=3; total time=   0.6s\n",
            "[CV] END learning_rate=0.1, max_depth=8, min_samples_leaf=2, min_samples_split=3; total time=   0.6s\n",
            "[CV] END learning_rate=0.1, max_depth=8, min_samples_leaf=2, min_samples_split=4; total time=   0.6s\n",
            "[CV] END learning_rate=0.1, max_depth=8, min_samples_leaf=2, min_samples_split=4; total time=   0.6s\n",
            "[CV] END learning_rate=0.1, max_depth=8, min_samples_leaf=2, min_samples_split=4; total time=   0.6s\n",
            "[CV] END learning_rate=0.1, max_depth=8, min_samples_leaf=2, min_samples_split=4; total time=   0.6s\n",
            "[CV] END learning_rate=0.1, max_depth=8, min_samples_leaf=2, min_samples_split=4; total time=   0.6s\n",
            "[CV] END learning_rate=0.1, max_depth=8, min_samples_leaf=3, min_samples_split=2; total time=   0.6s\n",
            "[CV] END learning_rate=0.1, max_depth=8, min_samples_leaf=3, min_samples_split=2; total time=   0.6s\n",
            "[CV] END learning_rate=0.1, max_depth=8, min_samples_leaf=3, min_samples_split=2; total time=   0.6s\n",
            "[CV] END learning_rate=0.1, max_depth=8, min_samples_leaf=3, min_samples_split=2; total time=   0.6s\n",
            "[CV] END learning_rate=0.1, max_depth=8, min_samples_leaf=3, min_samples_split=2; total time=   0.6s\n",
            "[CV] END learning_rate=0.1, max_depth=8, min_samples_leaf=3, min_samples_split=3; total time=   0.6s\n",
            "[CV] END learning_rate=0.1, max_depth=8, min_samples_leaf=3, min_samples_split=3; total time=   0.6s\n",
            "[CV] END learning_rate=0.1, max_depth=8, min_samples_leaf=3, min_samples_split=3; total time=   0.6s\n",
            "[CV] END learning_rate=0.1, max_depth=8, min_samples_leaf=3, min_samples_split=3; total time=   0.6s\n",
            "[CV] END learning_rate=0.1, max_depth=8, min_samples_leaf=3, min_samples_split=3; total time=   0.6s\n",
            "[CV] END learning_rate=0.1, max_depth=8, min_samples_leaf=3, min_samples_split=4; total time=   0.6s\n",
            "[CV] END learning_rate=0.1, max_depth=8, min_samples_leaf=3, min_samples_split=4; total time=   0.6s\n",
            "[CV] END learning_rate=0.1, max_depth=8, min_samples_leaf=3, min_samples_split=4; total time=   0.6s\n",
            "[CV] END learning_rate=0.1, max_depth=8, min_samples_leaf=3, min_samples_split=4; total time=   0.6s\n",
            "[CV] END learning_rate=0.1, max_depth=8, min_samples_leaf=3, min_samples_split=4; total time=   0.6s\n",
            "[CV] END learning_rate=0.1, max_depth=9, min_samples_leaf=2, min_samples_split=2; total time=   0.6s\n",
            "[CV] END learning_rate=0.1, max_depth=9, min_samples_leaf=2, min_samples_split=2; total time=   0.6s\n",
            "[CV] END learning_rate=0.1, max_depth=9, min_samples_leaf=2, min_samples_split=2; total time=   0.6s\n",
            "[CV] END learning_rate=0.1, max_depth=9, min_samples_leaf=2, min_samples_split=2; total time=   0.6s\n",
            "[CV] END learning_rate=0.1, max_depth=9, min_samples_leaf=2, min_samples_split=2; total time=   0.6s\n",
            "[CV] END learning_rate=0.1, max_depth=9, min_samples_leaf=2, min_samples_split=3; total time=   0.7s\n",
            "[CV] END learning_rate=0.1, max_depth=9, min_samples_leaf=2, min_samples_split=3; total time=   0.6s\n",
            "[CV] END learning_rate=0.1, max_depth=9, min_samples_leaf=2, min_samples_split=3; total time=   0.6s\n",
            "[CV] END learning_rate=0.1, max_depth=9, min_samples_leaf=2, min_samples_split=3; total time=   0.6s\n",
            "[CV] END learning_rate=0.1, max_depth=9, min_samples_leaf=2, min_samples_split=3; total time=   0.7s\n",
            "[CV] END learning_rate=0.1, max_depth=9, min_samples_leaf=2, min_samples_split=4; total time=   0.7s\n",
            "[CV] END learning_rate=0.1, max_depth=9, min_samples_leaf=2, min_samples_split=4; total time=   0.6s\n",
            "[CV] END learning_rate=0.1, max_depth=9, min_samples_leaf=2, min_samples_split=4; total time=   0.6s\n",
            "[CV] END learning_rate=0.1, max_depth=9, min_samples_leaf=2, min_samples_split=4; total time=   0.6s\n",
            "[CV] END learning_rate=0.1, max_depth=9, min_samples_leaf=2, min_samples_split=4; total time=   0.6s\n",
            "[CV] END learning_rate=0.1, max_depth=9, min_samples_leaf=3, min_samples_split=2; total time=   0.6s\n",
            "[CV] END learning_rate=0.1, max_depth=9, min_samples_leaf=3, min_samples_split=2; total time=   0.6s\n",
            "[CV] END learning_rate=0.1, max_depth=9, min_samples_leaf=3, min_samples_split=2; total time=   0.6s\n",
            "[CV] END learning_rate=0.1, max_depth=9, min_samples_leaf=3, min_samples_split=2; total time=   0.6s\n",
            "[CV] END learning_rate=0.1, max_depth=9, min_samples_leaf=3, min_samples_split=2; total time=   0.6s\n",
            "[CV] END learning_rate=0.1, max_depth=9, min_samples_leaf=3, min_samples_split=3; total time=   0.6s\n",
            "[CV] END learning_rate=0.1, max_depth=9, min_samples_leaf=3, min_samples_split=3; total time=   0.6s\n",
            "[CV] END learning_rate=0.1, max_depth=9, min_samples_leaf=3, min_samples_split=3; total time=   0.6s\n",
            "[CV] END learning_rate=0.1, max_depth=9, min_samples_leaf=3, min_samples_split=3; total time=   0.6s\n",
            "[CV] END learning_rate=0.1, max_depth=9, min_samples_leaf=3, min_samples_split=3; total time=   0.6s\n",
            "[CV] END learning_rate=0.1, max_depth=9, min_samples_leaf=3, min_samples_split=4; total time=   0.6s\n",
            "[CV] END learning_rate=0.1, max_depth=9, min_samples_leaf=3, min_samples_split=4; total time=   0.6s\n",
            "[CV] END learning_rate=0.1, max_depth=9, min_samples_leaf=3, min_samples_split=4; total time=   0.6s\n",
            "[CV] END learning_rate=0.1, max_depth=9, min_samples_leaf=3, min_samples_split=4; total time=   0.6s\n",
            "[CV] END learning_rate=0.1, max_depth=9, min_samples_leaf=3, min_samples_split=4; total time=   0.6s\n",
            "[CV] END learning_rate=1, max_depth=2, min_samples_leaf=2, min_samples_split=2; total time=   0.2s\n",
            "[CV] END learning_rate=1, max_depth=2, min_samples_leaf=2, min_samples_split=2; total time=   0.2s\n",
            "[CV] END learning_rate=1, max_depth=2, min_samples_leaf=2, min_samples_split=2; total time=   0.2s\n",
            "[CV] END learning_rate=1, max_depth=2, min_samples_leaf=2, min_samples_split=2; total time=   0.2s\n",
            "[CV] END learning_rate=1, max_depth=2, min_samples_leaf=2, min_samples_split=2; total time=   0.2s\n",
            "[CV] END learning_rate=1, max_depth=2, min_samples_leaf=2, min_samples_split=3; total time=   0.2s\n",
            "[CV] END learning_rate=1, max_depth=2, min_samples_leaf=2, min_samples_split=3; total time=   0.2s\n",
            "[CV] END learning_rate=1, max_depth=2, min_samples_leaf=2, min_samples_split=3; total time=   0.2s\n",
            "[CV] END learning_rate=1, max_depth=2, min_samples_leaf=2, min_samples_split=3; total time=   0.2s\n",
            "[CV] END learning_rate=1, max_depth=2, min_samples_leaf=2, min_samples_split=3; total time=   0.2s\n",
            "[CV] END learning_rate=1, max_depth=2, min_samples_leaf=2, min_samples_split=4; total time=   0.2s\n",
            "[CV] END learning_rate=1, max_depth=2, min_samples_leaf=2, min_samples_split=4; total time=   0.2s\n",
            "[CV] END learning_rate=1, max_depth=2, min_samples_leaf=2, min_samples_split=4; total time=   0.2s\n",
            "[CV] END learning_rate=1, max_depth=2, min_samples_leaf=2, min_samples_split=4; total time=   0.2s\n",
            "[CV] END learning_rate=1, max_depth=2, min_samples_leaf=2, min_samples_split=4; total time=   0.2s\n",
            "[CV] END learning_rate=1, max_depth=2, min_samples_leaf=3, min_samples_split=2; total time=   0.2s\n",
            "[CV] END learning_rate=1, max_depth=2, min_samples_leaf=3, min_samples_split=2; total time=   0.2s\n",
            "[CV] END learning_rate=1, max_depth=2, min_samples_leaf=3, min_samples_split=2; total time=   0.2s\n",
            "[CV] END learning_rate=1, max_depth=2, min_samples_leaf=3, min_samples_split=2; total time=   0.2s\n",
            "[CV] END learning_rate=1, max_depth=2, min_samples_leaf=3, min_samples_split=2; total time=   0.2s\n",
            "[CV] END learning_rate=1, max_depth=2, min_samples_leaf=3, min_samples_split=3; total time=   0.2s\n",
            "[CV] END learning_rate=1, max_depth=2, min_samples_leaf=3, min_samples_split=3; total time=   0.2s\n",
            "[CV] END learning_rate=1, max_depth=2, min_samples_leaf=3, min_samples_split=3; total time=   0.2s\n",
            "[CV] END learning_rate=1, max_depth=2, min_samples_leaf=3, min_samples_split=3; total time=   0.2s\n",
            "[CV] END learning_rate=1, max_depth=2, min_samples_leaf=3, min_samples_split=3; total time=   0.2s\n",
            "[CV] END learning_rate=1, max_depth=2, min_samples_leaf=3, min_samples_split=4; total time=   0.2s\n",
            "[CV] END learning_rate=1, max_depth=2, min_samples_leaf=3, min_samples_split=4; total time=   0.2s\n",
            "[CV] END learning_rate=1, max_depth=2, min_samples_leaf=3, min_samples_split=4; total time=   0.2s\n",
            "[CV] END learning_rate=1, max_depth=2, min_samples_leaf=3, min_samples_split=4; total time=   0.2s\n",
            "[CV] END learning_rate=1, max_depth=2, min_samples_leaf=3, min_samples_split=4; total time=   0.2s\n",
            "[CV] END learning_rate=1, max_depth=3, min_samples_leaf=2, min_samples_split=2; total time=   0.3s\n",
            "[CV] END learning_rate=1, max_depth=3, min_samples_leaf=2, min_samples_split=2; total time=   0.3s\n",
            "[CV] END learning_rate=1, max_depth=3, min_samples_leaf=2, min_samples_split=2; total time=   0.3s\n",
            "[CV] END learning_rate=1, max_depth=3, min_samples_leaf=2, min_samples_split=2; total time=   0.3s\n",
            "[CV] END learning_rate=1, max_depth=3, min_samples_leaf=2, min_samples_split=2; total time=   0.3s\n",
            "[CV] END learning_rate=1, max_depth=3, min_samples_leaf=2, min_samples_split=3; total time=   0.3s\n",
            "[CV] END learning_rate=1, max_depth=3, min_samples_leaf=2, min_samples_split=3; total time=   0.3s\n",
            "[CV] END learning_rate=1, max_depth=3, min_samples_leaf=2, min_samples_split=3; total time=   0.3s\n",
            "[CV] END learning_rate=1, max_depth=3, min_samples_leaf=2, min_samples_split=3; total time=   0.3s\n",
            "[CV] END learning_rate=1, max_depth=3, min_samples_leaf=2, min_samples_split=3; total time=   0.3s\n",
            "[CV] END learning_rate=1, max_depth=3, min_samples_leaf=2, min_samples_split=4; total time=   0.3s\n",
            "[CV] END learning_rate=1, max_depth=3, min_samples_leaf=2, min_samples_split=4; total time=   0.3s\n",
            "[CV] END learning_rate=1, max_depth=3, min_samples_leaf=2, min_samples_split=4; total time=   0.3s\n",
            "[CV] END learning_rate=1, max_depth=3, min_samples_leaf=2, min_samples_split=4; total time=   0.3s\n",
            "[CV] END learning_rate=1, max_depth=3, min_samples_leaf=2, min_samples_split=4; total time=   0.3s\n",
            "[CV] END learning_rate=1, max_depth=3, min_samples_leaf=3, min_samples_split=2; total time=   0.3s\n",
            "[CV] END learning_rate=1, max_depth=3, min_samples_leaf=3, min_samples_split=2; total time=   0.3s\n",
            "[CV] END learning_rate=1, max_depth=3, min_samples_leaf=3, min_samples_split=2; total time=   0.3s\n",
            "[CV] END learning_rate=1, max_depth=3, min_samples_leaf=3, min_samples_split=2; total time=   0.3s\n",
            "[CV] END learning_rate=1, max_depth=3, min_samples_leaf=3, min_samples_split=2; total time=   0.3s\n",
            "[CV] END learning_rate=1, max_depth=3, min_samples_leaf=3, min_samples_split=3; total time=   0.3s\n",
            "[CV] END learning_rate=1, max_depth=3, min_samples_leaf=3, min_samples_split=3; total time=   0.3s\n",
            "[CV] END learning_rate=1, max_depth=3, min_samples_leaf=3, min_samples_split=3; total time=   0.3s\n",
            "[CV] END learning_rate=1, max_depth=3, min_samples_leaf=3, min_samples_split=3; total time=   0.3s\n",
            "[CV] END learning_rate=1, max_depth=3, min_samples_leaf=3, min_samples_split=3; total time=   0.3s\n",
            "[CV] END learning_rate=1, max_depth=3, min_samples_leaf=3, min_samples_split=4; total time=   0.3s\n",
            "[CV] END learning_rate=1, max_depth=3, min_samples_leaf=3, min_samples_split=4; total time=   0.3s\n",
            "[CV] END learning_rate=1, max_depth=3, min_samples_leaf=3, min_samples_split=4; total time=   0.3s\n",
            "[CV] END learning_rate=1, max_depth=3, min_samples_leaf=3, min_samples_split=4; total time=   0.3s\n",
            "[CV] END learning_rate=1, max_depth=3, min_samples_leaf=3, min_samples_split=4; total time=   0.3s\n",
            "[CV] END learning_rate=1, max_depth=4, min_samples_leaf=2, min_samples_split=2; total time=   0.4s\n",
            "[CV] END learning_rate=1, max_depth=4, min_samples_leaf=2, min_samples_split=2; total time=   0.3s\n",
            "[CV] END learning_rate=1, max_depth=4, min_samples_leaf=2, min_samples_split=2; total time=   0.3s\n",
            "[CV] END learning_rate=1, max_depth=4, min_samples_leaf=2, min_samples_split=2; total time=   0.3s\n",
            "[CV] END learning_rate=1, max_depth=4, min_samples_leaf=2, min_samples_split=2; total time=   0.4s\n",
            "[CV] END learning_rate=1, max_depth=4, min_samples_leaf=2, min_samples_split=3; total time=   0.4s\n",
            "[CV] END learning_rate=1, max_depth=4, min_samples_leaf=2, min_samples_split=3; total time=   0.3s\n",
            "[CV] END learning_rate=1, max_depth=4, min_samples_leaf=2, min_samples_split=3; total time=   0.4s\n",
            "[CV] END learning_rate=1, max_depth=4, min_samples_leaf=2, min_samples_split=3; total time=   0.4s\n",
            "[CV] END learning_rate=1, max_depth=4, min_samples_leaf=2, min_samples_split=3; total time=   0.4s\n",
            "[CV] END learning_rate=1, max_depth=4, min_samples_leaf=2, min_samples_split=4; total time=   0.3s\n",
            "[CV] END learning_rate=1, max_depth=4, min_samples_leaf=2, min_samples_split=4; total time=   0.3s\n",
            "[CV] END learning_rate=1, max_depth=4, min_samples_leaf=2, min_samples_split=4; total time=   0.4s\n",
            "[CV] END learning_rate=1, max_depth=4, min_samples_leaf=2, min_samples_split=4; total time=   0.3s\n",
            "[CV] END learning_rate=1, max_depth=4, min_samples_leaf=2, min_samples_split=4; total time=   0.3s\n",
            "[CV] END learning_rate=1, max_depth=4, min_samples_leaf=3, min_samples_split=2; total time=   0.3s\n",
            "[CV] END learning_rate=1, max_depth=4, min_samples_leaf=3, min_samples_split=2; total time=   0.3s\n",
            "[CV] END learning_rate=1, max_depth=4, min_samples_leaf=3, min_samples_split=2; total time=   0.3s\n",
            "[CV] END learning_rate=1, max_depth=4, min_samples_leaf=3, min_samples_split=2; total time=   0.3s\n",
            "[CV] END learning_rate=1, max_depth=4, min_samples_leaf=3, min_samples_split=2; total time=   0.4s\n",
            "[CV] END learning_rate=1, max_depth=4, min_samples_leaf=3, min_samples_split=3; total time=   0.3s\n",
            "[CV] END learning_rate=1, max_depth=4, min_samples_leaf=3, min_samples_split=3; total time=   0.4s\n",
            "[CV] END learning_rate=1, max_depth=4, min_samples_leaf=3, min_samples_split=3; total time=   0.3s\n",
            "[CV] END learning_rate=1, max_depth=4, min_samples_leaf=3, min_samples_split=3; total time=   0.3s\n",
            "[CV] END learning_rate=1, max_depth=4, min_samples_leaf=3, min_samples_split=3; total time=   0.4s\n",
            "[CV] END learning_rate=1, max_depth=4, min_samples_leaf=3, min_samples_split=4; total time=   0.3s\n",
            "[CV] END learning_rate=1, max_depth=4, min_samples_leaf=3, min_samples_split=4; total time=   0.3s\n",
            "[CV] END learning_rate=1, max_depth=4, min_samples_leaf=3, min_samples_split=4; total time=   0.3s\n",
            "[CV] END learning_rate=1, max_depth=4, min_samples_leaf=3, min_samples_split=4; total time=   0.3s\n",
            "[CV] END learning_rate=1, max_depth=4, min_samples_leaf=3, min_samples_split=4; total time=   0.3s\n",
            "[CV] END learning_rate=1, max_depth=5, min_samples_leaf=2, min_samples_split=2; total time=   0.4s\n",
            "[CV] END learning_rate=1, max_depth=5, min_samples_leaf=2, min_samples_split=2; total time=   0.4s\n",
            "[CV] END learning_rate=1, max_depth=5, min_samples_leaf=2, min_samples_split=2; total time=   0.4s\n",
            "[CV] END learning_rate=1, max_depth=5, min_samples_leaf=2, min_samples_split=2; total time=   0.4s\n",
            "[CV] END learning_rate=1, max_depth=5, min_samples_leaf=2, min_samples_split=2; total time=   0.4s\n",
            "[CV] END learning_rate=1, max_depth=5, min_samples_leaf=2, min_samples_split=3; total time=   0.4s\n",
            "[CV] END learning_rate=1, max_depth=5, min_samples_leaf=2, min_samples_split=3; total time=   0.4s\n",
            "[CV] END learning_rate=1, max_depth=5, min_samples_leaf=2, min_samples_split=3; total time=   0.4s\n",
            "[CV] END learning_rate=1, max_depth=5, min_samples_leaf=2, min_samples_split=3; total time=   0.4s\n",
            "[CV] END learning_rate=1, max_depth=5, min_samples_leaf=2, min_samples_split=3; total time=   0.4s\n",
            "[CV] END learning_rate=1, max_depth=5, min_samples_leaf=2, min_samples_split=4; total time=   0.4s\n",
            "[CV] END learning_rate=1, max_depth=5, min_samples_leaf=2, min_samples_split=4; total time=   0.4s\n",
            "[CV] END learning_rate=1, max_depth=5, min_samples_leaf=2, min_samples_split=4; total time=   0.4s\n",
            "[CV] END learning_rate=1, max_depth=5, min_samples_leaf=2, min_samples_split=4; total time=   0.4s\n",
            "[CV] END learning_rate=1, max_depth=5, min_samples_leaf=2, min_samples_split=4; total time=   0.4s\n",
            "[CV] END learning_rate=1, max_depth=5, min_samples_leaf=3, min_samples_split=2; total time=   0.4s\n",
            "[CV] END learning_rate=1, max_depth=5, min_samples_leaf=3, min_samples_split=2; total time=   0.4s\n",
            "[CV] END learning_rate=1, max_depth=5, min_samples_leaf=3, min_samples_split=2; total time=   0.4s\n",
            "[CV] END learning_rate=1, max_depth=5, min_samples_leaf=3, min_samples_split=2; total time=   0.4s\n",
            "[CV] END learning_rate=1, max_depth=5, min_samples_leaf=3, min_samples_split=2; total time=   0.4s\n",
            "[CV] END learning_rate=1, max_depth=5, min_samples_leaf=3, min_samples_split=3; total time=   0.4s\n",
            "[CV] END learning_rate=1, max_depth=5, min_samples_leaf=3, min_samples_split=3; total time=   0.4s\n",
            "[CV] END learning_rate=1, max_depth=5, min_samples_leaf=3, min_samples_split=3; total time=   0.4s\n",
            "[CV] END learning_rate=1, max_depth=5, min_samples_leaf=3, min_samples_split=3; total time=   0.4s\n",
            "[CV] END learning_rate=1, max_depth=5, min_samples_leaf=3, min_samples_split=3; total time=   0.4s\n",
            "[CV] END learning_rate=1, max_depth=5, min_samples_leaf=3, min_samples_split=4; total time=   0.4s\n",
            "[CV] END learning_rate=1, max_depth=5, min_samples_leaf=3, min_samples_split=4; total time=   0.4s\n",
            "[CV] END learning_rate=1, max_depth=5, min_samples_leaf=3, min_samples_split=4; total time=   0.4s\n",
            "[CV] END learning_rate=1, max_depth=5, min_samples_leaf=3, min_samples_split=4; total time=   0.4s\n",
            "[CV] END learning_rate=1, max_depth=5, min_samples_leaf=3, min_samples_split=4; total time=   0.4s\n",
            "[CV] END learning_rate=1, max_depth=6, min_samples_leaf=2, min_samples_split=2; total time=   0.5s\n",
            "[CV] END learning_rate=1, max_depth=6, min_samples_leaf=2, min_samples_split=2; total time=   0.5s\n",
            "[CV] END learning_rate=1, max_depth=6, min_samples_leaf=2, min_samples_split=2; total time=   0.5s\n",
            "[CV] END learning_rate=1, max_depth=6, min_samples_leaf=2, min_samples_split=2; total time=   0.5s\n",
            "[CV] END learning_rate=1, max_depth=6, min_samples_leaf=2, min_samples_split=2; total time=   0.5s\n",
            "[CV] END learning_rate=1, max_depth=6, min_samples_leaf=2, min_samples_split=3; total time=   0.5s\n",
            "[CV] END learning_rate=1, max_depth=6, min_samples_leaf=2, min_samples_split=3; total time=   0.5s\n",
            "[CV] END learning_rate=1, max_depth=6, min_samples_leaf=2, min_samples_split=3; total time=   0.5s\n",
            "[CV] END learning_rate=1, max_depth=6, min_samples_leaf=2, min_samples_split=3; total time=   0.5s\n",
            "[CV] END learning_rate=1, max_depth=6, min_samples_leaf=2, min_samples_split=3; total time=   0.5s\n",
            "[CV] END learning_rate=1, max_depth=6, min_samples_leaf=2, min_samples_split=4; total time=   0.5s\n",
            "[CV] END learning_rate=1, max_depth=6, min_samples_leaf=2, min_samples_split=4; total time=   0.5s\n",
            "[CV] END learning_rate=1, max_depth=6, min_samples_leaf=2, min_samples_split=4; total time=   0.5s\n",
            "[CV] END learning_rate=1, max_depth=6, min_samples_leaf=2, min_samples_split=4; total time=   0.5s\n",
            "[CV] END learning_rate=1, max_depth=6, min_samples_leaf=2, min_samples_split=4; total time=   0.5s\n",
            "[CV] END learning_rate=1, max_depth=6, min_samples_leaf=3, min_samples_split=2; total time=   0.5s\n",
            "[CV] END learning_rate=1, max_depth=6, min_samples_leaf=3, min_samples_split=2; total time=   0.5s\n",
            "[CV] END learning_rate=1, max_depth=6, min_samples_leaf=3, min_samples_split=2; total time=   0.5s\n",
            "[CV] END learning_rate=1, max_depth=6, min_samples_leaf=3, min_samples_split=2; total time=   0.5s\n",
            "[CV] END learning_rate=1, max_depth=6, min_samples_leaf=3, min_samples_split=2; total time=   0.5s\n",
            "[CV] END learning_rate=1, max_depth=6, min_samples_leaf=3, min_samples_split=3; total time=   0.5s\n",
            "[CV] END learning_rate=1, max_depth=6, min_samples_leaf=3, min_samples_split=3; total time=   0.5s\n",
            "[CV] END learning_rate=1, max_depth=6, min_samples_leaf=3, min_samples_split=3; total time=   0.5s\n",
            "[CV] END learning_rate=1, max_depth=6, min_samples_leaf=3, min_samples_split=3; total time=   0.5s\n",
            "[CV] END learning_rate=1, max_depth=6, min_samples_leaf=3, min_samples_split=3; total time=   0.5s\n",
            "[CV] END learning_rate=1, max_depth=6, min_samples_leaf=3, min_samples_split=4; total time=   0.5s\n",
            "[CV] END learning_rate=1, max_depth=6, min_samples_leaf=3, min_samples_split=4; total time=   0.5s\n",
            "[CV] END learning_rate=1, max_depth=6, min_samples_leaf=3, min_samples_split=4; total time=   0.5s\n",
            "[CV] END learning_rate=1, max_depth=6, min_samples_leaf=3, min_samples_split=4; total time=   0.5s\n",
            "[CV] END learning_rate=1, max_depth=6, min_samples_leaf=3, min_samples_split=4; total time=   0.5s\n",
            "[CV] END learning_rate=1, max_depth=7, min_samples_leaf=2, min_samples_split=2; total time=   0.5s\n",
            "[CV] END learning_rate=1, max_depth=7, min_samples_leaf=2, min_samples_split=2; total time=   0.6s\n",
            "[CV] END learning_rate=1, max_depth=7, min_samples_leaf=2, min_samples_split=2; total time=   0.5s\n",
            "[CV] END learning_rate=1, max_depth=7, min_samples_leaf=2, min_samples_split=2; total time=   0.5s\n",
            "[CV] END learning_rate=1, max_depth=7, min_samples_leaf=2, min_samples_split=2; total time=   0.5s\n",
            "[CV] END learning_rate=1, max_depth=7, min_samples_leaf=2, min_samples_split=3; total time=   0.5s\n",
            "[CV] END learning_rate=1, max_depth=7, min_samples_leaf=2, min_samples_split=3; total time=   0.5s\n",
            "[CV] END learning_rate=1, max_depth=7, min_samples_leaf=2, min_samples_split=3; total time=   0.5s\n",
            "[CV] END learning_rate=1, max_depth=7, min_samples_leaf=2, min_samples_split=3; total time=   0.5s\n",
            "[CV] END learning_rate=1, max_depth=7, min_samples_leaf=2, min_samples_split=3; total time=   0.5s\n",
            "[CV] END learning_rate=1, max_depth=7, min_samples_leaf=2, min_samples_split=4; total time=   0.5s\n",
            "[CV] END learning_rate=1, max_depth=7, min_samples_leaf=2, min_samples_split=4; total time=   0.5s\n",
            "[CV] END learning_rate=1, max_depth=7, min_samples_leaf=2, min_samples_split=4; total time=   0.5s\n",
            "[CV] END learning_rate=1, max_depth=7, min_samples_leaf=2, min_samples_split=4; total time=   0.5s\n",
            "[CV] END learning_rate=1, max_depth=7, min_samples_leaf=2, min_samples_split=4; total time=   0.5s\n",
            "[CV] END learning_rate=1, max_depth=7, min_samples_leaf=3, min_samples_split=2; total time=   0.5s\n",
            "[CV] END learning_rate=1, max_depth=7, min_samples_leaf=3, min_samples_split=2; total time=   0.5s\n",
            "[CV] END learning_rate=1, max_depth=7, min_samples_leaf=3, min_samples_split=2; total time=   0.5s\n",
            "[CV] END learning_rate=1, max_depth=7, min_samples_leaf=3, min_samples_split=2; total time=   0.5s\n",
            "[CV] END learning_rate=1, max_depth=7, min_samples_leaf=3, min_samples_split=2; total time=   0.5s\n",
            "[CV] END learning_rate=1, max_depth=7, min_samples_leaf=3, min_samples_split=3; total time=   0.5s\n",
            "[CV] END learning_rate=1, max_depth=7, min_samples_leaf=3, min_samples_split=3; total time=   0.6s\n",
            "[CV] END learning_rate=1, max_depth=7, min_samples_leaf=3, min_samples_split=3; total time=   0.5s\n",
            "[CV] END learning_rate=1, max_depth=7, min_samples_leaf=3, min_samples_split=3; total time=   0.5s\n",
            "[CV] END learning_rate=1, max_depth=7, min_samples_leaf=3, min_samples_split=3; total time=   0.5s\n",
            "[CV] END learning_rate=1, max_depth=7, min_samples_leaf=3, min_samples_split=4; total time=   0.5s\n",
            "[CV] END learning_rate=1, max_depth=7, min_samples_leaf=3, min_samples_split=4; total time=   0.5s\n",
            "[CV] END learning_rate=1, max_depth=7, min_samples_leaf=3, min_samples_split=4; total time=   0.5s\n",
            "[CV] END learning_rate=1, max_depth=7, min_samples_leaf=3, min_samples_split=4; total time=   0.5s\n",
            "[CV] END learning_rate=1, max_depth=7, min_samples_leaf=3, min_samples_split=4; total time=   0.5s\n",
            "[CV] END learning_rate=1, max_depth=8, min_samples_leaf=2, min_samples_split=2; total time=   0.6s\n",
            "[CV] END learning_rate=1, max_depth=8, min_samples_leaf=2, min_samples_split=2; total time=   0.6s\n",
            "[CV] END learning_rate=1, max_depth=8, min_samples_leaf=2, min_samples_split=2; total time=   0.6s\n",
            "[CV] END learning_rate=1, max_depth=8, min_samples_leaf=2, min_samples_split=2; total time=   0.6s\n",
            "[CV] END learning_rate=1, max_depth=8, min_samples_leaf=2, min_samples_split=2; total time=   0.6s\n",
            "[CV] END learning_rate=1, max_depth=8, min_samples_leaf=2, min_samples_split=3; total time=   0.6s\n",
            "[CV] END learning_rate=1, max_depth=8, min_samples_leaf=2, min_samples_split=3; total time=   0.6s\n",
            "[CV] END learning_rate=1, max_depth=8, min_samples_leaf=2, min_samples_split=3; total time=   0.6s\n",
            "[CV] END learning_rate=1, max_depth=8, min_samples_leaf=2, min_samples_split=3; total time=   0.6s\n",
            "[CV] END learning_rate=1, max_depth=8, min_samples_leaf=2, min_samples_split=3; total time=   0.6s\n",
            "[CV] END learning_rate=1, max_depth=8, min_samples_leaf=2, min_samples_split=4; total time=   0.6s\n",
            "[CV] END learning_rate=1, max_depth=8, min_samples_leaf=2, min_samples_split=4; total time=   0.6s\n",
            "[CV] END learning_rate=1, max_depth=8, min_samples_leaf=2, min_samples_split=4; total time=   0.6s\n",
            "[CV] END learning_rate=1, max_depth=8, min_samples_leaf=2, min_samples_split=4; total time=   0.6s\n",
            "[CV] END learning_rate=1, max_depth=8, min_samples_leaf=2, min_samples_split=4; total time=   0.6s\n",
            "[CV] END learning_rate=1, max_depth=8, min_samples_leaf=3, min_samples_split=2; total time=   0.6s\n",
            "[CV] END learning_rate=1, max_depth=8, min_samples_leaf=3, min_samples_split=2; total time=   0.6s\n",
            "[CV] END learning_rate=1, max_depth=8, min_samples_leaf=3, min_samples_split=2; total time=   0.6s\n",
            "[CV] END learning_rate=1, max_depth=8, min_samples_leaf=3, min_samples_split=2; total time=   0.6s\n",
            "[CV] END learning_rate=1, max_depth=8, min_samples_leaf=3, min_samples_split=2; total time=   0.6s\n",
            "[CV] END learning_rate=1, max_depth=8, min_samples_leaf=3, min_samples_split=3; total time=   0.6s\n",
            "[CV] END learning_rate=1, max_depth=8, min_samples_leaf=3, min_samples_split=3; total time=   0.6s\n",
            "[CV] END learning_rate=1, max_depth=8, min_samples_leaf=3, min_samples_split=3; total time=   0.6s\n",
            "[CV] END learning_rate=1, max_depth=8, min_samples_leaf=3, min_samples_split=3; total time=   0.6s\n",
            "[CV] END learning_rate=1, max_depth=8, min_samples_leaf=3, min_samples_split=3; total time=   0.6s\n",
            "[CV] END learning_rate=1, max_depth=8, min_samples_leaf=3, min_samples_split=4; total time=   0.6s\n",
            "[CV] END learning_rate=1, max_depth=8, min_samples_leaf=3, min_samples_split=4; total time=   0.6s\n",
            "[CV] END learning_rate=1, max_depth=8, min_samples_leaf=3, min_samples_split=4; total time=   0.6s\n",
            "[CV] END learning_rate=1, max_depth=8, min_samples_leaf=3, min_samples_split=4; total time=   0.6s\n",
            "[CV] END learning_rate=1, max_depth=8, min_samples_leaf=3, min_samples_split=4; total time=   0.6s\n",
            "[CV] END learning_rate=1, max_depth=9, min_samples_leaf=2, min_samples_split=2; total time=   0.7s\n",
            "[CV] END learning_rate=1, max_depth=9, min_samples_leaf=2, min_samples_split=2; total time=   0.7s\n",
            "[CV] END learning_rate=1, max_depth=9, min_samples_leaf=2, min_samples_split=2; total time=   0.6s\n",
            "[CV] END learning_rate=1, max_depth=9, min_samples_leaf=2, min_samples_split=2; total time=   0.6s\n",
            "[CV] END learning_rate=1, max_depth=9, min_samples_leaf=2, min_samples_split=2; total time=   0.6s\n",
            "[CV] END learning_rate=1, max_depth=9, min_samples_leaf=2, min_samples_split=3; total time=   0.7s\n",
            "[CV] END learning_rate=1, max_depth=9, min_samples_leaf=2, min_samples_split=3; total time=   0.7s\n",
            "[CV] END learning_rate=1, max_depth=9, min_samples_leaf=2, min_samples_split=3; total time=   0.6s\n",
            "[CV] END learning_rate=1, max_depth=9, min_samples_leaf=2, min_samples_split=3; total time=   0.7s\n",
            "[CV] END learning_rate=1, max_depth=9, min_samples_leaf=2, min_samples_split=3; total time=   0.7s\n",
            "[CV] END learning_rate=1, max_depth=9, min_samples_leaf=2, min_samples_split=4; total time=   0.7s\n",
            "[CV] END learning_rate=1, max_depth=9, min_samples_leaf=2, min_samples_split=4; total time=   0.7s\n",
            "[CV] END learning_rate=1, max_depth=9, min_samples_leaf=2, min_samples_split=4; total time=   0.6s\n",
            "[CV] END learning_rate=1, max_depth=9, min_samples_leaf=2, min_samples_split=4; total time=   0.7s\n",
            "[CV] END learning_rate=1, max_depth=9, min_samples_leaf=2, min_samples_split=4; total time=   0.7s\n",
            "[CV] END learning_rate=1, max_depth=9, min_samples_leaf=3, min_samples_split=2; total time=   0.7s\n",
            "[CV] END learning_rate=1, max_depth=9, min_samples_leaf=3, min_samples_split=2; total time=   0.7s\n",
            "[CV] END learning_rate=1, max_depth=9, min_samples_leaf=3, min_samples_split=2; total time=   0.7s\n",
            "[CV] END learning_rate=1, max_depth=9, min_samples_leaf=3, min_samples_split=2; total time=   0.7s\n",
            "[CV] END learning_rate=1, max_depth=9, min_samples_leaf=3, min_samples_split=2; total time=   0.7s\n",
            "[CV] END learning_rate=1, max_depth=9, min_samples_leaf=3, min_samples_split=3; total time=   0.6s\n",
            "[CV] END learning_rate=1, max_depth=9, min_samples_leaf=3, min_samples_split=3; total time=   0.7s\n",
            "[CV] END learning_rate=1, max_depth=9, min_samples_leaf=3, min_samples_split=3; total time=   0.7s\n",
            "[CV] END learning_rate=1, max_depth=9, min_samples_leaf=3, min_samples_split=3; total time=   0.7s\n",
            "[CV] END learning_rate=1, max_depth=9, min_samples_leaf=3, min_samples_split=3; total time=   0.7s\n",
            "[CV] END learning_rate=1, max_depth=9, min_samples_leaf=3, min_samples_split=4; total time=   0.7s\n",
            "[CV] END learning_rate=1, max_depth=9, min_samples_leaf=3, min_samples_split=4; total time=   0.7s\n",
            "[CV] END learning_rate=1, max_depth=9, min_samples_leaf=3, min_samples_split=4; total time=   0.6s\n",
            "[CV] END learning_rate=1, max_depth=9, min_samples_leaf=3, min_samples_split=4; total time=   0.7s\n",
            "[CV] END learning_rate=1, max_depth=9, min_samples_leaf=3, min_samples_split=4; total time=   0.7s\n",
            "[CV] END learning_rate=1.5, max_depth=2, min_samples_leaf=2, min_samples_split=2; total time=   0.2s\n",
            "[CV] END learning_rate=1.5, max_depth=2, min_samples_leaf=2, min_samples_split=2; total time=   0.2s\n",
            "[CV] END learning_rate=1.5, max_depth=2, min_samples_leaf=2, min_samples_split=2; total time=   0.2s\n",
            "[CV] END learning_rate=1.5, max_depth=2, min_samples_leaf=2, min_samples_split=2; total time=   0.2s\n",
            "[CV] END learning_rate=1.5, max_depth=2, min_samples_leaf=2, min_samples_split=2; total time=   0.2s\n",
            "[CV] END learning_rate=1.5, max_depth=2, min_samples_leaf=2, min_samples_split=3; total time=   0.2s\n",
            "[CV] END learning_rate=1.5, max_depth=2, min_samples_leaf=2, min_samples_split=3; total time=   0.2s\n",
            "[CV] END learning_rate=1.5, max_depth=2, min_samples_leaf=2, min_samples_split=3; total time=   0.2s\n",
            "[CV] END learning_rate=1.5, max_depth=2, min_samples_leaf=2, min_samples_split=3; total time=   0.2s\n",
            "[CV] END learning_rate=1.5, max_depth=2, min_samples_leaf=2, min_samples_split=3; total time=   0.2s\n",
            "[CV] END learning_rate=1.5, max_depth=2, min_samples_leaf=2, min_samples_split=4; total time=   0.2s\n",
            "[CV] END learning_rate=1.5, max_depth=2, min_samples_leaf=2, min_samples_split=4; total time=   0.2s\n",
            "[CV] END learning_rate=1.5, max_depth=2, min_samples_leaf=2, min_samples_split=4; total time=   0.2s\n",
            "[CV] END learning_rate=1.5, max_depth=2, min_samples_leaf=2, min_samples_split=4; total time=   0.2s\n",
            "[CV] END learning_rate=1.5, max_depth=2, min_samples_leaf=2, min_samples_split=4; total time=   0.2s\n",
            "[CV] END learning_rate=1.5, max_depth=2, min_samples_leaf=3, min_samples_split=2; total time=   0.3s\n",
            "[CV] END learning_rate=1.5, max_depth=2, min_samples_leaf=3, min_samples_split=2; total time=   0.3s\n",
            "[CV] END learning_rate=1.5, max_depth=2, min_samples_leaf=3, min_samples_split=2; total time=   0.3s\n",
            "[CV] END learning_rate=1.5, max_depth=2, min_samples_leaf=3, min_samples_split=2; total time=   0.3s\n",
            "[CV] END learning_rate=1.5, max_depth=2, min_samples_leaf=3, min_samples_split=2; total time=   0.3s\n",
            "[CV] END learning_rate=1.5, max_depth=2, min_samples_leaf=3, min_samples_split=3; total time=   0.3s\n",
            "[CV] END learning_rate=1.5, max_depth=2, min_samples_leaf=3, min_samples_split=3; total time=   0.3s\n",
            "[CV] END learning_rate=1.5, max_depth=2, min_samples_leaf=3, min_samples_split=3; total time=   0.3s\n",
            "[CV] END learning_rate=1.5, max_depth=2, min_samples_leaf=3, min_samples_split=3; total time=   0.3s\n",
            "[CV] END learning_rate=1.5, max_depth=2, min_samples_leaf=3, min_samples_split=3; total time=   0.3s\n",
            "[CV] END learning_rate=1.5, max_depth=2, min_samples_leaf=3, min_samples_split=4; total time=   0.3s\n",
            "[CV] END learning_rate=1.5, max_depth=2, min_samples_leaf=3, min_samples_split=4; total time=   0.3s\n",
            "[CV] END learning_rate=1.5, max_depth=2, min_samples_leaf=3, min_samples_split=4; total time=   0.3s\n",
            "[CV] END learning_rate=1.5, max_depth=2, min_samples_leaf=3, min_samples_split=4; total time=   0.2s\n",
            "[CV] END learning_rate=1.5, max_depth=2, min_samples_leaf=3, min_samples_split=4; total time=   0.2s\n",
            "[CV] END learning_rate=1.5, max_depth=3, min_samples_leaf=2, min_samples_split=2; total time=   0.3s\n",
            "[CV] END learning_rate=1.5, max_depth=3, min_samples_leaf=2, min_samples_split=2; total time=   0.3s\n",
            "[CV] END learning_rate=1.5, max_depth=3, min_samples_leaf=2, min_samples_split=2; total time=   0.3s\n",
            "[CV] END learning_rate=1.5, max_depth=3, min_samples_leaf=2, min_samples_split=2; total time=   0.3s\n",
            "[CV] END learning_rate=1.5, max_depth=3, min_samples_leaf=2, min_samples_split=2; total time=   0.3s\n",
            "[CV] END learning_rate=1.5, max_depth=3, min_samples_leaf=2, min_samples_split=3; total time=   0.3s\n",
            "[CV] END learning_rate=1.5, max_depth=3, min_samples_leaf=2, min_samples_split=3; total time=   0.3s\n",
            "[CV] END learning_rate=1.5, max_depth=3, min_samples_leaf=2, min_samples_split=3; total time=   0.3s\n",
            "[CV] END learning_rate=1.5, max_depth=3, min_samples_leaf=2, min_samples_split=3; total time=   0.3s\n",
            "[CV] END learning_rate=1.5, max_depth=3, min_samples_leaf=2, min_samples_split=3; total time=   0.3s\n",
            "[CV] END learning_rate=1.5, max_depth=3, min_samples_leaf=2, min_samples_split=4; total time=   0.3s\n",
            "[CV] END learning_rate=1.5, max_depth=3, min_samples_leaf=2, min_samples_split=4; total time=   0.3s\n",
            "[CV] END learning_rate=1.5, max_depth=3, min_samples_leaf=2, min_samples_split=4; total time=   0.3s\n",
            "[CV] END learning_rate=1.5, max_depth=3, min_samples_leaf=2, min_samples_split=4; total time=   0.3s\n",
            "[CV] END learning_rate=1.5, max_depth=3, min_samples_leaf=2, min_samples_split=4; total time=   0.3s\n",
            "[CV] END learning_rate=1.5, max_depth=3, min_samples_leaf=3, min_samples_split=2; total time=   0.3s\n",
            "[CV] END learning_rate=1.5, max_depth=3, min_samples_leaf=3, min_samples_split=2; total time=   0.3s\n",
            "[CV] END learning_rate=1.5, max_depth=3, min_samples_leaf=3, min_samples_split=2; total time=   0.3s\n",
            "[CV] END learning_rate=1.5, max_depth=3, min_samples_leaf=3, min_samples_split=2; total time=   0.3s\n",
            "[CV] END learning_rate=1.5, max_depth=3, min_samples_leaf=3, min_samples_split=2; total time=   0.3s\n",
            "[CV] END learning_rate=1.5, max_depth=3, min_samples_leaf=3, min_samples_split=3; total time=   0.3s\n",
            "[CV] END learning_rate=1.5, max_depth=3, min_samples_leaf=3, min_samples_split=3; total time=   0.3s\n",
            "[CV] END learning_rate=1.5, max_depth=3, min_samples_leaf=3, min_samples_split=3; total time=   0.3s\n",
            "[CV] END learning_rate=1.5, max_depth=3, min_samples_leaf=3, min_samples_split=3; total time=   0.3s\n",
            "[CV] END learning_rate=1.5, max_depth=3, min_samples_leaf=3, min_samples_split=3; total time=   0.3s\n",
            "[CV] END learning_rate=1.5, max_depth=3, min_samples_leaf=3, min_samples_split=4; total time=   0.3s\n",
            "[CV] END learning_rate=1.5, max_depth=3, min_samples_leaf=3, min_samples_split=4; total time=   0.3s\n",
            "[CV] END learning_rate=1.5, max_depth=3, min_samples_leaf=3, min_samples_split=4; total time=   0.3s\n",
            "[CV] END learning_rate=1.5, max_depth=3, min_samples_leaf=3, min_samples_split=4; total time=   0.3s\n",
            "[CV] END learning_rate=1.5, max_depth=3, min_samples_leaf=3, min_samples_split=4; total time=   0.3s\n",
            "[CV] END learning_rate=1.5, max_depth=4, min_samples_leaf=2, min_samples_split=2; total time=   0.4s\n",
            "[CV] END learning_rate=1.5, max_depth=4, min_samples_leaf=2, min_samples_split=2; total time=   0.3s\n",
            "[CV] END learning_rate=1.5, max_depth=4, min_samples_leaf=2, min_samples_split=2; total time=   0.3s\n",
            "[CV] END learning_rate=1.5, max_depth=4, min_samples_leaf=2, min_samples_split=2; total time=   0.3s\n",
            "[CV] END learning_rate=1.5, max_depth=4, min_samples_leaf=2, min_samples_split=2; total time=   0.3s\n",
            "[CV] END learning_rate=1.5, max_depth=4, min_samples_leaf=2, min_samples_split=3; total time=   0.3s\n",
            "[CV] END learning_rate=1.5, max_depth=4, min_samples_leaf=2, min_samples_split=3; total time=   0.3s\n",
            "[CV] END learning_rate=1.5, max_depth=4, min_samples_leaf=2, min_samples_split=3; total time=   0.4s\n",
            "[CV] END learning_rate=1.5, max_depth=4, min_samples_leaf=2, min_samples_split=3; total time=   0.3s\n",
            "[CV] END learning_rate=1.5, max_depth=4, min_samples_leaf=2, min_samples_split=3; total time=   0.3s\n",
            "[CV] END learning_rate=1.5, max_depth=4, min_samples_leaf=2, min_samples_split=4; total time=   0.4s\n",
            "[CV] END learning_rate=1.5, max_depth=4, min_samples_leaf=2, min_samples_split=4; total time=   0.3s\n",
            "[CV] END learning_rate=1.5, max_depth=4, min_samples_leaf=2, min_samples_split=4; total time=   0.4s\n",
            "[CV] END learning_rate=1.5, max_depth=4, min_samples_leaf=2, min_samples_split=4; total time=   0.3s\n",
            "[CV] END learning_rate=1.5, max_depth=4, min_samples_leaf=2, min_samples_split=4; total time=   0.3s\n",
            "[CV] END learning_rate=1.5, max_depth=4, min_samples_leaf=3, min_samples_split=2; total time=   0.4s\n",
            "[CV] END learning_rate=1.5, max_depth=4, min_samples_leaf=3, min_samples_split=2; total time=   0.3s\n",
            "[CV] END learning_rate=1.5, max_depth=4, min_samples_leaf=3, min_samples_split=2; total time=   0.3s\n",
            "[CV] END learning_rate=1.5, max_depth=4, min_samples_leaf=3, min_samples_split=2; total time=   0.3s\n",
            "[CV] END learning_rate=1.5, max_depth=4, min_samples_leaf=3, min_samples_split=2; total time=   0.3s\n",
            "[CV] END learning_rate=1.5, max_depth=4, min_samples_leaf=3, min_samples_split=3; total time=   0.4s\n",
            "[CV] END learning_rate=1.5, max_depth=4, min_samples_leaf=3, min_samples_split=3; total time=   0.3s\n",
            "[CV] END learning_rate=1.5, max_depth=4, min_samples_leaf=3, min_samples_split=3; total time=   0.3s\n",
            "[CV] END learning_rate=1.5, max_depth=4, min_samples_leaf=3, min_samples_split=3; total time=   0.3s\n",
            "[CV] END learning_rate=1.5, max_depth=4, min_samples_leaf=3, min_samples_split=3; total time=   0.3s\n",
            "[CV] END learning_rate=1.5, max_depth=4, min_samples_leaf=3, min_samples_split=4; total time=   0.4s\n",
            "[CV] END learning_rate=1.5, max_depth=4, min_samples_leaf=3, min_samples_split=4; total time=   0.3s\n",
            "[CV] END learning_rate=1.5, max_depth=4, min_samples_leaf=3, min_samples_split=4; total time=   0.3s\n",
            "[CV] END learning_rate=1.5, max_depth=4, min_samples_leaf=3, min_samples_split=4; total time=   0.3s\n",
            "[CV] END learning_rate=1.5, max_depth=4, min_samples_leaf=3, min_samples_split=4; total time=   0.3s\n",
            "[CV] END learning_rate=1.5, max_depth=5, min_samples_leaf=2, min_samples_split=2; total time=   0.4s\n",
            "[CV] END learning_rate=1.5, max_depth=5, min_samples_leaf=2, min_samples_split=2; total time=   0.4s\n",
            "[CV] END learning_rate=1.5, max_depth=5, min_samples_leaf=2, min_samples_split=2; total time=   0.5s\n",
            "[CV] END learning_rate=1.5, max_depth=5, min_samples_leaf=2, min_samples_split=2; total time=   0.4s\n",
            "[CV] END learning_rate=1.5, max_depth=5, min_samples_leaf=2, min_samples_split=2; total time=   0.4s\n",
            "[CV] END learning_rate=1.5, max_depth=5, min_samples_leaf=2, min_samples_split=3; total time=   0.4s\n",
            "[CV] END learning_rate=1.5, max_depth=5, min_samples_leaf=2, min_samples_split=3; total time=   0.4s\n",
            "[CV] END learning_rate=1.5, max_depth=5, min_samples_leaf=2, min_samples_split=3; total time=   0.5s\n",
            "[CV] END learning_rate=1.5, max_depth=5, min_samples_leaf=2, min_samples_split=3; total time=   0.4s\n",
            "[CV] END learning_rate=1.5, max_depth=5, min_samples_leaf=2, min_samples_split=3; total time=   0.4s\n",
            "[CV] END learning_rate=1.5, max_depth=5, min_samples_leaf=2, min_samples_split=4; total time=   0.4s\n",
            "[CV] END learning_rate=1.5, max_depth=5, min_samples_leaf=2, min_samples_split=4; total time=   0.4s\n",
            "[CV] END learning_rate=1.5, max_depth=5, min_samples_leaf=2, min_samples_split=4; total time=   0.5s\n",
            "[CV] END learning_rate=1.5, max_depth=5, min_samples_leaf=2, min_samples_split=4; total time=   0.4s\n",
            "[CV] END learning_rate=1.5, max_depth=5, min_samples_leaf=2, min_samples_split=4; total time=   0.4s\n",
            "[CV] END learning_rate=1.5, max_depth=5, min_samples_leaf=3, min_samples_split=2; total time=   0.4s\n",
            "[CV] END learning_rate=1.5, max_depth=5, min_samples_leaf=3, min_samples_split=2; total time=   0.4s\n",
            "[CV] END learning_rate=1.5, max_depth=5, min_samples_leaf=3, min_samples_split=2; total time=   0.5s\n",
            "[CV] END learning_rate=1.5, max_depth=5, min_samples_leaf=3, min_samples_split=2; total time=   0.4s\n",
            "[CV] END learning_rate=1.5, max_depth=5, min_samples_leaf=3, min_samples_split=2; total time=   0.4s\n",
            "[CV] END learning_rate=1.5, max_depth=5, min_samples_leaf=3, min_samples_split=3; total time=   0.4s\n",
            "[CV] END learning_rate=1.5, max_depth=5, min_samples_leaf=3, min_samples_split=3; total time=   0.4s\n",
            "[CV] END learning_rate=1.5, max_depth=5, min_samples_leaf=3, min_samples_split=3; total time=   0.5s\n",
            "[CV] END learning_rate=1.5, max_depth=5, min_samples_leaf=3, min_samples_split=3; total time=   0.4s\n",
            "[CV] END learning_rate=1.5, max_depth=5, min_samples_leaf=3, min_samples_split=3; total time=   0.4s\n",
            "[CV] END learning_rate=1.5, max_depth=5, min_samples_leaf=3, min_samples_split=4; total time=   0.4s\n",
            "[CV] END learning_rate=1.5, max_depth=5, min_samples_leaf=3, min_samples_split=4; total time=   0.4s\n",
            "[CV] END learning_rate=1.5, max_depth=5, min_samples_leaf=3, min_samples_split=4; total time=   0.5s\n",
            "[CV] END learning_rate=1.5, max_depth=5, min_samples_leaf=3, min_samples_split=4; total time=   0.4s\n",
            "[CV] END learning_rate=1.5, max_depth=5, min_samples_leaf=3, min_samples_split=4; total time=   0.4s\n",
            "[CV] END learning_rate=1.5, max_depth=6, min_samples_leaf=2, min_samples_split=2; total time=   0.5s\n",
            "[CV] END learning_rate=1.5, max_depth=6, min_samples_leaf=2, min_samples_split=2; total time=   0.4s\n",
            "[CV] END learning_rate=1.5, max_depth=6, min_samples_leaf=2, min_samples_split=2; total time=   0.5s\n",
            "[CV] END learning_rate=1.5, max_depth=6, min_samples_leaf=2, min_samples_split=2; total time=   0.5s\n",
            "[CV] END learning_rate=1.5, max_depth=6, min_samples_leaf=2, min_samples_split=2; total time=   0.5s\n",
            "[CV] END learning_rate=1.5, max_depth=6, min_samples_leaf=2, min_samples_split=3; total time=   0.5s\n",
            "[CV] END learning_rate=1.5, max_depth=6, min_samples_leaf=2, min_samples_split=3; total time=   0.5s\n",
            "[CV] END learning_rate=1.5, max_depth=6, min_samples_leaf=2, min_samples_split=3; total time=   0.5s\n",
            "[CV] END learning_rate=1.5, max_depth=6, min_samples_leaf=2, min_samples_split=3; total time=   0.5s\n",
            "[CV] END learning_rate=1.5, max_depth=6, min_samples_leaf=2, min_samples_split=3; total time=   0.5s\n",
            "[CV] END learning_rate=1.5, max_depth=6, min_samples_leaf=2, min_samples_split=4; total time=   0.5s\n",
            "[CV] END learning_rate=1.5, max_depth=6, min_samples_leaf=2, min_samples_split=4; total time=   0.5s\n",
            "[CV] END learning_rate=1.5, max_depth=6, min_samples_leaf=2, min_samples_split=4; total time=   0.5s\n",
            "[CV] END learning_rate=1.5, max_depth=6, min_samples_leaf=2, min_samples_split=4; total time=   0.5s\n",
            "[CV] END learning_rate=1.5, max_depth=6, min_samples_leaf=2, min_samples_split=4; total time=   0.5s\n",
            "[CV] END learning_rate=1.5, max_depth=6, min_samples_leaf=3, min_samples_split=2; total time=   0.5s\n",
            "[CV] END learning_rate=1.5, max_depth=6, min_samples_leaf=3, min_samples_split=2; total time=   0.5s\n",
            "[CV] END learning_rate=1.5, max_depth=6, min_samples_leaf=3, min_samples_split=2; total time=   0.5s\n",
            "[CV] END learning_rate=1.5, max_depth=6, min_samples_leaf=3, min_samples_split=2; total time=   0.5s\n",
            "[CV] END learning_rate=1.5, max_depth=6, min_samples_leaf=3, min_samples_split=2; total time=   0.5s\n",
            "[CV] END learning_rate=1.5, max_depth=6, min_samples_leaf=3, min_samples_split=3; total time=   0.5s\n",
            "[CV] END learning_rate=1.5, max_depth=6, min_samples_leaf=3, min_samples_split=3; total time=   0.5s\n",
            "[CV] END learning_rate=1.5, max_depth=6, min_samples_leaf=3, min_samples_split=3; total time=   0.5s\n",
            "[CV] END learning_rate=1.5, max_depth=6, min_samples_leaf=3, min_samples_split=3; total time=   0.5s\n",
            "[CV] END learning_rate=1.5, max_depth=6, min_samples_leaf=3, min_samples_split=3; total time=   0.5s\n",
            "[CV] END learning_rate=1.5, max_depth=6, min_samples_leaf=3, min_samples_split=4; total time=   0.5s\n",
            "[CV] END learning_rate=1.5, max_depth=6, min_samples_leaf=3, min_samples_split=4; total time=   0.5s\n",
            "[CV] END learning_rate=1.5, max_depth=6, min_samples_leaf=3, min_samples_split=4; total time=   0.5s\n",
            "[CV] END learning_rate=1.5, max_depth=6, min_samples_leaf=3, min_samples_split=4; total time=   0.5s\n",
            "[CV] END learning_rate=1.5, max_depth=6, min_samples_leaf=3, min_samples_split=4; total time=   0.5s\n",
            "[CV] END learning_rate=1.5, max_depth=7, min_samples_leaf=2, min_samples_split=2; total time=   0.5s\n",
            "[CV] END learning_rate=1.5, max_depth=7, min_samples_leaf=2, min_samples_split=2; total time=   0.6s\n",
            "[CV] END learning_rate=1.5, max_depth=7, min_samples_leaf=2, min_samples_split=2; total time=   0.6s\n",
            "[CV] END learning_rate=1.5, max_depth=7, min_samples_leaf=2, min_samples_split=2; total time=   0.6s\n",
            "[CV] END learning_rate=1.5, max_depth=7, min_samples_leaf=2, min_samples_split=2; total time=   0.5s\n",
            "[CV] END learning_rate=1.5, max_depth=7, min_samples_leaf=2, min_samples_split=3; total time=   0.5s\n",
            "[CV] END learning_rate=1.5, max_depth=7, min_samples_leaf=2, min_samples_split=3; total time=   0.5s\n",
            "[CV] END learning_rate=1.5, max_depth=7, min_samples_leaf=2, min_samples_split=3; total time=   0.6s\n",
            "[CV] END learning_rate=1.5, max_depth=7, min_samples_leaf=2, min_samples_split=3; total time=   0.6s\n",
            "[CV] END learning_rate=1.5, max_depth=7, min_samples_leaf=2, min_samples_split=3; total time=   0.5s\n",
            "[CV] END learning_rate=1.5, max_depth=7, min_samples_leaf=2, min_samples_split=4; total time=   0.5s\n",
            "[CV] END learning_rate=1.5, max_depth=7, min_samples_leaf=2, min_samples_split=4; total time=   0.5s\n",
            "[CV] END learning_rate=1.5, max_depth=7, min_samples_leaf=2, min_samples_split=4; total time=   0.6s\n",
            "[CV] END learning_rate=1.5, max_depth=7, min_samples_leaf=2, min_samples_split=4; total time=   0.6s\n",
            "[CV] END learning_rate=1.5, max_depth=7, min_samples_leaf=2, min_samples_split=4; total time=   0.5s\n",
            "[CV] END learning_rate=1.5, max_depth=7, min_samples_leaf=3, min_samples_split=2; total time=   0.6s\n",
            "[CV] END learning_rate=1.5, max_depth=7, min_samples_leaf=3, min_samples_split=2; total time=   0.5s\n",
            "[CV] END learning_rate=1.5, max_depth=7, min_samples_leaf=3, min_samples_split=2; total time=   0.6s\n",
            "[CV] END learning_rate=1.5, max_depth=7, min_samples_leaf=3, min_samples_split=2; total time=   0.5s\n",
            "[CV] END learning_rate=1.5, max_depth=7, min_samples_leaf=3, min_samples_split=2; total time=   0.5s\n",
            "[CV] END learning_rate=1.5, max_depth=7, min_samples_leaf=3, min_samples_split=3; total time=   0.5s\n",
            "[CV] END learning_rate=1.5, max_depth=7, min_samples_leaf=3, min_samples_split=3; total time=   0.6s\n",
            "[CV] END learning_rate=1.5, max_depth=7, min_samples_leaf=3, min_samples_split=3; total time=   0.6s\n",
            "[CV] END learning_rate=1.5, max_depth=7, min_samples_leaf=3, min_samples_split=3; total time=   0.6s\n",
            "[CV] END learning_rate=1.5, max_depth=7, min_samples_leaf=3, min_samples_split=3; total time=   0.6s\n",
            "[CV] END learning_rate=1.5, max_depth=7, min_samples_leaf=3, min_samples_split=4; total time=   0.5s\n",
            "[CV] END learning_rate=1.5, max_depth=7, min_samples_leaf=3, min_samples_split=4; total time=   0.5s\n",
            "[CV] END learning_rate=1.5, max_depth=7, min_samples_leaf=3, min_samples_split=4; total time=   0.6s\n",
            "[CV] END learning_rate=1.5, max_depth=7, min_samples_leaf=3, min_samples_split=4; total time=   0.5s\n",
            "[CV] END learning_rate=1.5, max_depth=7, min_samples_leaf=3, min_samples_split=4; total time=   0.5s\n",
            "[CV] END learning_rate=1.5, max_depth=8, min_samples_leaf=2, min_samples_split=2; total time=   0.6s\n",
            "[CV] END learning_rate=1.5, max_depth=8, min_samples_leaf=2, min_samples_split=2; total time=   0.6s\n",
            "[CV] END learning_rate=1.5, max_depth=8, min_samples_leaf=2, min_samples_split=2; total time=   0.6s\n",
            "[CV] END learning_rate=1.5, max_depth=8, min_samples_leaf=2, min_samples_split=2; total time=   0.6s\n",
            "[CV] END learning_rate=1.5, max_depth=8, min_samples_leaf=2, min_samples_split=2; total time=   0.6s\n",
            "[CV] END learning_rate=1.5, max_depth=8, min_samples_leaf=2, min_samples_split=3; total time=   0.7s\n",
            "[CV] END learning_rate=1.5, max_depth=8, min_samples_leaf=2, min_samples_split=3; total time=   0.6s\n",
            "[CV] END learning_rate=1.5, max_depth=8, min_samples_leaf=2, min_samples_split=3; total time=   0.6s\n",
            "[CV] END learning_rate=1.5, max_depth=8, min_samples_leaf=2, min_samples_split=3; total time=   0.6s\n",
            "[CV] END learning_rate=1.5, max_depth=8, min_samples_leaf=2, min_samples_split=3; total time=   0.6s\n",
            "[CV] END learning_rate=1.5, max_depth=8, min_samples_leaf=2, min_samples_split=4; total time=   0.7s\n",
            "[CV] END learning_rate=1.5, max_depth=8, min_samples_leaf=2, min_samples_split=4; total time=   0.6s\n",
            "[CV] END learning_rate=1.5, max_depth=8, min_samples_leaf=2, min_samples_split=4; total time=   0.6s\n",
            "[CV] END learning_rate=1.5, max_depth=8, min_samples_leaf=2, min_samples_split=4; total time=   0.6s\n",
            "[CV] END learning_rate=1.5, max_depth=8, min_samples_leaf=2, min_samples_split=4; total time=   0.6s\n",
            "[CV] END learning_rate=1.5, max_depth=8, min_samples_leaf=3, min_samples_split=2; total time=   0.6s\n",
            "[CV] END learning_rate=1.5, max_depth=8, min_samples_leaf=3, min_samples_split=2; total time=   0.6s\n",
            "[CV] END learning_rate=1.5, max_depth=8, min_samples_leaf=3, min_samples_split=2; total time=   0.7s\n",
            "[CV] END learning_rate=1.5, max_depth=8, min_samples_leaf=3, min_samples_split=2; total time=   0.6s\n",
            "[CV] END learning_rate=1.5, max_depth=8, min_samples_leaf=3, min_samples_split=2; total time=   0.7s\n",
            "[CV] END learning_rate=1.5, max_depth=8, min_samples_leaf=3, min_samples_split=3; total time=   0.6s\n",
            "[CV] END learning_rate=1.5, max_depth=8, min_samples_leaf=3, min_samples_split=3; total time=   0.6s\n",
            "[CV] END learning_rate=1.5, max_depth=8, min_samples_leaf=3, min_samples_split=3; total time=   0.7s\n",
            "[CV] END learning_rate=1.5, max_depth=8, min_samples_leaf=3, min_samples_split=3; total time=   0.6s\n",
            "[CV] END learning_rate=1.5, max_depth=8, min_samples_leaf=3, min_samples_split=3; total time=   0.6s\n",
            "[CV] END learning_rate=1.5, max_depth=8, min_samples_leaf=3, min_samples_split=4; total time=   0.6s\n",
            "[CV] END learning_rate=1.5, max_depth=8, min_samples_leaf=3, min_samples_split=4; total time=   0.6s\n",
            "[CV] END learning_rate=1.5, max_depth=8, min_samples_leaf=3, min_samples_split=4; total time=   0.6s\n",
            "[CV] END learning_rate=1.5, max_depth=8, min_samples_leaf=3, min_samples_split=4; total time=   0.6s\n",
            "[CV] END learning_rate=1.5, max_depth=8, min_samples_leaf=3, min_samples_split=4; total time=   0.6s\n",
            "[CV] END learning_rate=1.5, max_depth=9, min_samples_leaf=2, min_samples_split=2; total time=   0.7s\n",
            "[CV] END learning_rate=1.5, max_depth=9, min_samples_leaf=2, min_samples_split=2; total time=   0.7s\n",
            "[CV] END learning_rate=1.5, max_depth=9, min_samples_leaf=2, min_samples_split=2; total time=   0.6s\n",
            "[CV] END learning_rate=1.5, max_depth=9, min_samples_leaf=2, min_samples_split=2; total time=   0.6s\n",
            "[CV] END learning_rate=1.5, max_depth=9, min_samples_leaf=2, min_samples_split=2; total time=   0.6s\n",
            "[CV] END learning_rate=1.5, max_depth=9, min_samples_leaf=2, min_samples_split=3; total time=   0.6s\n",
            "[CV] END learning_rate=1.5, max_depth=9, min_samples_leaf=2, min_samples_split=3; total time=   0.7s\n",
            "[CV] END learning_rate=1.5, max_depth=9, min_samples_leaf=2, min_samples_split=3; total time=   0.6s\n",
            "[CV] END learning_rate=1.5, max_depth=9, min_samples_leaf=2, min_samples_split=3; total time=   0.6s\n",
            "[CV] END learning_rate=1.5, max_depth=9, min_samples_leaf=2, min_samples_split=3; total time=   0.6s\n",
            "[CV] END learning_rate=1.5, max_depth=9, min_samples_leaf=2, min_samples_split=4; total time=   0.6s\n",
            "[CV] END learning_rate=1.5, max_depth=9, min_samples_leaf=2, min_samples_split=4; total time=   0.7s\n",
            "[CV] END learning_rate=1.5, max_depth=9, min_samples_leaf=2, min_samples_split=4; total time=   0.6s\n",
            "[CV] END learning_rate=1.5, max_depth=9, min_samples_leaf=2, min_samples_split=4; total time=   0.6s\n",
            "[CV] END learning_rate=1.5, max_depth=9, min_samples_leaf=2, min_samples_split=4; total time=   0.6s\n",
            "[CV] END learning_rate=1.5, max_depth=9, min_samples_leaf=3, min_samples_split=2; total time=   0.6s\n",
            "[CV] END learning_rate=1.5, max_depth=9, min_samples_leaf=3, min_samples_split=2; total time=   0.7s\n",
            "[CV] END learning_rate=1.5, max_depth=9, min_samples_leaf=3, min_samples_split=2; total time=   0.6s\n",
            "[CV] END learning_rate=1.5, max_depth=9, min_samples_leaf=3, min_samples_split=2; total time=   0.6s\n",
            "[CV] END learning_rate=1.5, max_depth=9, min_samples_leaf=3, min_samples_split=2; total time=   0.6s\n",
            "[CV] END learning_rate=1.5, max_depth=9, min_samples_leaf=3, min_samples_split=3; total time=   0.6s\n",
            "[CV] END learning_rate=1.5, max_depth=9, min_samples_leaf=3, min_samples_split=3; total time=   0.7s\n",
            "[CV] END learning_rate=1.5, max_depth=9, min_samples_leaf=3, min_samples_split=3; total time=   0.6s\n",
            "[CV] END learning_rate=1.5, max_depth=9, min_samples_leaf=3, min_samples_split=3; total time=   0.6s\n",
            "[CV] END learning_rate=1.5, max_depth=9, min_samples_leaf=3, min_samples_split=3; total time=   0.6s\n",
            "[CV] END learning_rate=1.5, max_depth=9, min_samples_leaf=3, min_samples_split=4; total time=   0.6s\n",
            "[CV] END learning_rate=1.5, max_depth=9, min_samples_leaf=3, min_samples_split=4; total time=   0.6s\n",
            "[CV] END learning_rate=1.5, max_depth=9, min_samples_leaf=3, min_samples_split=4; total time=   0.6s\n",
            "[CV] END learning_rate=1.5, max_depth=9, min_samples_leaf=3, min_samples_split=4; total time=   0.6s\n",
            "[CV] END learning_rate=1.5, max_depth=9, min_samples_leaf=3, min_samples_split=4; total time=   0.6s\n"
          ]
        },
        {
          "output_type": "execute_result",
          "data": {
            "text/plain": [
              "GridSearchCV(cv=5, estimator=GradientBoostingClassifier(random_state=0),\n",
              "             param_grid={'learning_rate': [0.01, 0.1, 1, 1.5],\n",
              "                         'max_depth': array([2, 3, 4, 5, 6, 7, 8, 9]),\n",
              "                         'min_samples_leaf': array([2, 3]),\n",
              "                         'min_samples_split': array([2, 3, 4])},\n",
              "             scoring=make_scorer(f1_score, average=macro), verbose=2)"
            ]
          },
          "metadata": {},
          "execution_count": 103
        }
      ]
    },
    {
      "cell_type": "code",
      "source": [
        "# show the best model:\n",
        "print(\"Voici les paramètres du meilleure modèle : \" + \n",
        "      str(modele_boost.best_estimator_))\n",
        "print(\"Voici le \"  + str(modele_boost.scorer_) + \n",
        "      \" du meilleure modèle : \" + str(modele_boost.best_score_))"
      ],
      "metadata": {
        "colab": {
          "base_uri": "https://localhost:8080/"
        },
        "id": "kEHA34z80Is4",
        "outputId": "41aaf368-907a-431b-ab04-cd29d2871dfe"
      },
      "execution_count": null,
      "outputs": [
        {
          "output_type": "stream",
          "name": "stdout",
          "text": [
            "Voici les paramètres du meilleure modèle : GradientBoostingClassifier(learning_rate=1, max_depth=5, min_samples_leaf=3,\n",
            "                           random_state=0)\n",
            "Voici le make_scorer(f1_score, average=macro) du meilleure modèle : 0.7293326577448659\n"
          ]
        }
      ]
    },
    {
      "cell_type": "code",
      "source": [
        "# prediction on the unbalanced test set \n",
        "score1 = modele_boost.score(test_features, test_labels)\n",
        "print(\"Test acc = \", score1)"
      ],
      "metadata": {
        "colab": {
          "base_uri": "https://localhost:8080/"
        },
        "id": "ac6UXt3_Te7u",
        "outputId": "ffe832d2-6a2e-4917-b031-e69d2a2470b5"
      },
      "execution_count": null,
      "outputs": [
        {
          "output_type": "stream",
          "name": "stdout",
          "text": [
            "Test acc =  0.5065132333936603\n"
          ]
        }
      ]
    },
    {
      "cell_type": "code",
      "source": [
        "# prediction on the validation set\n",
        "score2 = modele_boost.score(validation_features, validation_labels)\n",
        "print(\"Validation acc = \", score2)"
      ],
      "metadata": {
        "colab": {
          "base_uri": "https://localhost:8080/"
        },
        "id": "0KSaMcgiTUkk",
        "outputId": "9960a5f4-cc3a-43ac-a0fc-4c3f599cf982"
      },
      "execution_count": null,
      "outputs": [
        {
          "output_type": "stream",
          "name": "stdout",
          "text": [
            "Validation acc =  0.7057742942088783\n"
          ]
        }
      ]
    },
    {
      "cell_type": "markdown",
      "metadata": {
        "id": "vCzkFi1275XE"
      },
      "source": [
        "# Our CNN model"
      ]
    },
    {
      "cell_type": "code",
      "execution_count": 46,
      "metadata": {
        "id": "FuHk9nh_8Z9r"
      },
      "outputs": [],
      "source": [
        "# Define our Convolutional Neural Network\n",
        "\n",
        "class MyModel(nn.Module):\n",
        "    def __init__(self):\n",
        "        super(MyModel, self).__init__()\n",
        "        \n",
        "        self.model = nn.Sequential(\n",
        "            nn.Conv2d(3, 32, kernel_size=3), nn.ReLU(),\n",
        "            nn.Conv2d(32, 32, kernel_size=3), nn.ReLU(),\n",
        "            nn.MaxPool2d(2,2),\n",
        "\n",
        "            nn.Conv2d(32, 64, kernel_size=3), nn.ReLU(),\n",
        "            nn.Conv2d(64, 64, kernel_size=3), nn.ReLU(),\n",
        "            nn.MaxPool2d(2,2),\n",
        "\n",
        "            nn.Conv2d(64, 128, kernel_size=3), nn.ReLU(),\n",
        "            nn.Conv2d(128, 128, kernel_size=3), nn.ReLU(),\n",
        "            nn.MaxPool2d(2,2),\n",
        "\n",
        "            nn.Conv2d(128, 256, kernel_size=3), nn.ReLU(),\n",
        "            nn.Conv2d(256, 256, kernel_size=3), nn.ReLU(),\n",
        "            nn.MaxPool2d(2,2),\n",
        "\n",
        "            nn.Conv2d(256, 512, kernel_size=3), nn.ReLU(),\n",
        "            nn.Conv2d(512, 512, kernel_size=3), nn.ReLU(),\n",
        "            nn.MaxPool2d(2,2),\n",
        "\n",
        "        ).to(device)\n",
        "        \n",
        "        self.classifier = nn.Sequential(\n",
        "            nn.Flatten(),\n",
        "            nn.Dropout(0.25),\n",
        "            nn.Linear(512*3*3, 512),\n",
        "            nn.ReLU(),\n",
        "            nn.Dropout(0.5),\n",
        "            nn.Linear(512, 2), \n",
        "            nn.LogSoftmax(dim=1)\n",
        "        ).to(device)\n",
        "        \n",
        "    def forward(self, x):\n",
        "        x = self.model(x)\n",
        "        x = self.classifier(x)\n",
        "        return x\n",
        "\n",
        "\n",
        "net = MyModel().to(device)"
      ]
    },
    {
      "cell_type": "code",
      "source": [
        "# Define Optimizer and Loss Function\n",
        "criterion = nn.CrossEntropyLoss()\n",
        "optimizer = optim.Adam(net.parameters(), lr=0.0001)\n",
        "\n",
        "# Decay LR by a factor of 0.1 every 10 epochs\n",
        "exp_lr_scheduler = lr_scheduler.StepLR(optimizer, step_size=10, gamma=0.1)"
      ],
      "metadata": {
        "id": "uAreYrARKvLH"
      },
      "execution_count": 47,
      "outputs": []
    },
    {
      "cell_type": "code",
      "source": [
        "# Train the network\n",
        "net = train_model(net, criterion, optimizer,\n",
        "                         exp_lr_scheduler, num_epochs=30)"
      ],
      "metadata": {
        "colab": {
          "base_uri": "https://localhost:8080/"
        },
        "id": "02j9Z7l-MZpI",
        "outputId": "cdaf9dfb-cfdf-432b-f2fe-5bd64d25ea26"
      },
      "execution_count": 48,
      "outputs": [
        {
          "output_type": "stream",
          "name": "stdout",
          "text": [
            "Epoch 0/29\n",
            "----------\n",
            "train Loss: 0.6235 Acc: 0.6034\n",
            "valid Loss: 0.3969 Acc: 0.8285\n",
            "\n",
            "Epoch 1/29\n",
            "----------\n",
            "train Loss: 0.3048 Acc: 0.8771\n",
            "valid Loss: 0.2691 Acc: 0.8845\n",
            "\n",
            "Epoch 2/29\n",
            "----------\n",
            "train Loss: 0.2135 Acc: 0.9155\n",
            "valid Loss: 0.1961 Acc: 0.9175\n",
            "\n",
            "Epoch 3/29\n",
            "----------\n",
            "train Loss: 0.1866 Acc: 0.9237\n",
            "valid Loss: 0.1474 Acc: 0.9480\n",
            "\n",
            "Epoch 4/29\n",
            "----------\n",
            "train Loss: 0.1735 Acc: 0.9322\n",
            "valid Loss: 0.1433 Acc: 0.9420\n",
            "\n",
            "Epoch 5/29\n",
            "----------\n",
            "train Loss: 0.1612 Acc: 0.9369\n",
            "valid Loss: 0.1520 Acc: 0.9365\n",
            "\n",
            "Epoch 6/29\n",
            "----------\n",
            "train Loss: 0.1464 Acc: 0.9438\n",
            "valid Loss: 0.1207 Acc: 0.9550\n",
            "\n",
            "Epoch 7/29\n",
            "----------\n",
            "train Loss: 0.1327 Acc: 0.9485\n",
            "valid Loss: 0.1243 Acc: 0.9535\n",
            "\n",
            "Epoch 8/29\n",
            "----------\n",
            "train Loss: 0.1313 Acc: 0.9507\n",
            "valid Loss: 0.1288 Acc: 0.9555\n",
            "\n",
            "Epoch 9/29\n",
            "----------\n",
            "train Loss: 0.1247 Acc: 0.9532\n",
            "valid Loss: 0.1329 Acc: 0.9445\n",
            "\n",
            "Epoch 10/29\n",
            "----------\n",
            "train Loss: 0.0934 Acc: 0.9662\n",
            "valid Loss: 0.0943 Acc: 0.9655\n",
            "\n",
            "Epoch 11/29\n",
            "----------\n",
            "train Loss: 0.0890 Acc: 0.9657\n",
            "valid Loss: 0.0913 Acc: 0.9705\n",
            "\n",
            "Epoch 12/29\n",
            "----------\n",
            "train Loss: 0.0887 Acc: 0.9660\n",
            "valid Loss: 0.0910 Acc: 0.9730\n",
            "\n",
            "Epoch 13/29\n",
            "----------\n",
            "train Loss: 0.0860 Acc: 0.9679\n",
            "valid Loss: 0.0936 Acc: 0.9710\n",
            "\n",
            "Epoch 14/29\n",
            "----------\n",
            "train Loss: 0.0831 Acc: 0.9702\n",
            "valid Loss: 0.0919 Acc: 0.9725\n",
            "\n",
            "Epoch 15/29\n",
            "----------\n",
            "train Loss: 0.0821 Acc: 0.9693\n",
            "valid Loss: 0.0870 Acc: 0.9715\n",
            "\n",
            "Epoch 16/29\n",
            "----------\n",
            "train Loss: 0.0806 Acc: 0.9705\n",
            "valid Loss: 0.0882 Acc: 0.9700\n",
            "\n",
            "Epoch 17/29\n",
            "----------\n",
            "train Loss: 0.0788 Acc: 0.9701\n",
            "valid Loss: 0.0811 Acc: 0.9740\n",
            "\n",
            "Epoch 18/29\n",
            "----------\n",
            "train Loss: 0.0799 Acc: 0.9710\n",
            "valid Loss: 0.0811 Acc: 0.9730\n",
            "\n",
            "Epoch 19/29\n",
            "----------\n",
            "train Loss: 0.0765 Acc: 0.9719\n",
            "valid Loss: 0.0850 Acc: 0.9715\n",
            "\n",
            "Epoch 20/29\n",
            "----------\n",
            "train Loss: 0.0716 Acc: 0.9738\n",
            "valid Loss: 0.0824 Acc: 0.9730\n",
            "\n",
            "Epoch 21/29\n",
            "----------\n",
            "train Loss: 0.0730 Acc: 0.9724\n",
            "valid Loss: 0.0830 Acc: 0.9720\n",
            "\n",
            "Epoch 22/29\n",
            "----------\n",
            "train Loss: 0.0716 Acc: 0.9734\n",
            "valid Loss: 0.0828 Acc: 0.9715\n",
            "\n",
            "Epoch 23/29\n",
            "----------\n",
            "train Loss: 0.0722 Acc: 0.9726\n",
            "valid Loss: 0.0815 Acc: 0.9730\n",
            "\n",
            "Epoch 24/29\n",
            "----------\n",
            "train Loss: 0.0735 Acc: 0.9737\n",
            "valid Loss: 0.0824 Acc: 0.9725\n",
            "\n",
            "Epoch 25/29\n",
            "----------\n",
            "train Loss: 0.0699 Acc: 0.9737\n",
            "valid Loss: 0.0815 Acc: 0.9735\n",
            "\n",
            "Epoch 26/29\n",
            "----------\n",
            "train Loss: 0.0721 Acc: 0.9732\n",
            "valid Loss: 0.0834 Acc: 0.9730\n",
            "\n",
            "Epoch 27/29\n",
            "----------\n",
            "train Loss: 0.0696 Acc: 0.9751\n",
            "valid Loss: 0.0830 Acc: 0.9730\n",
            "\n",
            "Epoch 28/29\n",
            "----------\n",
            "train Loss: 0.0702 Acc: 0.9743\n",
            "valid Loss: 0.0824 Acc: 0.9720\n",
            "\n",
            "Epoch 29/29\n",
            "----------\n",
            "train Loss: 0.0686 Acc: 0.9733\n",
            "valid Loss: 0.0828 Acc: 0.9725\n",
            "\n",
            "Training complete in 32m 4s\n",
            "Best val Acc: 0.974000\n"
          ]
        }
      ]
    },
    {
      "cell_type": "markdown",
      "source": [
        "Best model (CNN + DA + DO (Adam)): validation Acc: 97.40 %, temps = 32m4s avec cuda"
      ],
      "metadata": {
        "id": "7eDfXZgT4XL-"
      }
    },
    {
      "cell_type": "code",
      "source": [
        "# save trained model\n",
        "torch.save(net, '/content/drive/MyDrive/projet ML DL/models/ourCNN.pth')"
      ],
      "metadata": {
        "id": "_d2TdnCBLa7W"
      },
      "execution_count": 49,
      "outputs": []
    },
    {
      "cell_type": "code",
      "source": [
        "# load model\n",
        "net = torch.load('/content/drive/MyDrive/projet ML DL/models/ourCNN.pth', map_location=device)\n",
        "net.eval()"
      ],
      "metadata": {
        "id": "6h-h4jjV9ED_",
        "colab": {
          "base_uri": "https://localhost:8080/"
        },
        "outputId": "3b09ef58-04a3-4aca-b519-44b1e4cbd62e"
      },
      "execution_count": null,
      "outputs": [
        {
          "output_type": "execute_result",
          "data": {
            "text/plain": [
              "MyModel(\n",
              "  (model): Sequential(\n",
              "    (0): Conv2d(3, 32, kernel_size=(3, 3), stride=(1, 1))\n",
              "    (1): ReLU()\n",
              "    (2): Conv2d(32, 32, kernel_size=(3, 3), stride=(1, 1))\n",
              "    (3): ReLU()\n",
              "    (4): MaxPool2d(kernel_size=2, stride=2, padding=0, dilation=1, ceil_mode=False)\n",
              "    (5): Conv2d(32, 64, kernel_size=(3, 3), stride=(1, 1))\n",
              "    (6): ReLU()\n",
              "    (7): Conv2d(64, 64, kernel_size=(3, 3), stride=(1, 1))\n",
              "    (8): ReLU()\n",
              "    (9): MaxPool2d(kernel_size=2, stride=2, padding=0, dilation=1, ceil_mode=False)\n",
              "    (10): Conv2d(64, 128, kernel_size=(3, 3), stride=(1, 1))\n",
              "    (11): ReLU()\n",
              "    (12): Conv2d(128, 128, kernel_size=(3, 3), stride=(1, 1))\n",
              "    (13): ReLU()\n",
              "    (14): MaxPool2d(kernel_size=2, stride=2, padding=0, dilation=1, ceil_mode=False)\n",
              "    (15): Conv2d(128, 256, kernel_size=(3, 3), stride=(1, 1))\n",
              "    (16): ReLU()\n",
              "    (17): Conv2d(256, 256, kernel_size=(3, 3), stride=(1, 1))\n",
              "    (18): ReLU()\n",
              "    (19): MaxPool2d(kernel_size=2, stride=2, padding=0, dilation=1, ceil_mode=False)\n",
              "    (20): Conv2d(256, 512, kernel_size=(3, 3), stride=(1, 1))\n",
              "    (21): ReLU()\n",
              "    (22): Conv2d(512, 512, kernel_size=(3, 3), stride=(1, 1))\n",
              "    (23): ReLU()\n",
              "    (24): MaxPool2d(kernel_size=2, stride=2, padding=0, dilation=1, ceil_mode=False)\n",
              "  )\n",
              "  (classifier): Sequential(\n",
              "    (0): Flatten(start_dim=1, end_dim=-1)\n",
              "    (1): Dropout(p=0.25, inplace=False)\n",
              "    (2): Linear(in_features=4608, out_features=512, bias=True)\n",
              "    (3): ReLU()\n",
              "    (4): Dropout(p=0.5, inplace=False)\n",
              "    (5): Linear(in_features=512, out_features=2, bias=True)\n",
              "    (6): LogSoftmax(dim=1)\n",
              "  )\n",
              ")"
            ]
          },
          "metadata": {},
          "execution_count": 12
        }
      ]
    },
    {
      "cell_type": "code",
      "source": [
        "# Test the network on the unbalanced test set \n",
        "test_model(net,dataloaders[\"test\"],device)"
      ],
      "metadata": {
        "id": "85Z7H8KsL0NM",
        "colab": {
          "base_uri": "https://localhost:8080/"
        },
        "outputId": "859a9e14-0416-4b3c-f43e-fc9b347eafc6"
      },
      "execution_count": 50,
      "outputs": [
        {
          "output_type": "stream",
          "name": "stdout",
          "text": [
            "Accuracy : 96.622232 %\n",
            "F1 :  84.72151251916198\n"
          ]
        },
        {
          "output_type": "execute_result",
          "data": {
            "text/plain": [
              "(0.9662223226389517, 84.72151251916198)"
            ]
          },
          "metadata": {},
          "execution_count": 50
        }
      ]
    },
    {
      "cell_type": "markdown",
      "source": [
        "Sur le test non équilibré, acc = 96.622232 %, f1 = 0.847215, temps= 9mn avec cuda"
      ],
      "metadata": {
        "id": "nZUwejXz4pnY"
      }
    },
    {
      "cell_type": "code",
      "source": [
        "# Test the network on the balanced test set \n",
        "test_model(net,dataloaders[\"test_balanced\"],device)"
      ],
      "metadata": {
        "id": "32LPO-WPL9CW",
        "colab": {
          "base_uri": "https://localhost:8080/"
        },
        "outputId": "e789faab-0403-41b1-cc51-81f31cf677a6"
      },
      "execution_count": 51,
      "outputs": [
        {
          "output_type": "stream",
          "name": "stderr",
          "text": [
            "/usr/local/lib/python3.8/dist-packages/torch/utils/data/dataloader.py:554: UserWarning: This DataLoader will create 4 worker processes in total. Our suggested max number of worker in current system is 2, which is smaller than what this DataLoader is going to create. Please be aware that excessive worker creation might get DataLoader running slow or even freeze, lower the worker number to avoid potential slowness/freeze if necessary.\n",
            "  warnings.warn(_create_warning_msg(\n"
          ]
        },
        {
          "output_type": "stream",
          "name": "stdout",
          "text": [
            "Accuracy : 97.400000 %\n",
            "F1 :  97.42319127849356\n"
          ]
        },
        {
          "output_type": "execute_result",
          "data": {
            "text/plain": [
              "(0.974, 97.42319127849356)"
            ]
          },
          "metadata": {},
          "execution_count": 51
        }
      ]
    },
    {
      "cell_type": "markdown",
      "source": [
        "Sur le test équilibré, acc = 97.4 %, f1 = 0.9742319 , temps= 1mn avec cuda"
      ],
      "metadata": {
        "id": "teJXN23o4tYt"
      }
    }
  ],
  "metadata": {
    "accelerator": "GPU",
    "colab": {
      "provenance": []
    },
    "gpuClass": "standard",
    "kernelspec": {
      "display_name": "Python 3",
      "name": "python3"
    },
    "language_info": {
      "name": "python"
    },
    "widgets": {
      "application/vnd.jupyter.widget-state+json": {
        "05e7a83c847c4d35b58cbe940abac0e7": {
          "model_module": "@jupyter-widgets/controls",
          "model_module_version": "1.5.0",
          "model_name": "DescriptionStyleModel",
          "state": {
            "_model_module": "@jupyter-widgets/controls",
            "_model_module_version": "1.5.0",
            "_model_name": "DescriptionStyleModel",
            "_view_count": null,
            "_view_module": "@jupyter-widgets/base",
            "_view_module_version": "1.2.0",
            "_view_name": "StyleView",
            "description_width": ""
          }
        },
        "0f1e75cae40c46869de73e1412082a25": {
          "model_module": "@jupyter-widgets/base",
          "model_module_version": "1.2.0",
          "model_name": "LayoutModel",
          "state": {
            "_model_module": "@jupyter-widgets/base",
            "_model_module_version": "1.2.0",
            "_model_name": "LayoutModel",
            "_view_count": null,
            "_view_module": "@jupyter-widgets/base",
            "_view_module_version": "1.2.0",
            "_view_name": "LayoutView",
            "align_content": null,
            "align_items": null,
            "align_self": null,
            "border": null,
            "bottom": null,
            "display": null,
            "flex": null,
            "flex_flow": null,
            "grid_area": null,
            "grid_auto_columns": null,
            "grid_auto_flow": null,
            "grid_auto_rows": null,
            "grid_column": null,
            "grid_gap": null,
            "grid_row": null,
            "grid_template_areas": null,
            "grid_template_columns": null,
            "grid_template_rows": null,
            "height": null,
            "justify_content": null,
            "justify_items": null,
            "left": null,
            "margin": null,
            "max_height": null,
            "max_width": null,
            "min_height": null,
            "min_width": null,
            "object_fit": null,
            "object_position": null,
            "order": null,
            "overflow": null,
            "overflow_x": null,
            "overflow_y": null,
            "padding": null,
            "right": null,
            "top": null,
            "visibility": null,
            "width": null
          }
        },
        "308bc714a5734c199bcded5cd5376066": {
          "model_module": "@jupyter-widgets/controls",
          "model_module_version": "1.5.0",
          "model_name": "DescriptionStyleModel",
          "state": {
            "_model_module": "@jupyter-widgets/controls",
            "_model_module_version": "1.5.0",
            "_model_name": "DescriptionStyleModel",
            "_view_count": null,
            "_view_module": "@jupyter-widgets/base",
            "_view_module_version": "1.2.0",
            "_view_name": "StyleView",
            "description_width": ""
          }
        },
        "5a4f94667f7447ad91cdf7b4d0edec89": {
          "model_module": "@jupyter-widgets/controls",
          "model_module_version": "1.5.0",
          "model_name": "ProgressStyleModel",
          "state": {
            "_model_module": "@jupyter-widgets/controls",
            "_model_module_version": "1.5.0",
            "_model_name": "ProgressStyleModel",
            "_view_count": null,
            "_view_module": "@jupyter-widgets/base",
            "_view_module_version": "1.2.0",
            "_view_name": "StyleView",
            "bar_color": null,
            "description_width": ""
          }
        },
        "6d5ca146a06d457b98e08a0bf84fbadd": {
          "model_module": "@jupyter-widgets/base",
          "model_module_version": "1.2.0",
          "model_name": "LayoutModel",
          "state": {
            "_model_module": "@jupyter-widgets/base",
            "_model_module_version": "1.2.0",
            "_model_name": "LayoutModel",
            "_view_count": null,
            "_view_module": "@jupyter-widgets/base",
            "_view_module_version": "1.2.0",
            "_view_name": "LayoutView",
            "align_content": null,
            "align_items": null,
            "align_self": null,
            "border": null,
            "bottom": null,
            "display": null,
            "flex": null,
            "flex_flow": null,
            "grid_area": null,
            "grid_auto_columns": null,
            "grid_auto_flow": null,
            "grid_auto_rows": null,
            "grid_column": null,
            "grid_gap": null,
            "grid_row": null,
            "grid_template_areas": null,
            "grid_template_columns": null,
            "grid_template_rows": null,
            "height": null,
            "justify_content": null,
            "justify_items": null,
            "left": null,
            "margin": null,
            "max_height": null,
            "max_width": null,
            "min_height": null,
            "min_width": null,
            "object_fit": null,
            "object_position": null,
            "order": null,
            "overflow": null,
            "overflow_x": null,
            "overflow_y": null,
            "padding": null,
            "right": null,
            "top": null,
            "visibility": null,
            "width": null
          }
        },
        "7aac184443d54f10adcac2cfdb8df7a5": {
          "model_module": "@jupyter-widgets/controls",
          "model_module_version": "1.5.0",
          "model_name": "HBoxModel",
          "state": {
            "_dom_classes": [],
            "_model_module": "@jupyter-widgets/controls",
            "_model_module_version": "1.5.0",
            "_model_name": "HBoxModel",
            "_view_count": null,
            "_view_module": "@jupyter-widgets/controls",
            "_view_module_version": "1.5.0",
            "_view_name": "HBoxView",
            "box_style": "",
            "children": [
              "IPY_MODEL_be0cad6b50e94d50a6e4bca245f0fafb",
              "IPY_MODEL_e52de8fd45344ec49e6a6efa3b7a5cb2",
              "IPY_MODEL_9a2cffab42a34d51885eab6320541a6f"
            ],
            "layout": "IPY_MODEL_b90569b64d3945279e679ef5caaaa0e1"
          }
        },
        "9a2cffab42a34d51885eab6320541a6f": {
          "model_module": "@jupyter-widgets/controls",
          "model_module_version": "1.5.0",
          "model_name": "HTMLModel",
          "state": {
            "_dom_classes": [],
            "_model_module": "@jupyter-widgets/controls",
            "_model_module_version": "1.5.0",
            "_model_name": "HTMLModel",
            "_view_count": null,
            "_view_module": "@jupyter-widgets/controls",
            "_view_module_version": "1.5.0",
            "_view_name": "HTMLView",
            "description": "",
            "description_tooltip": null,
            "layout": "IPY_MODEL_6d5ca146a06d457b98e08a0bf84fbadd",
            "placeholder": "​",
            "style": "IPY_MODEL_05e7a83c847c4d35b58cbe940abac0e7",
            "value": " 97.8M/97.8M [00:00&lt;00:00, 140MB/s]"
          }
        },
        "b90569b64d3945279e679ef5caaaa0e1": {
          "model_module": "@jupyter-widgets/base",
          "model_module_version": "1.2.0",
          "model_name": "LayoutModel",
          "state": {
            "_model_module": "@jupyter-widgets/base",
            "_model_module_version": "1.2.0",
            "_model_name": "LayoutModel",
            "_view_count": null,
            "_view_module": "@jupyter-widgets/base",
            "_view_module_version": "1.2.0",
            "_view_name": "LayoutView",
            "align_content": null,
            "align_items": null,
            "align_self": null,
            "border": null,
            "bottom": null,
            "display": null,
            "flex": null,
            "flex_flow": null,
            "grid_area": null,
            "grid_auto_columns": null,
            "grid_auto_flow": null,
            "grid_auto_rows": null,
            "grid_column": null,
            "grid_gap": null,
            "grid_row": null,
            "grid_template_areas": null,
            "grid_template_columns": null,
            "grid_template_rows": null,
            "height": null,
            "justify_content": null,
            "justify_items": null,
            "left": null,
            "margin": null,
            "max_height": null,
            "max_width": null,
            "min_height": null,
            "min_width": null,
            "object_fit": null,
            "object_position": null,
            "order": null,
            "overflow": null,
            "overflow_x": null,
            "overflow_y": null,
            "padding": null,
            "right": null,
            "top": null,
            "visibility": null,
            "width": null
          }
        },
        "be0cad6b50e94d50a6e4bca245f0fafb": {
          "model_module": "@jupyter-widgets/controls",
          "model_module_version": "1.5.0",
          "model_name": "HTMLModel",
          "state": {
            "_dom_classes": [],
            "_model_module": "@jupyter-widgets/controls",
            "_model_module_version": "1.5.0",
            "_model_name": "HTMLModel",
            "_view_count": null,
            "_view_module": "@jupyter-widgets/controls",
            "_view_module_version": "1.5.0",
            "_view_name": "HTMLView",
            "description": "",
            "description_tooltip": null,
            "layout": "IPY_MODEL_d6a739b617ab41cf87557702c5a37e06",
            "placeholder": "​",
            "style": "IPY_MODEL_308bc714a5734c199bcded5cd5376066",
            "value": "100%"
          }
        },
        "d6a739b617ab41cf87557702c5a37e06": {
          "model_module": "@jupyter-widgets/base",
          "model_module_version": "1.2.0",
          "model_name": "LayoutModel",
          "state": {
            "_model_module": "@jupyter-widgets/base",
            "_model_module_version": "1.2.0",
            "_model_name": "LayoutModel",
            "_view_count": null,
            "_view_module": "@jupyter-widgets/base",
            "_view_module_version": "1.2.0",
            "_view_name": "LayoutView",
            "align_content": null,
            "align_items": null,
            "align_self": null,
            "border": null,
            "bottom": null,
            "display": null,
            "flex": null,
            "flex_flow": null,
            "grid_area": null,
            "grid_auto_columns": null,
            "grid_auto_flow": null,
            "grid_auto_rows": null,
            "grid_column": null,
            "grid_gap": null,
            "grid_row": null,
            "grid_template_areas": null,
            "grid_template_columns": null,
            "grid_template_rows": null,
            "height": null,
            "justify_content": null,
            "justify_items": null,
            "left": null,
            "margin": null,
            "max_height": null,
            "max_width": null,
            "min_height": null,
            "min_width": null,
            "object_fit": null,
            "object_position": null,
            "order": null,
            "overflow": null,
            "overflow_x": null,
            "overflow_y": null,
            "padding": null,
            "right": null,
            "top": null,
            "visibility": null,
            "width": null
          }
        },
        "e52de8fd45344ec49e6a6efa3b7a5cb2": {
          "model_module": "@jupyter-widgets/controls",
          "model_module_version": "1.5.0",
          "model_name": "FloatProgressModel",
          "state": {
            "_dom_classes": [],
            "_model_module": "@jupyter-widgets/controls",
            "_model_module_version": "1.5.0",
            "_model_name": "FloatProgressModel",
            "_view_count": null,
            "_view_module": "@jupyter-widgets/controls",
            "_view_module_version": "1.5.0",
            "_view_name": "ProgressView",
            "bar_style": "success",
            "description": "",
            "description_tooltip": null,
            "layout": "IPY_MODEL_0f1e75cae40c46869de73e1412082a25",
            "max": 102530333,
            "min": 0,
            "orientation": "horizontal",
            "style": "IPY_MODEL_5a4f94667f7447ad91cdf7b4d0edec89",
            "value": 102530333
          }
        },
        "f10f1885799f4ae7b804b44d9806035c": {
          "model_module": "@jupyter-widgets/controls",
          "model_name": "HBoxModel",
          "model_module_version": "1.5.0",
          "state": {
            "_dom_classes": [],
            "_model_module": "@jupyter-widgets/controls",
            "_model_module_version": "1.5.0",
            "_model_name": "HBoxModel",
            "_view_count": null,
            "_view_module": "@jupyter-widgets/controls",
            "_view_module_version": "1.5.0",
            "_view_name": "HBoxView",
            "box_style": "",
            "children": [
              "IPY_MODEL_8aff98573cea46339239a1ae84d2542a",
              "IPY_MODEL_8fe1cc9775174b548d48d27bd12a4328",
              "IPY_MODEL_b2da10b44e214fef9a2c8b73ec80fab9"
            ],
            "layout": "IPY_MODEL_47ffa018eb734354a97db729c9a4f010"
          }
        },
        "8aff98573cea46339239a1ae84d2542a": {
          "model_module": "@jupyter-widgets/controls",
          "model_name": "HTMLModel",
          "model_module_version": "1.5.0",
          "state": {
            "_dom_classes": [],
            "_model_module": "@jupyter-widgets/controls",
            "_model_module_version": "1.5.0",
            "_model_name": "HTMLModel",
            "_view_count": null,
            "_view_module": "@jupyter-widgets/controls",
            "_view_module_version": "1.5.0",
            "_view_name": "HTMLView",
            "description": "",
            "description_tooltip": null,
            "layout": "IPY_MODEL_e2fe745ea77f431c86b0c9e2b31b3559",
            "placeholder": "​",
            "style": "IPY_MODEL_4c3f853a6bc3465880fe9c8296aeaecd",
            "value": "100%"
          }
        },
        "8fe1cc9775174b548d48d27bd12a4328": {
          "model_module": "@jupyter-widgets/controls",
          "model_name": "FloatProgressModel",
          "model_module_version": "1.5.0",
          "state": {
            "_dom_classes": [],
            "_model_module": "@jupyter-widgets/controls",
            "_model_module_version": "1.5.0",
            "_model_name": "FloatProgressModel",
            "_view_count": null,
            "_view_module": "@jupyter-widgets/controls",
            "_view_module_version": "1.5.0",
            "_view_name": "ProgressView",
            "bar_style": "success",
            "description": "",
            "description_tooltip": null,
            "layout": "IPY_MODEL_70bfed74cf3c47a6825f60663f9f8e48",
            "max": 102530333,
            "min": 0,
            "orientation": "horizontal",
            "style": "IPY_MODEL_e3b79a97caab443b8b166584d90334bb",
            "value": 102530333
          }
        },
        "b2da10b44e214fef9a2c8b73ec80fab9": {
          "model_module": "@jupyter-widgets/controls",
          "model_name": "HTMLModel",
          "model_module_version": "1.5.0",
          "state": {
            "_dom_classes": [],
            "_model_module": "@jupyter-widgets/controls",
            "_model_module_version": "1.5.0",
            "_model_name": "HTMLModel",
            "_view_count": null,
            "_view_module": "@jupyter-widgets/controls",
            "_view_module_version": "1.5.0",
            "_view_name": "HTMLView",
            "description": "",
            "description_tooltip": null,
            "layout": "IPY_MODEL_08c3eea0d3094b1ab5971a6621d45453",
            "placeholder": "​",
            "style": "IPY_MODEL_302fe98be3c2442496060854d5701418",
            "value": " 97.8M/97.8M [00:00&lt;00:00, 201MB/s]"
          }
        },
        "47ffa018eb734354a97db729c9a4f010": {
          "model_module": "@jupyter-widgets/base",
          "model_name": "LayoutModel",
          "model_module_version": "1.2.0",
          "state": {
            "_model_module": "@jupyter-widgets/base",
            "_model_module_version": "1.2.0",
            "_model_name": "LayoutModel",
            "_view_count": null,
            "_view_module": "@jupyter-widgets/base",
            "_view_module_version": "1.2.0",
            "_view_name": "LayoutView",
            "align_content": null,
            "align_items": null,
            "align_self": null,
            "border": null,
            "bottom": null,
            "display": null,
            "flex": null,
            "flex_flow": null,
            "grid_area": null,
            "grid_auto_columns": null,
            "grid_auto_flow": null,
            "grid_auto_rows": null,
            "grid_column": null,
            "grid_gap": null,
            "grid_row": null,
            "grid_template_areas": null,
            "grid_template_columns": null,
            "grid_template_rows": null,
            "height": null,
            "justify_content": null,
            "justify_items": null,
            "left": null,
            "margin": null,
            "max_height": null,
            "max_width": null,
            "min_height": null,
            "min_width": null,
            "object_fit": null,
            "object_position": null,
            "order": null,
            "overflow": null,
            "overflow_x": null,
            "overflow_y": null,
            "padding": null,
            "right": null,
            "top": null,
            "visibility": null,
            "width": null
          }
        },
        "e2fe745ea77f431c86b0c9e2b31b3559": {
          "model_module": "@jupyter-widgets/base",
          "model_name": "LayoutModel",
          "model_module_version": "1.2.0",
          "state": {
            "_model_module": "@jupyter-widgets/base",
            "_model_module_version": "1.2.0",
            "_model_name": "LayoutModel",
            "_view_count": null,
            "_view_module": "@jupyter-widgets/base",
            "_view_module_version": "1.2.0",
            "_view_name": "LayoutView",
            "align_content": null,
            "align_items": null,
            "align_self": null,
            "border": null,
            "bottom": null,
            "display": null,
            "flex": null,
            "flex_flow": null,
            "grid_area": null,
            "grid_auto_columns": null,
            "grid_auto_flow": null,
            "grid_auto_rows": null,
            "grid_column": null,
            "grid_gap": null,
            "grid_row": null,
            "grid_template_areas": null,
            "grid_template_columns": null,
            "grid_template_rows": null,
            "height": null,
            "justify_content": null,
            "justify_items": null,
            "left": null,
            "margin": null,
            "max_height": null,
            "max_width": null,
            "min_height": null,
            "min_width": null,
            "object_fit": null,
            "object_position": null,
            "order": null,
            "overflow": null,
            "overflow_x": null,
            "overflow_y": null,
            "padding": null,
            "right": null,
            "top": null,
            "visibility": null,
            "width": null
          }
        },
        "4c3f853a6bc3465880fe9c8296aeaecd": {
          "model_module": "@jupyter-widgets/controls",
          "model_name": "DescriptionStyleModel",
          "model_module_version": "1.5.0",
          "state": {
            "_model_module": "@jupyter-widgets/controls",
            "_model_module_version": "1.5.0",
            "_model_name": "DescriptionStyleModel",
            "_view_count": null,
            "_view_module": "@jupyter-widgets/base",
            "_view_module_version": "1.2.0",
            "_view_name": "StyleView",
            "description_width": ""
          }
        },
        "70bfed74cf3c47a6825f60663f9f8e48": {
          "model_module": "@jupyter-widgets/base",
          "model_name": "LayoutModel",
          "model_module_version": "1.2.0",
          "state": {
            "_model_module": "@jupyter-widgets/base",
            "_model_module_version": "1.2.0",
            "_model_name": "LayoutModel",
            "_view_count": null,
            "_view_module": "@jupyter-widgets/base",
            "_view_module_version": "1.2.0",
            "_view_name": "LayoutView",
            "align_content": null,
            "align_items": null,
            "align_self": null,
            "border": null,
            "bottom": null,
            "display": null,
            "flex": null,
            "flex_flow": null,
            "grid_area": null,
            "grid_auto_columns": null,
            "grid_auto_flow": null,
            "grid_auto_rows": null,
            "grid_column": null,
            "grid_gap": null,
            "grid_row": null,
            "grid_template_areas": null,
            "grid_template_columns": null,
            "grid_template_rows": null,
            "height": null,
            "justify_content": null,
            "justify_items": null,
            "left": null,
            "margin": null,
            "max_height": null,
            "max_width": null,
            "min_height": null,
            "min_width": null,
            "object_fit": null,
            "object_position": null,
            "order": null,
            "overflow": null,
            "overflow_x": null,
            "overflow_y": null,
            "padding": null,
            "right": null,
            "top": null,
            "visibility": null,
            "width": null
          }
        },
        "e3b79a97caab443b8b166584d90334bb": {
          "model_module": "@jupyter-widgets/controls",
          "model_name": "ProgressStyleModel",
          "model_module_version": "1.5.0",
          "state": {
            "_model_module": "@jupyter-widgets/controls",
            "_model_module_version": "1.5.0",
            "_model_name": "ProgressStyleModel",
            "_view_count": null,
            "_view_module": "@jupyter-widgets/base",
            "_view_module_version": "1.2.0",
            "_view_name": "StyleView",
            "bar_color": null,
            "description_width": ""
          }
        },
        "08c3eea0d3094b1ab5971a6621d45453": {
          "model_module": "@jupyter-widgets/base",
          "model_name": "LayoutModel",
          "model_module_version": "1.2.0",
          "state": {
            "_model_module": "@jupyter-widgets/base",
            "_model_module_version": "1.2.0",
            "_model_name": "LayoutModel",
            "_view_count": null,
            "_view_module": "@jupyter-widgets/base",
            "_view_module_version": "1.2.0",
            "_view_name": "LayoutView",
            "align_content": null,
            "align_items": null,
            "align_self": null,
            "border": null,
            "bottom": null,
            "display": null,
            "flex": null,
            "flex_flow": null,
            "grid_area": null,
            "grid_auto_columns": null,
            "grid_auto_flow": null,
            "grid_auto_rows": null,
            "grid_column": null,
            "grid_gap": null,
            "grid_row": null,
            "grid_template_areas": null,
            "grid_template_columns": null,
            "grid_template_rows": null,
            "height": null,
            "justify_content": null,
            "justify_items": null,
            "left": null,
            "margin": null,
            "max_height": null,
            "max_width": null,
            "min_height": null,
            "min_width": null,
            "object_fit": null,
            "object_position": null,
            "order": null,
            "overflow": null,
            "overflow_x": null,
            "overflow_y": null,
            "padding": null,
            "right": null,
            "top": null,
            "visibility": null,
            "width": null
          }
        },
        "302fe98be3c2442496060854d5701418": {
          "model_module": "@jupyter-widgets/controls",
          "model_name": "DescriptionStyleModel",
          "model_module_version": "1.5.0",
          "state": {
            "_model_module": "@jupyter-widgets/controls",
            "_model_module_version": "1.5.0",
            "_model_name": "DescriptionStyleModel",
            "_view_count": null,
            "_view_module": "@jupyter-widgets/base",
            "_view_module_version": "1.2.0",
            "_view_name": "StyleView",
            "description_width": ""
          }
        },
        "b621e01cf27a4365a795224199248b1c": {
          "model_module": "@jupyter-widgets/controls",
          "model_name": "HBoxModel",
          "model_module_version": "1.5.0",
          "state": {
            "_dom_classes": [],
            "_model_module": "@jupyter-widgets/controls",
            "_model_module_version": "1.5.0",
            "_model_name": "HBoxModel",
            "_view_count": null,
            "_view_module": "@jupyter-widgets/controls",
            "_view_module_version": "1.5.0",
            "_view_name": "HBoxView",
            "box_style": "",
            "children": [
              "IPY_MODEL_3ae0f04e7f6e4d2c8a055e5247715e50",
              "IPY_MODEL_e533f70655e34bd8b89eb04903e69dd0",
              "IPY_MODEL_30f3869bad994d47811373c3b64041d1"
            ],
            "layout": "IPY_MODEL_d9a0229e8205459692c6badb07726d47"
          }
        },
        "3ae0f04e7f6e4d2c8a055e5247715e50": {
          "model_module": "@jupyter-widgets/controls",
          "model_name": "HTMLModel",
          "model_module_version": "1.5.0",
          "state": {
            "_dom_classes": [],
            "_model_module": "@jupyter-widgets/controls",
            "_model_module_version": "1.5.0",
            "_model_name": "HTMLModel",
            "_view_count": null,
            "_view_module": "@jupyter-widgets/controls",
            "_view_module_version": "1.5.0",
            "_view_name": "HTMLView",
            "description": "",
            "description_tooltip": null,
            "layout": "IPY_MODEL_a07379f6767546829fd26ca44d304405",
            "placeholder": "​",
            "style": "IPY_MODEL_1fb3797d500240629ea5b356e89a7d5f",
            "value": "100%"
          }
        },
        "e533f70655e34bd8b89eb04903e69dd0": {
          "model_module": "@jupyter-widgets/controls",
          "model_name": "FloatProgressModel",
          "model_module_version": "1.5.0",
          "state": {
            "_dom_classes": [],
            "_model_module": "@jupyter-widgets/controls",
            "_model_module_version": "1.5.0",
            "_model_name": "FloatProgressModel",
            "_view_count": null,
            "_view_module": "@jupyter-widgets/controls",
            "_view_module_version": "1.5.0",
            "_view_name": "ProgressView",
            "bar_style": "success",
            "description": "",
            "description_tooltip": null,
            "layout": "IPY_MODEL_7fb69b13ce72470cb2b7fad6a3c22617",
            "max": 102530333,
            "min": 0,
            "orientation": "horizontal",
            "style": "IPY_MODEL_c13e9f95b8c941928d958dbf4fda368a",
            "value": 102530333
          }
        },
        "30f3869bad994d47811373c3b64041d1": {
          "model_module": "@jupyter-widgets/controls",
          "model_name": "HTMLModel",
          "model_module_version": "1.5.0",
          "state": {
            "_dom_classes": [],
            "_model_module": "@jupyter-widgets/controls",
            "_model_module_version": "1.5.0",
            "_model_name": "HTMLModel",
            "_view_count": null,
            "_view_module": "@jupyter-widgets/controls",
            "_view_module_version": "1.5.0",
            "_view_name": "HTMLView",
            "description": "",
            "description_tooltip": null,
            "layout": "IPY_MODEL_63edcc0ec8424f60b40a96e96e504a79",
            "placeholder": "​",
            "style": "IPY_MODEL_7a23238bbc6c43669326a86406ce6689",
            "value": " 97.8M/97.8M [00:03&lt;00:00, 28.4MB/s]"
          }
        },
        "d9a0229e8205459692c6badb07726d47": {
          "model_module": "@jupyter-widgets/base",
          "model_name": "LayoutModel",
          "model_module_version": "1.2.0",
          "state": {
            "_model_module": "@jupyter-widgets/base",
            "_model_module_version": "1.2.0",
            "_model_name": "LayoutModel",
            "_view_count": null,
            "_view_module": "@jupyter-widgets/base",
            "_view_module_version": "1.2.0",
            "_view_name": "LayoutView",
            "align_content": null,
            "align_items": null,
            "align_self": null,
            "border": null,
            "bottom": null,
            "display": null,
            "flex": null,
            "flex_flow": null,
            "grid_area": null,
            "grid_auto_columns": null,
            "grid_auto_flow": null,
            "grid_auto_rows": null,
            "grid_column": null,
            "grid_gap": null,
            "grid_row": null,
            "grid_template_areas": null,
            "grid_template_columns": null,
            "grid_template_rows": null,
            "height": null,
            "justify_content": null,
            "justify_items": null,
            "left": null,
            "margin": null,
            "max_height": null,
            "max_width": null,
            "min_height": null,
            "min_width": null,
            "object_fit": null,
            "object_position": null,
            "order": null,
            "overflow": null,
            "overflow_x": null,
            "overflow_y": null,
            "padding": null,
            "right": null,
            "top": null,
            "visibility": null,
            "width": null
          }
        },
        "a07379f6767546829fd26ca44d304405": {
          "model_module": "@jupyter-widgets/base",
          "model_name": "LayoutModel",
          "model_module_version": "1.2.0",
          "state": {
            "_model_module": "@jupyter-widgets/base",
            "_model_module_version": "1.2.0",
            "_model_name": "LayoutModel",
            "_view_count": null,
            "_view_module": "@jupyter-widgets/base",
            "_view_module_version": "1.2.0",
            "_view_name": "LayoutView",
            "align_content": null,
            "align_items": null,
            "align_self": null,
            "border": null,
            "bottom": null,
            "display": null,
            "flex": null,
            "flex_flow": null,
            "grid_area": null,
            "grid_auto_columns": null,
            "grid_auto_flow": null,
            "grid_auto_rows": null,
            "grid_column": null,
            "grid_gap": null,
            "grid_row": null,
            "grid_template_areas": null,
            "grid_template_columns": null,
            "grid_template_rows": null,
            "height": null,
            "justify_content": null,
            "justify_items": null,
            "left": null,
            "margin": null,
            "max_height": null,
            "max_width": null,
            "min_height": null,
            "min_width": null,
            "object_fit": null,
            "object_position": null,
            "order": null,
            "overflow": null,
            "overflow_x": null,
            "overflow_y": null,
            "padding": null,
            "right": null,
            "top": null,
            "visibility": null,
            "width": null
          }
        },
        "1fb3797d500240629ea5b356e89a7d5f": {
          "model_module": "@jupyter-widgets/controls",
          "model_name": "DescriptionStyleModel",
          "model_module_version": "1.5.0",
          "state": {
            "_model_module": "@jupyter-widgets/controls",
            "_model_module_version": "1.5.0",
            "_model_name": "DescriptionStyleModel",
            "_view_count": null,
            "_view_module": "@jupyter-widgets/base",
            "_view_module_version": "1.2.0",
            "_view_name": "StyleView",
            "description_width": ""
          }
        },
        "7fb69b13ce72470cb2b7fad6a3c22617": {
          "model_module": "@jupyter-widgets/base",
          "model_name": "LayoutModel",
          "model_module_version": "1.2.0",
          "state": {
            "_model_module": "@jupyter-widgets/base",
            "_model_module_version": "1.2.0",
            "_model_name": "LayoutModel",
            "_view_count": null,
            "_view_module": "@jupyter-widgets/base",
            "_view_module_version": "1.2.0",
            "_view_name": "LayoutView",
            "align_content": null,
            "align_items": null,
            "align_self": null,
            "border": null,
            "bottom": null,
            "display": null,
            "flex": null,
            "flex_flow": null,
            "grid_area": null,
            "grid_auto_columns": null,
            "grid_auto_flow": null,
            "grid_auto_rows": null,
            "grid_column": null,
            "grid_gap": null,
            "grid_row": null,
            "grid_template_areas": null,
            "grid_template_columns": null,
            "grid_template_rows": null,
            "height": null,
            "justify_content": null,
            "justify_items": null,
            "left": null,
            "margin": null,
            "max_height": null,
            "max_width": null,
            "min_height": null,
            "min_width": null,
            "object_fit": null,
            "object_position": null,
            "order": null,
            "overflow": null,
            "overflow_x": null,
            "overflow_y": null,
            "padding": null,
            "right": null,
            "top": null,
            "visibility": null,
            "width": null
          }
        },
        "c13e9f95b8c941928d958dbf4fda368a": {
          "model_module": "@jupyter-widgets/controls",
          "model_name": "ProgressStyleModel",
          "model_module_version": "1.5.0",
          "state": {
            "_model_module": "@jupyter-widgets/controls",
            "_model_module_version": "1.5.0",
            "_model_name": "ProgressStyleModel",
            "_view_count": null,
            "_view_module": "@jupyter-widgets/base",
            "_view_module_version": "1.2.0",
            "_view_name": "StyleView",
            "bar_color": null,
            "description_width": ""
          }
        },
        "63edcc0ec8424f60b40a96e96e504a79": {
          "model_module": "@jupyter-widgets/base",
          "model_name": "LayoutModel",
          "model_module_version": "1.2.0",
          "state": {
            "_model_module": "@jupyter-widgets/base",
            "_model_module_version": "1.2.0",
            "_model_name": "LayoutModel",
            "_view_count": null,
            "_view_module": "@jupyter-widgets/base",
            "_view_module_version": "1.2.0",
            "_view_name": "LayoutView",
            "align_content": null,
            "align_items": null,
            "align_self": null,
            "border": null,
            "bottom": null,
            "display": null,
            "flex": null,
            "flex_flow": null,
            "grid_area": null,
            "grid_auto_columns": null,
            "grid_auto_flow": null,
            "grid_auto_rows": null,
            "grid_column": null,
            "grid_gap": null,
            "grid_row": null,
            "grid_template_areas": null,
            "grid_template_columns": null,
            "grid_template_rows": null,
            "height": null,
            "justify_content": null,
            "justify_items": null,
            "left": null,
            "margin": null,
            "max_height": null,
            "max_width": null,
            "min_height": null,
            "min_width": null,
            "object_fit": null,
            "object_position": null,
            "order": null,
            "overflow": null,
            "overflow_x": null,
            "overflow_y": null,
            "padding": null,
            "right": null,
            "top": null,
            "visibility": null,
            "width": null
          }
        },
        "7a23238bbc6c43669326a86406ce6689": {
          "model_module": "@jupyter-widgets/controls",
          "model_name": "DescriptionStyleModel",
          "model_module_version": "1.5.0",
          "state": {
            "_model_module": "@jupyter-widgets/controls",
            "_model_module_version": "1.5.0",
            "_model_name": "DescriptionStyleModel",
            "_view_count": null,
            "_view_module": "@jupyter-widgets/base",
            "_view_module_version": "1.2.0",
            "_view_name": "StyleView",
            "description_width": ""
          }
        }
      }
    }
  },
  "nbformat": 4,
  "nbformat_minor": 0
}